{
  "nbformat": 4,
  "nbformat_minor": 0,
  "metadata": {
    "colab": {
      "name": "Proyecto_Final_PLN_Corán.ipynb",
      "provenance": [],
      "collapsed_sections": []
    },
    "kernelspec": {
      "name": "python3",
      "display_name": "Python 3"
    },
    "language_info": {
      "name": "python"
    },
    "accelerator": "GPU"
  },
  "cells": [
    {
      "cell_type": "markdown",
      "metadata": {
        "id": "eHu5fIzX9Xlp"
      },
      "source": [
        "#Ejemplo: generar texto de cuentos, usando Keras"
      ]
    },
    {
      "cell_type": "markdown",
      "metadata": {
        "id": "4pt2vsI0l3kt"
      },
      "source": [
        "#Instalando librerias CUDA"
      ]
    },
    {
      "cell_type": "code",
      "metadata": {
        "colab": {
          "base_uri": "https://localhost:8080/"
        },
        "id": "_IxO9pK0l1r-",
        "outputId": "178542ae-a3b0-459c-d467-1e66bb38ef83"
      },
      "source": [
        "!nvcc --version  #Version de CUDA en la maquina virtual"
      ],
      "execution_count": 1,
      "outputs": [
        {
          "output_type": "stream",
          "name": "stdout",
          "text": [
            "nvcc: NVIDIA (R) Cuda compiler driver\n",
            "Copyright (c) 2005-2020 NVIDIA Corporation\n",
            "Built on Mon_Oct_12_20:09:46_PDT_2020\n",
            "Cuda compilation tools, release 11.1, V11.1.105\n",
            "Build cuda_11.1.TC455_06.29190527_0\n"
          ]
        }
      ]
    },
    {
      "cell_type": "markdown",
      "metadata": {
        "id": "O5WVmMwYt7Uk"
      },
      "source": [
        "##P0. importar librerias"
      ]
    },
    {
      "cell_type": "code",
      "metadata": {
        "id": "tGa1tvf5t5r4"
      },
      "source": [
        "import tensorflow as tf\n",
        "import timeit               #para medir tiempos\n",
        "import numpy as np\n",
        "import pandas as pd \n",
        "import os\n",
        "import time\n",
        "import sys"
      ],
      "execution_count": 2,
      "outputs": []
    },
    {
      "cell_type": "markdown",
      "metadata": {
        "id": "qiUW4gCdmZZw"
      },
      "source": [
        "#Uso de GPU para entrenar en tensorflow"
      ]
    },
    {
      "cell_type": "code",
      "metadata": {
        "id": "DXlRSrBJrK9T",
        "colab": {
          "base_uri": "https://localhost:8080/"
        },
        "outputId": "782bbd6b-6974-490c-8ed5-bbd4fcf06f94"
      },
      "source": [
        "print(\"Tensorflow Version: \", tf.__version__)\n",
        "print(\"Dispositivos disponibles para entrenar: \", tf.config.list_physical_devices())\n",
        "device_name = tf.test.gpu_device_name()\n",
        "if device_name != '/device:GPU:0':\n",
        "  raise SystemError('GPU device not found')\n",
        "print('Encontrada la GPU: {}'.format(device_name))"
      ],
      "execution_count": 3,
      "outputs": [
        {
          "output_type": "stream",
          "name": "stdout",
          "text": [
            "Tensorflow Version:  2.7.0\n",
            "Dispositivos disponibles para entrenar:  [PhysicalDevice(name='/physical_device:CPU:0', device_type='CPU'), PhysicalDevice(name='/physical_device:GPU:0', device_type='GPU')]\n",
            "Encontrada la GPU: /device:GPU:0\n"
          ]
        }
      ]
    },
    {
      "cell_type": "markdown",
      "metadata": {
        "id": "5HkvfQB7mfDe"
      },
      "source": [
        "#Dejando activo la GPU"
      ]
    },
    {
      "cell_type": "code",
      "metadata": {
        "colab": {
          "base_uri": "https://localhost:8080/"
        },
        "id": "E9E2ihO2rLjM",
        "outputId": "9bccd55a-9618-4531-9dbe-8f36e863b56d"
      },
      "source": [
        "#tf.device('/gpu:0') #activando la CPU\n",
        "tf.device('/device:GPU:0') #activando la GPU"
      ],
      "execution_count": 4,
      "outputs": [
        {
          "output_type": "execute_result",
          "data": {
            "text/plain": [
              "<tensorflow.python.eager.context._EagerDeviceContext at 0x7f56c007bb90>"
            ]
          },
          "metadata": {},
          "execution_count": 4
        }
      ]
    },
    {
      "cell_type": "markdown",
      "metadata": {
        "id": "9Ot0vNyP9jlQ"
      },
      "source": [
        "##P0. Descarga y preprocesado de los datos"
      ]
    },
    {
      "cell_type": "code",
      "metadata": {
        "id": "6PETkDFl3Mff",
        "colab": {
          "base_uri": "https://localhost:8080/"
        },
        "outputId": "5a85526c-f1b5-488d-e73f-cf03cebd6e27"
      },
      "source": [
        "fileDL= tf.keras.utils.get_file('coran.txt','https://raw.githubusercontent.com/Julianjimenez98/DeepLearning/main/coran.txt')\n",
        "texto = open(fileDL, 'rb').read().decode(encoding='utf-8-sig')"
      ],
      "execution_count": 5,
      "outputs": [
        {
          "output_type": "stream",
          "name": "stdout",
          "text": [
            "Downloading data from https://raw.githubusercontent.com/Julianjimenez98/DeepLearning/main/coran.txt\n",
            "737280/736593 [==============================] - 0s 0us/step\n",
            "745472/736593 [==============================] - 0s 0us/step\n"
          ]
        }
      ]
    },
    {
      "cell_type": "markdown",
      "metadata": {
        "id": "i-Qr24Chypjd"
      },
      "source": [
        "##P1. entendiendo el texto"
      ]
    },
    {
      "cell_type": "code",
      "metadata": {
        "colab": {
          "base_uri": "https://localhost:8080/"
        },
        "id": "TpxHpVkcys57",
        "outputId": "c10a3ff3-2f29-46a9-e759-d8845fcd7da5"
      },
      "source": [
        "print('el texto tiene longitud de:{} caracteres'. format(len(texto)))\n",
        "vocab = sorted(set(texto))\n",
        "print('el texto esta compuesto de estos :{} caracteres'. format(len(vocab)))\n",
        "print(vocab)"
      ],
      "execution_count": 6,
      "outputs": [
        {
          "output_type": "stream",
          "name": "stdout",
          "text": [
            "el texto tiene longitud de:735146 caracteres\n",
            "el texto esta compuesto de estos :31 caracteres\n",
            "[' ', ',', '.', 'a', 'b', 'c', 'd', 'e', 'f', 'g', 'h', 'i', 'j', 'k', 'l', 'm', 'n', 'o', 'p', 'q', 'r', 's', 't', 'u', 'v', 'w', 'x', 'y', 'z', 'ñ', '‚']\n"
          ]
        }
      ]
    },
    {
      "cell_type": "markdown",
      "metadata": {
        "id": "xPUI-QIDy7Mm"
      },
      "source": [
        "##P2. pasar el texto a números\n",
        "\n",
        "---\n",
        "as redes neuronales solo procesan valores numéricos, no letras, por tanto tenemos que traducir los caracteres a representación numérica. Para ello crearemos dos “tablas de traducción”: una de caracteres a números y otra de números a caracteres"
      ]
    },
    {
      "cell_type": "code",
      "metadata": {
        "id": "YUZb1tLVzIke",
        "colab": {
          "base_uri": "https://localhost:8080/"
        },
        "outputId": "21f8cad6-66a4-4f75-9fa1-19db7e3bfacb"
      },
      "source": [
        "char2idx = {u:i for i, u in enumerate(vocab)} # asignamos un número a cada vocablo\n",
        "idx2char = np.array(vocab)\n",
        "#-----------revisando las conversiones\n",
        "#for char,_ in zip(char2idx, range(len(vocab))):\n",
        "#    print(' {:4s}: {:3d},'.format(repr(char),char2idx[char]))\n",
        "\n",
        "#pasamos todo el texto a números\n",
        "texto_como_entero= np.array([char2idx[c] for c in texto])\n",
        "print('texto: {}'.format(repr(texto[:100])))\n",
        "print('{}'.format(repr(texto_como_entero[:100])))"
      ],
      "execution_count": 7,
      "outputs": [
        {
          "output_type": "stream",
          "name": "stdout",
          "text": [
            "texto: 'los musulmanes shiitas de el salvador,atraves de la biblioteca islamica fatima hazzahra,hemos realiz'\n",
            "array([14, 17, 21,  0, 15, 23, 21, 23, 14, 15,  3, 16,  7, 21,  0, 21, 10,\n",
            "       11, 11, 22,  3, 21,  0,  6,  7,  0,  7, 14,  0, 21,  3, 14, 24,  3,\n",
            "        6, 17, 20,  1,  3, 22, 20,  3, 24,  7, 21,  0,  6,  7,  0, 14,  3,\n",
            "        0,  4, 11,  4, 14, 11, 17, 22,  7,  5,  3,  0, 11, 21, 14,  3, 15,\n",
            "       11,  5,  3,  0,  8,  3, 22, 11, 15,  3,  0, 10,  3, 28, 28,  3, 10,\n",
            "       20,  3,  1, 10,  7, 15, 17, 21,  0, 20,  7,  3, 14, 11, 28])\n"
          ]
        }
      ]
    },
    {
      "cell_type": "markdown",
      "metadata": {
        "id": "wSnSDV9Am-UZ"
      },
      "source": [
        "#P2.1 Exportar vocablos y matriz de numerica"
      ]
    },
    {
      "cell_type": "code",
      "metadata": {
        "id": "q6UEVjHfnC5O"
      },
      "source": [
        "rows=[]\n",
        "columns=['num','vocab']\n",
        "for i, voc in enumerate(vocab):\n",
        "  #print(i,'-->', voc)\n",
        "  rows.append([i,voc])\n",
        "df= pd.DataFrame(columns=['num','vocab'],data=rows)\n",
        "df.head(10)\n",
        "df.to_csv('coran_data_vocab.csv',index=False)"
      ],
      "execution_count": 8,
      "outputs": []
    },
    {
      "cell_type": "markdown",
      "metadata": {
        "id": "kIT7JzLG4LIs"
      },
      "source": [
        "##P3. preparar los datos para ser usados en la RNN"
      ]
    },
    {
      "cell_type": "code",
      "metadata": {
        "id": "ky_cT7xN4OiO",
        "colab": {
          "base_uri": "https://localhost:8080/"
        },
        "outputId": "90b056d6-4169-4f7f-81cf-53d3186fbf41"
      },
      "source": [
        "char_dataset= tf.data.Dataset.from_tensor_slices(texto_como_entero)\n",
        "#cantidad de secuencia de caracteres\n",
        "secu_length=300\n",
        "#creamos secuencias de maximo 100 caractereres\n",
        "secuencias= char_dataset.batch(secu_length+1, drop_remainder=True)\n",
        "for item in secuencias.take(10):\n",
        "  print(repr(''.join(idx2char[item.numpy()])))"
      ],
      "execution_count": 9,
      "outputs": [
        {
          "output_type": "stream",
          "name": "stdout",
          "text": [
            "'los musulmanes shiitas de el salvador,atraves de la biblioteca islamica fatima hazzahra,hemos realizado con mucho amor y dedicacion para el engrandecimiento del islam,la presente edicion del coran,libro bendito,que constituye la culminacion de los mensajes que ala ha enviado a traves de todas las epo'\n",
            "'cas a la humanidad,por medio de sus mensajeros y profetas.en el se encuentra la contestacion a nuestras mas intrinsecas interrogantes,los diversos topicos de interes para el ser humano,las enseñanzas que nos guian hacia el dios unico alabado y exaltado sea.de tan vital importancia es para los creyent'\n",
            "'es y las creyentes,pues constituye su primera fuente de consulta.sin embargo,acontece que en la mayoria de los paises latinoamericanos es dificil adquirir una version en nuestra lengua de tan generoso texto,el cual es indubitablemente la escritura por excelencia,el libro que ha dado origen a millones'\n",
            "' de libros mas.es por ello,que nuestro objetivo primordial ha sido proporcionar al lector un texto electronico,que gracias a su formato,le resulte facil y economico de imprimir en casa,desde cualquier computador personal.para un optimo resultado,este,al igual que la mayoria de nuestras publicaciones '\n",
            "'digitales debera ser impreso en papel tamaño carta letter.hemos utilizado la version castellana mas popular en internet,la del linguista español julio cortes,sin embargo se ha redigitado completamente,teniendo como modelo la edicion publicada por la fundacion moytaba musavi lari,de qom,iran.el coran '\n",
            "'es una transcripcion literal de la revelacion divina hecha por ala al profeta muhammad,por medio del angel gabriel,a lo largo deaños de su vida.nunca ha sido modificado,por lo que sussuras capitulos continuan,siendo,el mismo texto milagroso de hace catorce siglos,el cual tendra vigencia hasta el fina'\n",
            "'l de los tiempos.suraalfatihah exordiomecana,dealeyasen el nombre de ala,el compasivo,el misericordiosoalabado sea ala,señor del universo,el compasivo,el misericordioso,dueño del dia del juicio,a ti solo servimos y a ti solo imploramos ayuda.dirigenos por la via recta,la via de los que tu has agracia'\n",
            "'do,no de los que han incurrido en la ira,ni de los extraviados.suraalbaqarah la vacamedinesa,dealeyasen el nombre de ala,el compasivo,el misericordiosolm.esta es la escritura,exenta de dudas,como direccion para los temerosos de ala,que creen en lo oculto,hacen la azala y dan limosna de lo que les hem'\n",
            "'os proveido,creen en lo que se te ha revelado a ti y antes de ti,y estan convencidos de la otra vida.esos son los dirigidos por su señor y esos los que prosperaran.da lo mismo que adviertas o no a los infieles no creen.ala ha sellado sus corazones y oidos una venda cubre sus ojos y tendran un castigo'\n",
            "' terrible.hay entre los hombres quienes dicen creemos en ala y en el ultimo dia,pero no creen.tratan de engañar a ala y a los que creen pero,sin darse cuenta,solo se engañan a si mismos.sus corazones estan enfermos y ala les ha agravado su enfermedad.tendran un castigo doloroso por haber mentido.cuan'\n"
          ]
        }
      ]
    },
    {
      "cell_type": "markdown",
      "metadata": {
        "id": "Xz5cEwf6_bpv"
      },
      "source": [
        "###P3.1 separar los datos en agrupamientos (batches)"
      ]
    },
    {
      "cell_type": "code",
      "metadata": {
        "id": "-l6Tobzz7hww",
        "colab": {
          "base_uri": "https://localhost:8080/"
        },
        "outputId": "7c578588-bbf2-4e85-9c99-824b8646a57e"
      },
      "source": [
        "#funcion para obtener el conjunto de datos de trainning\n",
        "def split_input_target(chunk):\n",
        "  input_text = chunk[:-1]\n",
        "  target_text= chunk[1:]\n",
        "  return input_text, target_text\n",
        "\n",
        "dataset  = secuencias.map(split_input_target)\n",
        "#el dataset contiene un conjunto de parejas de secuencia de texto\n",
        "#(con la representación numérica de los caracteres), donde el \n",
        "#primer componente de la pareja contiene un paquete con una secuencia \n",
        "#de 100 caracteres del texto original y la segunda su correspondiente salida, \n",
        "#también de 100 caracteres. )\n",
        "for input_example, target_example in dataset.take(1):\n",
        "  print('input data: ', repr(''.join(idx2char[input_example.numpy()])))\n",
        "  print('Target data: ', repr(''.join(idx2char[target_example.numpy()])))"
      ],
      "execution_count": 10,
      "outputs": [
        {
          "output_type": "stream",
          "name": "stdout",
          "text": [
            "input data:  'los musulmanes shiitas de el salvador,atraves de la biblioteca islamica fatima hazzahra,hemos realizado con mucho amor y dedicacion para el engrandecimiento del islam,la presente edicion del coran,libro bendito,que constituye la culminacion de los mensajes que ala ha enviado a traves de todas las ep'\n",
            "Target data:  'os musulmanes shiitas de el salvador,atraves de la biblioteca islamica fatima hazzahra,hemos realizado con mucho amor y dedicacion para el engrandecimiento del islam,la presente edicion del coran,libro bendito,que constituye la culminacion de los mensajes que ala ha enviado a traves de todas las epo'\n"
          ]
        }
      ]
    },
    {
      "cell_type": "code",
      "metadata": {
        "colab": {
          "base_uri": "https://localhost:8080/"
        },
        "id": "8UM54Sfe9x80",
        "outputId": "378a205f-f5a7-4271-d921-537bc06875ba"
      },
      "source": [
        "#imprimimos el tensor del dataset\n",
        "print(dataset)\n",
        "#Hyper-Parametros para entrenamiento  de una rede neuronal \n",
        "#   -los datos se agrupan en batch\n",
        "BATCH_SIZE= 128\n",
        "#    -Tamaño de memoria disponible \n",
        "BUFFER_SIZE=10000\n",
        "dataset= dataset.shuffle(BUFFER_SIZE).batch(BATCH_SIZE, drop_remainder=True)\n",
        "print (dataset)"
      ],
      "execution_count": 11,
      "outputs": [
        {
          "output_type": "stream",
          "name": "stdout",
          "text": [
            "<MapDataset shapes: ((300,), (300,)), types: (tf.int64, tf.int64)>\n",
            "<BatchDataset shapes: ((128, 300), (128, 300)), types: (tf.int64, tf.int64)>\n"
          ]
        }
      ]
    },
    {
      "cell_type": "markdown",
      "metadata": {
        "id": "kDFFru4s_jon"
      },
      "source": [
        "##P4.Construcción del modelo RNN\n",
        "\n",
        "---\n",
        "Para construir el modelo usaremos tf.keras.Sequential. Usaremos una versión mínima de RNN, que contenga solo una capa LSTM y 3 capas.\n"
      ]
    },
    {
      "cell_type": "code",
      "metadata": {
        "colab": {
          "base_uri": "https://localhost:8080/"
        },
        "id": "Ox_5lKZh_qUN",
        "outputId": "37007770-db77-4833-f59a-5bdf4c1e5dea"
      },
      "source": [
        "#como es un problema de clasificación estándar \n",
        "#para el que debemos definir la función de Lossy el optimizador.\n",
        "def lossy(labels, logits):\n",
        "  return tf.keras.losses.sparse_categorical_crossentropy(labels, logits, from_logits=True)\n",
        "\n",
        "def create_model(vocab_size, embedding_dim, rnn_units, batch_size):\n",
        "  #creando el modelo\n",
        "  model = tf.keras.Sequential([\n",
        "    tf.keras.layers.Embedding(vocab_size, embedding_dim,\n",
        "                              batch_input_shape=[batch_size, None]),\n",
        "    tf.keras.layers.LSTM(rnn_units,\n",
        "                         return_sequences=True,\n",
        "                         stateful=True,\n",
        "                         recurrent_initializer='glorot_uniform'),\n",
        "    tf.keras.layers.Dense(vocab_size)                               \n",
        "  ])\n",
        "  #En cuanto al optimizador usaremos tf.keras.optimizers.Adam \n",
        "  #con los argumentos por defecto del optimizador Adam. \n",
        "  model.compile(optimizer='rmsprop',\n",
        "              loss=lossy,\n",
        "              metrics=['accuracy'])\n",
        "  return model\n",
        "vocab_size= len(vocab)\n",
        "#dimensiones de los vectores que tendrá la capa.\n",
        "embedding_dim= 1024\n",
        "#cantidad de neuronas\n",
        "rnn_units=1024\n",
        "#creamos nuestra red neuronal RNN\n",
        "model=create_model(vocab_size   =vocab_size,\n",
        "                  embedding_dim =embedding_dim,\n",
        "                  rnn_units     =rnn_units,\n",
        "                  batch_size    =BATCH_SIZE)\n",
        "#summary()para visualizar la estructura del modelo\n",
        "model.summary()\n",
        "#resultados=  -La capa LSTM consta más de 5 millones de parametros)"
      ],
      "execution_count": 12,
      "outputs": [
        {
          "output_type": "stream",
          "name": "stdout",
          "text": [
            "Model: \"sequential\"\n",
            "_________________________________________________________________\n",
            " Layer (type)                Output Shape              Param #   \n",
            "=================================================================\n",
            " embedding (Embedding)       (128, None, 1024)         31744     \n",
            "                                                                 \n",
            " lstm (LSTM)                 (128, None, 1024)         8392704   \n",
            "                                                                 \n",
            " dense (Dense)               (128, None, 31)           31775     \n",
            "                                                                 \n",
            "=================================================================\n",
            "Total params: 8,456,223\n",
            "Trainable params: 8,456,223\n",
            "Non-trainable params: 0\n",
            "_________________________________________________________________\n"
          ]
        }
      ]
    },
    {
      "cell_type": "markdown",
      "metadata": {
        "id": "dPnll1ubFvZO"
      },
      "source": [
        "###P4.1 Creando chekpoints\n",
        "\n",
        "---\n",
        "una técnica de tolerancia de fallos para procesos cuyo tiempo de ejecución es muy largo. La idea es guardar una instantánea del estado del sistema periódicamente para recuperar desde ese punto la ejecución en caso de fallo del sistema.\n",
        "\n",
        "---\n",
        "los crearemos en google drive para mejorar la capacidad de reentrenamiento de la red\n"
      ]
    },
    {
      "cell_type": "code",
      "metadata": {
        "colab": {
          "base_uri": "https://localhost:8080/"
        },
        "id": "L24WhqeauMWk",
        "outputId": "368dbf5e-c899-44bd-e4a1-8fde5d49c554"
      },
      "source": [
        "from google.colab import drive\n",
        "drive.mount('/content/gdrive')"
      ],
      "execution_count": 13,
      "outputs": [
        {
          "output_type": "stream",
          "name": "stdout",
          "text": [
            "Mounted at /content/gdrive\n"
          ]
        }
      ]
    },
    {
      "cell_type": "code",
      "metadata": {
        "id": "XbeXxiWLF5hN"
      },
      "source": [
        "checkpoint_dir='/content/gdrive/MyDrive/Colab Notebooks/checkpoints_proyecto_final/'\n",
        "checkpoint_prefix= os.path.join(checkpoint_dir,\"cp_{epoch:04d}.ckpt\")\n",
        "\n",
        "cp_callback=tf.keras.callbacks.ModelCheckpoint(filepath=checkpoint_prefix,\n",
        "                                               monitor='loss',\n",
        "                                               verbose=1,\n",
        "                                               save_weights_only=True,\n",
        "                                               save_best_only=True,\n",
        "                                               mode='auto')"
      ],
      "execution_count": 14,
      "outputs": []
    },
    {
      "cell_type": "markdown",
      "metadata": {
        "id": "trmMLMjxGjuP"
      },
      "source": [
        "###P4.2 entrenando"
      ]
    },
    {
      "cell_type": "markdown",
      "metadata": {
        "id": "LPXvQuLrQEAF"
      },
      "source": [
        "####P4.2a entrenando para usar chekpoints"
      ]
    },
    {
      "cell_type": "code",
      "metadata": {
        "id": "9l5cnXgLQI7H",
        "colab": {
          "base_uri": "https://localhost:8080/"
        },
        "outputId": "8f5a5074-a800-4adc-b790-80cc2c110b6d"
      },
      "source": [
        "EPOCHS=50\n",
        "history=model.fit(dataset, \n",
        "                  epochs=EPOCHS, \n",
        "                  verbose=1,\n",
        "                  callbacks=[cp_callback])"
      ],
      "execution_count": null,
      "outputs": [
        {
          "output_type": "stream",
          "name": "stdout",
          "text": [
            "Epoch 1/50\n",
            "19/19 [==============================] - ETA: 0s - loss: 2.9915 - accuracy: 0.1969\n",
            "Epoch 00001: loss improved from inf to 2.99146, saving model to /content/gdrive/MyDrive/Colab Notebooks/checkpoints_proyecto_final/cp_0001.ckpt\n",
            "19/19 [==============================] - 22s 1s/step - loss: 2.9915 - accuracy: 0.1969\n",
            "Epoch 2/50\n",
            "19/19 [==============================] - ETA: 0s - loss: 2.4280 - accuracy: 0.2519\n",
            "Epoch 00002: loss improved from 2.99146 to 2.42795, saving model to /content/gdrive/MyDrive/Colab Notebooks/checkpoints_proyecto_final/cp_0002.ckpt\n",
            "19/19 [==============================] - 22s 1s/step - loss: 2.4280 - accuracy: 0.2519\n",
            "Epoch 3/50\n",
            "19/19 [==============================] - ETA: 0s - loss: 2.2845 - accuracy: 0.2808\n",
            "Epoch 00003: loss improved from 2.42795 to 2.28450, saving model to /content/gdrive/MyDrive/Colab Notebooks/checkpoints_proyecto_final/cp_0003.ckpt\n",
            "19/19 [==============================] - 22s 1s/step - loss: 2.2845 - accuracy: 0.2808\n",
            "Epoch 4/50\n",
            "19/19 [==============================] - ETA: 0s - loss: 2.1909 - accuracy: 0.3073\n",
            "Epoch 00004: loss improved from 2.28450 to 2.19087, saving model to /content/gdrive/MyDrive/Colab Notebooks/checkpoints_proyecto_final/cp_0004.ckpt\n",
            "19/19 [==============================] - 22s 1s/step - loss: 2.1909 - accuracy: 0.3073\n",
            "Epoch 5/50\n",
            "19/19 [==============================] - ETA: 0s - loss: 2.0904 - accuracy: 0.3361\n",
            "Epoch 00005: loss improved from 2.19087 to 2.09041, saving model to /content/gdrive/MyDrive/Colab Notebooks/checkpoints_proyecto_final/cp_0005.ckpt\n",
            "19/19 [==============================] - 22s 1s/step - loss: 2.0904 - accuracy: 0.3361\n",
            "Epoch 6/50\n",
            "19/19 [==============================] - ETA: 0s - loss: 2.0066 - accuracy: 0.3601\n",
            "Epoch 00006: loss improved from 2.09041 to 2.00658, saving model to /content/gdrive/MyDrive/Colab Notebooks/checkpoints_proyecto_final/cp_0006.ckpt\n",
            "19/19 [==============================] - 22s 1s/step - loss: 2.0066 - accuracy: 0.3601\n",
            "Epoch 7/50\n",
            "19/19 [==============================] - ETA: 0s - loss: 1.9159 - accuracy: 0.3871\n",
            "Epoch 00007: loss improved from 2.00658 to 1.91590, saving model to /content/gdrive/MyDrive/Colab Notebooks/checkpoints_proyecto_final/cp_0007.ckpt\n",
            "19/19 [==============================] - 22s 1s/step - loss: 1.9159 - accuracy: 0.3871\n",
            "Epoch 8/50\n",
            "19/19 [==============================] - ETA: 0s - loss: 1.8336 - accuracy: 0.4130\n",
            "Epoch 00008: loss improved from 1.91590 to 1.83364, saving model to /content/gdrive/MyDrive/Colab Notebooks/checkpoints_proyecto_final/cp_0008.ckpt\n",
            "19/19 [==============================] - 22s 1s/step - loss: 1.8336 - accuracy: 0.4130\n",
            "Epoch 9/50\n",
            "19/19 [==============================] - ETA: 0s - loss: 1.7585 - accuracy: 0.4388\n",
            "Epoch 00009: loss improved from 1.83364 to 1.75853, saving model to /content/gdrive/MyDrive/Colab Notebooks/checkpoints_proyecto_final/cp_0009.ckpt\n",
            "19/19 [==============================] - 22s 1s/step - loss: 1.7585 - accuracy: 0.4388\n",
            "Epoch 10/50\n",
            "19/19 [==============================] - ETA: 0s - loss: 1.6835 - accuracy: 0.4640\n",
            "Epoch 00010: loss improved from 1.75853 to 1.68350, saving model to /content/gdrive/MyDrive/Colab Notebooks/checkpoints_proyecto_final/cp_0010.ckpt\n",
            "19/19 [==============================] - 22s 1s/step - loss: 1.6835 - accuracy: 0.4640\n",
            "Epoch 11/50\n",
            "19/19 [==============================] - ETA: 0s - loss: 1.6150 - accuracy: 0.4887\n",
            "Epoch 00011: loss improved from 1.68350 to 1.61504, saving model to /content/gdrive/MyDrive/Colab Notebooks/checkpoints_proyecto_final/cp_0011.ckpt\n",
            "19/19 [==============================] - 22s 1s/step - loss: 1.6150 - accuracy: 0.4887\n",
            "Epoch 12/50\n",
            "19/19 [==============================] - ETA: 0s - loss: 1.5567 - accuracy: 0.5089\n",
            "Epoch 00012: loss improved from 1.61504 to 1.55671, saving model to /content/gdrive/MyDrive/Colab Notebooks/checkpoints_proyecto_final/cp_0012.ckpt\n",
            "19/19 [==============================] - 22s 1s/step - loss: 1.5567 - accuracy: 0.5089\n",
            "Epoch 13/50\n",
            "19/19 [==============================] - ETA: 0s - loss: 1.5040 - accuracy: 0.5264\n",
            "Epoch 00013: loss improved from 1.55671 to 1.50402, saving model to /content/gdrive/MyDrive/Colab Notebooks/checkpoints_proyecto_final/cp_0013.ckpt\n",
            "19/19 [==============================] - 22s 1s/step - loss: 1.5040 - accuracy: 0.5264\n",
            "Epoch 14/50\n",
            "19/19 [==============================] - ETA: 0s - loss: 1.4520 - accuracy: 0.5439\n",
            "Epoch 00014: loss improved from 1.50402 to 1.45203, saving model to /content/gdrive/MyDrive/Colab Notebooks/checkpoints_proyecto_final/cp_0014.ckpt\n",
            "19/19 [==============================] - 22s 1s/step - loss: 1.4520 - accuracy: 0.5439\n",
            "Epoch 15/50\n",
            "19/19 [==============================] - ETA: 0s - loss: 1.4097 - accuracy: 0.5565\n",
            "Epoch 00015: loss improved from 1.45203 to 1.40971, saving model to /content/gdrive/MyDrive/Colab Notebooks/checkpoints_proyecto_final/cp_0015.ckpt\n",
            "19/19 [==============================] - 22s 1s/step - loss: 1.4097 - accuracy: 0.5565\n",
            "Epoch 16/50\n",
            "19/19 [==============================] - ETA: 0s - loss: 1.3721 - accuracy: 0.5690\n",
            "Epoch 00016: loss improved from 1.40971 to 1.37210, saving model to /content/gdrive/MyDrive/Colab Notebooks/checkpoints_proyecto_final/cp_0016.ckpt\n",
            "19/19 [==============================] - 22s 1s/step - loss: 1.3721 - accuracy: 0.5690\n",
            "Epoch 17/50\n",
            "19/19 [==============================] - ETA: 0s - loss: 1.3329 - accuracy: 0.5818\n",
            "Epoch 00017: loss improved from 1.37210 to 1.33289, saving model to /content/gdrive/MyDrive/Colab Notebooks/checkpoints_proyecto_final/cp_0017.ckpt\n",
            "19/19 [==============================] - 22s 1s/step - loss: 1.3329 - accuracy: 0.5818\n",
            "Epoch 18/50\n",
            "19/19 [==============================] - ETA: 0s - loss: 1.3021 - accuracy: 0.5913\n",
            "Epoch 00018: loss improved from 1.33289 to 1.30214, saving model to /content/gdrive/MyDrive/Colab Notebooks/checkpoints_proyecto_final/cp_0018.ckpt\n",
            "19/19 [==============================] - 22s 1s/step - loss: 1.3021 - accuracy: 0.5913\n",
            "Epoch 19/50\n",
            "19/19 [==============================] - ETA: 0s - loss: 1.2689 - accuracy: 0.6011\n",
            "Epoch 00019: loss improved from 1.30214 to 1.26888, saving model to /content/gdrive/MyDrive/Colab Notebooks/checkpoints_proyecto_final/cp_0019.ckpt\n",
            "19/19 [==============================] - 22s 1s/step - loss: 1.2689 - accuracy: 0.6011\n",
            "Epoch 20/50\n",
            "19/19 [==============================] - ETA: 0s - loss: 1.2415 - accuracy: 0.6106\n",
            "Epoch 00020: loss improved from 1.26888 to 1.24153, saving model to /content/gdrive/MyDrive/Colab Notebooks/checkpoints_proyecto_final/cp_0020.ckpt\n",
            "19/19 [==============================] - 22s 1s/step - loss: 1.2415 - accuracy: 0.6106\n",
            "Epoch 21/50\n",
            "19/19 [==============================] - ETA: 0s - loss: 1.2145 - accuracy: 0.6188\n",
            "Epoch 00021: loss improved from 1.24153 to 1.21454, saving model to /content/gdrive/MyDrive/Colab Notebooks/checkpoints_proyecto_final/cp_0021.ckpt\n",
            "19/19 [==============================] - 22s 1s/step - loss: 1.2145 - accuracy: 0.6188\n",
            "Epoch 22/50\n",
            "19/19 [==============================] - ETA: 0s - loss: 1.1913 - accuracy: 0.6258\n",
            "Epoch 00022: loss improved from 1.21454 to 1.19133, saving model to /content/gdrive/MyDrive/Colab Notebooks/checkpoints_proyecto_final/cp_0022.ckpt\n",
            "19/19 [==============================] - 22s 1s/step - loss: 1.1913 - accuracy: 0.6258\n",
            "Epoch 23/50\n",
            "19/19 [==============================] - ETA: 0s - loss: 1.1666 - accuracy: 0.6329\n",
            "Epoch 00023: loss improved from 1.19133 to 1.16660, saving model to /content/gdrive/MyDrive/Colab Notebooks/checkpoints_proyecto_final/cp_0023.ckpt\n",
            "19/19 [==============================] - 22s 1s/step - loss: 1.1666 - accuracy: 0.6329\n",
            "Epoch 24/50\n",
            "19/19 [==============================] - ETA: 0s - loss: 1.1462 - accuracy: 0.6394\n",
            "Epoch 00024: loss improved from 1.16660 to 1.14618, saving model to /content/gdrive/MyDrive/Colab Notebooks/checkpoints_proyecto_final/cp_0024.ckpt\n",
            "19/19 [==============================] - 22s 1s/step - loss: 1.1462 - accuracy: 0.6394\n",
            "Epoch 25/50\n",
            "19/19 [==============================] - ETA: 0s - loss: 1.1237 - accuracy: 0.6460\n",
            "Epoch 00025: loss improved from 1.14618 to 1.12369, saving model to /content/gdrive/MyDrive/Colab Notebooks/checkpoints_proyecto_final/cp_0025.ckpt\n",
            "19/19 [==============================] - 22s 1s/step - loss: 1.1237 - accuracy: 0.6460\n",
            "Epoch 26/50\n",
            "19/19 [==============================] - ETA: 0s - loss: 1.1042 - accuracy: 0.6524\n",
            "Epoch 00026: loss improved from 1.12369 to 1.10417, saving model to /content/gdrive/MyDrive/Colab Notebooks/checkpoints_proyecto_final/cp_0026.ckpt\n",
            "19/19 [==============================] - 22s 1s/step - loss: 1.1042 - accuracy: 0.6524\n",
            "Epoch 27/50\n",
            "19/19 [==============================] - ETA: 0s - loss: 1.0839 - accuracy: 0.6591\n",
            "Epoch 00027: loss improved from 1.10417 to 1.08394, saving model to /content/gdrive/MyDrive/Colab Notebooks/checkpoints_proyecto_final/cp_0027.ckpt\n",
            "19/19 [==============================] - 22s 1s/step - loss: 1.0839 - accuracy: 0.6591\n",
            "Epoch 28/50\n",
            "19/19 [==============================] - ETA: 0s - loss: 1.0649 - accuracy: 0.6652\n",
            "Epoch 00028: loss improved from 1.08394 to 1.06491, saving model to /content/gdrive/MyDrive/Colab Notebooks/checkpoints_proyecto_final/cp_0028.ckpt\n",
            "19/19 [==============================] - 22s 1s/step - loss: 1.0649 - accuracy: 0.6652\n",
            "Epoch 29/50\n",
            "19/19 [==============================] - ETA: 0s - loss: 1.0479 - accuracy: 0.6704\n",
            "Epoch 00029: loss improved from 1.06491 to 1.04791, saving model to /content/gdrive/MyDrive/Colab Notebooks/checkpoints_proyecto_final/cp_0029.ckpt\n",
            "19/19 [==============================] - 22s 1s/step - loss: 1.0479 - accuracy: 0.6704\n",
            "Epoch 30/50\n",
            "19/19 [==============================] - ETA: 0s - loss: 1.0293 - accuracy: 0.6756\n",
            "Epoch 00030: loss improved from 1.04791 to 1.02926, saving model to /content/gdrive/MyDrive/Colab Notebooks/checkpoints_proyecto_final/cp_0030.ckpt\n",
            "19/19 [==============================] - 22s 1s/step - loss: 1.0293 - accuracy: 0.6756\n",
            "Epoch 31/50\n",
            "19/19 [==============================] - ETA: 0s - loss: 1.0139 - accuracy: 0.6814\n",
            "Epoch 00031: loss improved from 1.02926 to 1.01387, saving model to /content/gdrive/MyDrive/Colab Notebooks/checkpoints_proyecto_final/cp_0031.ckpt\n",
            "19/19 [==============================] - 22s 1s/step - loss: 1.0139 - accuracy: 0.6814\n",
            "Epoch 32/50\n",
            "19/19 [==============================] - ETA: 0s - loss: 0.9948 - accuracy: 0.6870\n",
            "Epoch 00032: loss improved from 1.01387 to 0.99481, saving model to /content/gdrive/MyDrive/Colab Notebooks/checkpoints_proyecto_final/cp_0032.ckpt\n",
            "19/19 [==============================] - 22s 1s/step - loss: 0.9948 - accuracy: 0.6870\n",
            "Epoch 33/50\n",
            "19/19 [==============================] - ETA: 0s - loss: 0.9778 - accuracy: 0.6924\n",
            "Epoch 00033: loss improved from 0.99481 to 0.97784, saving model to /content/gdrive/MyDrive/Colab Notebooks/checkpoints_proyecto_final/cp_0033.ckpt\n",
            "19/19 [==============================] - 22s 1s/step - loss: 0.9778 - accuracy: 0.6924\n",
            "Epoch 34/50\n",
            "19/19 [==============================] - ETA: 0s - loss: 0.9590 - accuracy: 0.6984\n",
            "Epoch 00034: loss improved from 0.97784 to 0.95904, saving model to /content/gdrive/MyDrive/Colab Notebooks/checkpoints_proyecto_final/cp_0034.ckpt\n",
            "19/19 [==============================] - 22s 1s/step - loss: 0.9590 - accuracy: 0.6984\n",
            "Epoch 35/50\n",
            "19/19 [==============================] - ETA: 0s - loss: 0.9444 - accuracy: 0.7033\n",
            "Epoch 00035: loss improved from 0.95904 to 0.94437, saving model to /content/gdrive/MyDrive/Colab Notebooks/checkpoints_proyecto_final/cp_0035.ckpt\n",
            "19/19 [==============================] - 22s 1s/step - loss: 0.9444 - accuracy: 0.7033\n",
            "Epoch 36/50\n",
            "19/19 [==============================] - ETA: 0s - loss: 0.9279 - accuracy: 0.7088\n",
            "Epoch 00036: loss improved from 0.94437 to 0.92795, saving model to /content/gdrive/MyDrive/Colab Notebooks/checkpoints_proyecto_final/cp_0036.ckpt\n",
            "19/19 [==============================] - 22s 1s/step - loss: 0.9279 - accuracy: 0.7088\n",
            "Epoch 37/50\n",
            "19/19 [==============================] - ETA: 0s - loss: 0.9108 - accuracy: 0.7142\n",
            "Epoch 00037: loss improved from 0.92795 to 0.91077, saving model to /content/gdrive/MyDrive/Colab Notebooks/checkpoints_proyecto_final/cp_0037.ckpt\n",
            "19/19 [==============================] - 22s 1s/step - loss: 0.9108 - accuracy: 0.7142\n",
            "Epoch 38/50\n",
            "19/19 [==============================] - ETA: 0s - loss: 0.8953 - accuracy: 0.7189\n",
            "Epoch 00038: loss improved from 0.91077 to 0.89527, saving model to /content/gdrive/MyDrive/Colab Notebooks/checkpoints_proyecto_final/cp_0038.ckpt\n",
            "19/19 [==============================] - 22s 1s/step - loss: 0.8953 - accuracy: 0.7189\n",
            "Epoch 39/50\n",
            "19/19 [==============================] - ETA: 0s - loss: 0.8796 - accuracy: 0.7243\n",
            "Epoch 00039: loss improved from 0.89527 to 0.87961, saving model to /content/gdrive/MyDrive/Colab Notebooks/checkpoints_proyecto_final/cp_0039.ckpt\n",
            "19/19 [==============================] - 22s 1s/step - loss: 0.8796 - accuracy: 0.7243\n",
            "Epoch 40/50\n",
            "19/19 [==============================] - ETA: 0s - loss: 0.8625 - accuracy: 0.7300\n",
            "Epoch 00040: loss improved from 0.87961 to 0.86253, saving model to /content/gdrive/MyDrive/Colab Notebooks/checkpoints_proyecto_final/cp_0040.ckpt\n",
            "19/19 [==============================] - 22s 1s/step - loss: 0.8625 - accuracy: 0.7300\n",
            "Epoch 41/50\n",
            "19/19 [==============================] - ETA: 0s - loss: 0.8459 - accuracy: 0.7359\n",
            "Epoch 00041: loss improved from 0.86253 to 0.84594, saving model to /content/gdrive/MyDrive/Colab Notebooks/checkpoints_proyecto_final/cp_0041.ckpt\n",
            "19/19 [==============================] - 22s 1s/step - loss: 0.8459 - accuracy: 0.7359\n",
            "Epoch 42/50\n",
            "19/19 [==============================] - ETA: 0s - loss: 0.8300 - accuracy: 0.7409\n",
            "Epoch 00042: loss improved from 0.84594 to 0.83000, saving model to /content/gdrive/MyDrive/Colab Notebooks/checkpoints_proyecto_final/cp_0042.ckpt\n",
            "19/19 [==============================] - 22s 1s/step - loss: 0.8300 - accuracy: 0.7409\n",
            "Epoch 43/50\n",
            "19/19 [==============================] - ETA: 0s - loss: 0.8169 - accuracy: 0.7445\n",
            "Epoch 00043: loss improved from 0.83000 to 0.81685, saving model to /content/gdrive/MyDrive/Colab Notebooks/checkpoints_proyecto_final/cp_0043.ckpt\n",
            "19/19 [==============================] - 22s 1s/step - loss: 0.8169 - accuracy: 0.7445\n",
            "Epoch 44/50\n",
            "19/19 [==============================] - ETA: 0s - loss: 0.7989 - accuracy: 0.7510\n",
            "Epoch 00044: loss improved from 0.81685 to 0.79891, saving model to /content/gdrive/MyDrive/Colab Notebooks/checkpoints_proyecto_final/cp_0044.ckpt\n",
            "19/19 [==============================] - 22s 1s/step - loss: 0.7989 - accuracy: 0.7510\n",
            "Epoch 45/50\n",
            "19/19 [==============================] - ETA: 0s - loss: 0.7815 - accuracy: 0.7573\n",
            "Epoch 00045: loss improved from 0.79891 to 0.78145, saving model to /content/gdrive/MyDrive/Colab Notebooks/checkpoints_proyecto_final/cp_0045.ckpt\n",
            "19/19 [==============================] - 22s 1s/step - loss: 0.7815 - accuracy: 0.7573\n",
            "Epoch 46/50\n",
            "19/19 [==============================] - ETA: 0s - loss: 0.7690 - accuracy: 0.7612\n",
            "Epoch 00046: loss improved from 0.78145 to 0.76903, saving model to /content/gdrive/MyDrive/Colab Notebooks/checkpoints_proyecto_final/cp_0046.ckpt\n",
            "19/19 [==============================] - 22s 1s/step - loss: 0.7690 - accuracy: 0.7612\n",
            "Epoch 47/50\n",
            "19/19 [==============================] - ETA: 0s - loss: 0.7527 - accuracy: 0.7668\n",
            "Epoch 00047: loss improved from 0.76903 to 0.75275, saving model to /content/gdrive/MyDrive/Colab Notebooks/checkpoints_proyecto_final/cp_0047.ckpt\n",
            "19/19 [==============================] - 22s 1s/step - loss: 0.7527 - accuracy: 0.7668\n",
            "Epoch 48/50\n",
            "19/19 [==============================] - ETA: 0s - loss: 0.7374 - accuracy: 0.7722\n",
            "Epoch 00048: loss improved from 0.75275 to 0.73740, saving model to /content/gdrive/MyDrive/Colab Notebooks/checkpoints_proyecto_final/cp_0048.ckpt\n",
            "19/19 [==============================] - 22s 1s/step - loss: 0.7374 - accuracy: 0.7722\n",
            "Epoch 49/50\n",
            "19/19 [==============================] - ETA: 0s - loss: 0.7203 - accuracy: 0.7772\n",
            "Epoch 00049: loss improved from 0.73740 to 0.72031, saving model to /content/gdrive/MyDrive/Colab Notebooks/checkpoints_proyecto_final/cp_0049.ckpt\n",
            "19/19 [==============================] - 22s 1s/step - loss: 0.7203 - accuracy: 0.7772\n",
            "Epoch 50/50\n",
            "19/19 [==============================] - ETA: 0s - loss: 0.7068 - accuracy: 0.7822\n",
            "Epoch 00050: loss improved from 0.72031 to 0.70682, saving model to /content/gdrive/MyDrive/Colab Notebooks/checkpoints_proyecto_final/cp_0050.ckpt\n",
            "19/19 [==============================] - 22s 1s/step - loss: 0.7068 - accuracy: 0.7822\n"
          ]
        }
      ]
    },
    {
      "cell_type": "markdown",
      "metadata": {
        "id": "URtG1ZI0L99C"
      },
      "source": [
        "\n",
        "#####4.2a-1 entrenando desde un checkpoint\n",
        "\n",
        "---\n",
        "Desde la carpeta que optamos guardar los checkpoints\n",
        "\n",
        "*   el archivo .data es el archivo que contiene nuestras variables de entrenamiento y vamos a ir tras él.\n",
        "*   el archivo checkpoint, simplemente mantiene un registro de los últimos archivos de punto de control guardados\n",
        "\n",
        "\n"
      ]
    },
    {
      "cell_type": "code",
      "metadata": {
        "id": "8o4h9cq8ac68",
        "colab": {
          "base_uri": "https://localhost:8080/"
        },
        "outputId": "ab19e350-e907-4194-b817-8dabdb324434"
      },
      "source": [
        "#creamos un modelo con iguales caracteristicas al 1° modelo\n",
        "model2=create_model(vocab_size   =vocab_size,\n",
        "                  embedding_dim =embedding_dim,\n",
        "                  rnn_units     =rnn_units,\n",
        "                  batch_size    =BATCH_SIZE)\n",
        "\n",
        "#buscamos el ultimo checkpoint de entrenamiento\n",
        "latest = tf.train.latest_checkpoint(checkpoint_dir)\n",
        "print(latest)"
      ],
      "execution_count": 15,
      "outputs": [
        {
          "output_type": "stream",
          "name": "stdout",
          "text": [
            "/content/gdrive/MyDrive/Colab Notebooks/checkpoints_proyecto_final/cp_0349.ckpt\n"
          ]
        }
      ]
    },
    {
      "cell_type": "code",
      "metadata": {
        "id": "CGZCz4W3lkWa",
        "colab": {
          "base_uri": "https://localhost:8080/"
        },
        "outputId": "a9501497-271f-4479-a60a-73c66b7d3a12"
      },
      "source": [
        "# cargamos los pesos al nuevo modelo (estos valores tienes una variación de un 10%)\n",
        "model2.load_weights(latest)\n",
        "# continuamos el entrenamiento desde el checkpoint en que quedamos\n",
        "history_V2=model2.fit(dataset, \n",
        "                    epochs=200, \n",
        "                    verbose=1,\n",
        "                    callbacks=[cp_callback])"
      ],
      "execution_count": 17,
      "outputs": [
        {
          "output_type": "stream",
          "name": "stdout",
          "text": [
            "Epoch 1/200\n",
            "19/19 [==============================] - ETA: 0s - loss: 0.0749 - accuracy: 0.9863\n",
            "Epoch 00001: loss did not improve from 0.06231\n",
            "19/19 [==============================] - 21s 1s/step - loss: 0.0749 - accuracy: 0.9863\n",
            "Epoch 2/200\n",
            "19/19 [==============================] - ETA: 0s - loss: 0.0806 - accuracy: 0.9841\n",
            "Epoch 00002: loss did not improve from 0.06231\n",
            "19/19 [==============================] - 21s 1s/step - loss: 0.0806 - accuracy: 0.9841\n",
            "Epoch 3/200\n",
            "19/19 [==============================] - ETA: 0s - loss: 0.0681 - accuracy: 0.9872\n",
            "Epoch 00003: loss did not improve from 0.06231\n",
            "19/19 [==============================] - 21s 1s/step - loss: 0.0681 - accuracy: 0.9872\n",
            "Epoch 4/200\n",
            "19/19 [==============================] - ETA: 0s - loss: 0.0774 - accuracy: 0.9857\n",
            "Epoch 00004: loss did not improve from 0.06231\n",
            "19/19 [==============================] - 21s 1s/step - loss: 0.0774 - accuracy: 0.9857\n",
            "Epoch 5/200\n",
            "19/19 [==============================] - ETA: 0s - loss: 0.0688 - accuracy: 0.9872\n",
            "Epoch 00005: loss did not improve from 0.06231\n",
            "19/19 [==============================] - 21s 1s/step - loss: 0.0688 - accuracy: 0.9872\n",
            "Epoch 6/200\n",
            "19/19 [==============================] - ETA: 0s - loss: 0.0780 - accuracy: 0.9851\n",
            "Epoch 00006: loss did not improve from 0.06231\n",
            "19/19 [==============================] - 21s 1s/step - loss: 0.0780 - accuracy: 0.9851\n",
            "Epoch 7/200\n",
            "19/19 [==============================] - ETA: 0s - loss: 0.0730 - accuracy: 0.9864\n",
            "Epoch 00007: loss did not improve from 0.06231\n",
            "19/19 [==============================] - 21s 1s/step - loss: 0.0730 - accuracy: 0.9864\n",
            "Epoch 8/200\n",
            "19/19 [==============================] - ETA: 0s - loss: 0.0689 - accuracy: 0.9872\n",
            "Epoch 00008: loss did not improve from 0.06231\n",
            "19/19 [==============================] - 21s 1s/step - loss: 0.0689 - accuracy: 0.9872\n",
            "Epoch 9/200\n",
            "19/19 [==============================] - ETA: 0s - loss: 0.0835 - accuracy: 0.9835\n",
            "Epoch 00009: loss did not improve from 0.06231\n",
            "19/19 [==============================] - 21s 1s/step - loss: 0.0835 - accuracy: 0.9835\n",
            "Epoch 10/200\n",
            "19/19 [==============================] - ETA: 0s - loss: 0.0685 - accuracy: 0.9872\n",
            "Epoch 00010: loss did not improve from 0.06231\n",
            "19/19 [==============================] - 21s 1s/step - loss: 0.0685 - accuracy: 0.9872\n",
            "Epoch 11/200\n",
            "19/19 [==============================] - ETA: 0s - loss: 0.0675 - accuracy: 0.9875\n",
            "Epoch 00011: loss did not improve from 0.06231\n",
            "19/19 [==============================] - 21s 1s/step - loss: 0.0675 - accuracy: 0.9875\n",
            "Epoch 12/200\n",
            "19/19 [==============================] - ETA: 0s - loss: 0.0794 - accuracy: 0.9850\n",
            "Epoch 00012: loss did not improve from 0.06231\n",
            "19/19 [==============================] - 21s 1s/step - loss: 0.0794 - accuracy: 0.9850\n",
            "Epoch 13/200\n",
            "19/19 [==============================] - ETA: 0s - loss: 0.0676 - accuracy: 0.9873\n",
            "Epoch 00013: loss did not improve from 0.06231\n",
            "19/19 [==============================] - 21s 1s/step - loss: 0.0676 - accuracy: 0.9873\n",
            "Epoch 14/200\n",
            "19/19 [==============================] - ETA: 0s - loss: 0.0738 - accuracy: 0.9865\n",
            "Epoch 00014: loss did not improve from 0.06231\n",
            "19/19 [==============================] - 21s 1s/step - loss: 0.0738 - accuracy: 0.9865\n",
            "Epoch 15/200\n",
            "19/19 [==============================] - ETA: 0s - loss: 0.0697 - accuracy: 0.9871\n",
            "Epoch 00015: loss did not improve from 0.06231\n",
            "19/19 [==============================] - 21s 1s/step - loss: 0.0697 - accuracy: 0.9871\n",
            "Epoch 16/200\n",
            "19/19 [==============================] - ETA: 0s - loss: 0.0749 - accuracy: 0.9862\n",
            "Epoch 00016: loss did not improve from 0.06231\n",
            "19/19 [==============================] - 21s 1s/step - loss: 0.0749 - accuracy: 0.9862\n",
            "Epoch 17/200\n",
            "19/19 [==============================] - ETA: 0s - loss: 0.0706 - accuracy: 0.9869\n",
            "Epoch 00017: loss did not improve from 0.06231\n",
            "19/19 [==============================] - 21s 1s/step - loss: 0.0706 - accuracy: 0.9869\n",
            "Epoch 18/200\n",
            "19/19 [==============================] - ETA: 0s - loss: 0.0690 - accuracy: 0.9873\n",
            "Epoch 00018: loss did not improve from 0.06231\n",
            "19/19 [==============================] - 21s 1s/step - loss: 0.0690 - accuracy: 0.9873\n",
            "Epoch 19/200\n",
            "19/19 [==============================] - ETA: 0s - loss: 0.0744 - accuracy: 0.9862\n",
            "Epoch 00019: loss did not improve from 0.06231\n",
            "19/19 [==============================] - 21s 1s/step - loss: 0.0744 - accuracy: 0.9862\n",
            "Epoch 20/200\n",
            "19/19 [==============================] - ETA: 0s - loss: 0.0683 - accuracy: 0.9874\n",
            "Epoch 00020: loss did not improve from 0.06231\n",
            "19/19 [==============================] - 21s 1s/step - loss: 0.0683 - accuracy: 0.9874\n",
            "Epoch 21/200\n",
            "19/19 [==============================] - ETA: 0s - loss: 0.0737 - accuracy: 0.9864\n",
            "Epoch 00021: loss did not improve from 0.06231\n",
            "19/19 [==============================] - 21s 1s/step - loss: 0.0737 - accuracy: 0.9864\n",
            "Epoch 22/200\n",
            "19/19 [==============================] - ETA: 0s - loss: 0.0698 - accuracy: 0.9871\n",
            "Epoch 00022: loss did not improve from 0.06231\n",
            "19/19 [==============================] - 21s 1s/step - loss: 0.0698 - accuracy: 0.9871\n",
            "Epoch 23/200\n",
            "19/19 [==============================] - ETA: 0s - loss: 0.0790 - accuracy: 0.9847\n",
            "Epoch 00023: loss did not improve from 0.06231\n",
            "19/19 [==============================] - 21s 1s/step - loss: 0.0790 - accuracy: 0.9847\n",
            "Epoch 24/200\n",
            "19/19 [==============================] - ETA: 0s - loss: 0.0669 - accuracy: 0.9877\n",
            "Epoch 00024: loss did not improve from 0.06231\n",
            "19/19 [==============================] - 21s 1s/step - loss: 0.0669 - accuracy: 0.9877\n",
            "Epoch 25/200\n",
            "19/19 [==============================] - ETA: 0s - loss: 0.0809 - accuracy: 0.9844\n",
            "Epoch 00025: loss did not improve from 0.06231\n",
            "19/19 [==============================] - 21s 1s/step - loss: 0.0809 - accuracy: 0.9844\n",
            "Epoch 26/200\n",
            "19/19 [==============================] - ETA: 0s - loss: 0.0680 - accuracy: 0.9874\n",
            "Epoch 00026: loss did not improve from 0.06231\n",
            "19/19 [==============================] - 21s 1s/step - loss: 0.0680 - accuracy: 0.9874\n",
            "Epoch 27/200\n",
            "19/19 [==============================] - ETA: 0s - loss: 0.0679 - accuracy: 0.9873\n",
            "Epoch 00027: loss did not improve from 0.06231\n",
            "19/19 [==============================] - 21s 1s/step - loss: 0.0679 - accuracy: 0.9873\n",
            "Epoch 28/200\n",
            "19/19 [==============================] - ETA: 0s - loss: 0.0796 - accuracy: 0.9844\n",
            "Epoch 00028: loss did not improve from 0.06231\n",
            "19/19 [==============================] - 21s 1s/step - loss: 0.0796 - accuracy: 0.9844\n",
            "Epoch 29/200\n",
            "19/19 [==============================] - ETA: 0s - loss: 0.0660 - accuracy: 0.9876\n",
            "Epoch 00029: loss did not improve from 0.06231\n",
            "19/19 [==============================] - 21s 1s/step - loss: 0.0660 - accuracy: 0.9876\n",
            "Epoch 30/200\n",
            "19/19 [==============================] - ETA: 0s - loss: 0.0775 - accuracy: 0.9853\n",
            "Epoch 00030: loss did not improve from 0.06231\n",
            "19/19 [==============================] - 21s 1s/step - loss: 0.0775 - accuracy: 0.9853\n",
            "Epoch 31/200\n",
            "19/19 [==============================] - ETA: 0s - loss: 0.0693 - accuracy: 0.9872\n",
            "Epoch 00031: loss did not improve from 0.06231\n",
            "19/19 [==============================] - 21s 1s/step - loss: 0.0693 - accuracy: 0.9872\n",
            "Epoch 32/200\n",
            "19/19 [==============================] - ETA: 0s - loss: 0.0682 - accuracy: 0.9873\n",
            "Epoch 00032: loss did not improve from 0.06231\n",
            "19/19 [==============================] - 21s 1s/step - loss: 0.0682 - accuracy: 0.9873\n",
            "Epoch 33/200\n",
            "19/19 [==============================] - ETA: 0s - loss: 0.0693 - accuracy: 0.9871\n",
            "Epoch 00033: loss did not improve from 0.06231\n",
            "19/19 [==============================] - 21s 1s/step - loss: 0.0693 - accuracy: 0.9871\n",
            "Epoch 34/200\n",
            "19/19 [==============================] - ETA: 0s - loss: 0.0737 - accuracy: 0.9864\n",
            "Epoch 00034: loss did not improve from 0.06231\n",
            "19/19 [==============================] - 21s 1s/step - loss: 0.0737 - accuracy: 0.9864\n",
            "Epoch 35/200\n",
            "19/19 [==============================] - ETA: 0s - loss: 0.0715 - accuracy: 0.9865\n",
            "Epoch 00035: loss did not improve from 0.06231\n",
            "19/19 [==============================] - 21s 1s/step - loss: 0.0715 - accuracy: 0.9865\n",
            "Epoch 36/200\n",
            "19/19 [==============================] - ETA: 0s - loss: 0.0672 - accuracy: 0.9876\n",
            "Epoch 00036: loss did not improve from 0.06231\n",
            "19/19 [==============================] - 21s 1s/step - loss: 0.0672 - accuracy: 0.9876\n",
            "Epoch 37/200\n",
            "19/19 [==============================] - ETA: 0s - loss: 0.0699 - accuracy: 0.9871\n",
            "Epoch 00037: loss did not improve from 0.06231\n",
            "19/19 [==============================] - 21s 1s/step - loss: 0.0699 - accuracy: 0.9871\n",
            "Epoch 38/200\n",
            "19/19 [==============================] - ETA: 0s - loss: 0.0718 - accuracy: 0.9867\n",
            "Epoch 00038: loss did not improve from 0.06231\n",
            "19/19 [==============================] - 21s 1s/step - loss: 0.0718 - accuracy: 0.9867\n",
            "Epoch 39/200\n",
            "19/19 [==============================] - ETA: 0s - loss: 0.0712 - accuracy: 0.9867\n",
            "Epoch 00039: loss did not improve from 0.06231\n",
            "19/19 [==============================] - 21s 1s/step - loss: 0.0712 - accuracy: 0.9867\n",
            "Epoch 40/200\n",
            "19/19 [==============================] - ETA: 0s - loss: 0.0675 - accuracy: 0.9876\n",
            "Epoch 00040: loss did not improve from 0.06231\n",
            "19/19 [==============================] - 21s 1s/step - loss: 0.0675 - accuracy: 0.9876\n",
            "Epoch 41/200\n",
            "19/19 [==============================] - ETA: 0s - loss: 0.0686 - accuracy: 0.9874\n",
            "Epoch 00041: loss did not improve from 0.06231\n",
            "19/19 [==============================] - 21s 1s/step - loss: 0.0686 - accuracy: 0.9874\n",
            "Epoch 42/200\n",
            "19/19 [==============================] - ETA: 0s - loss: 0.0678 - accuracy: 0.9875\n",
            "Epoch 00042: loss did not improve from 0.06231\n",
            "19/19 [==============================] - 21s 1s/step - loss: 0.0678 - accuracy: 0.9875\n",
            "Epoch 43/200\n",
            "19/19 [==============================] - ETA: 0s - loss: 0.0694 - accuracy: 0.9873\n",
            "Epoch 00043: loss did not improve from 0.06231\n",
            "19/19 [==============================] - 21s 1s/step - loss: 0.0694 - accuracy: 0.9873\n",
            "Epoch 44/200\n",
            "19/19 [==============================] - ETA: 0s - loss: 0.0750 - accuracy: 0.9861\n",
            "Epoch 00044: loss did not improve from 0.06231\n",
            "19/19 [==============================] - 21s 1s/step - loss: 0.0750 - accuracy: 0.9861\n",
            "Epoch 45/200\n",
            "19/19 [==============================] - ETA: 0s - loss: 0.0666 - accuracy: 0.9876\n",
            "Epoch 00045: loss did not improve from 0.06231\n",
            "19/19 [==============================] - 21s 1s/step - loss: 0.0666 - accuracy: 0.9876\n",
            "Epoch 46/200\n",
            "19/19 [==============================] - ETA: 0s - loss: 0.0781 - accuracy: 0.9851\n",
            "Epoch 00046: loss did not improve from 0.06231\n",
            "19/19 [==============================] - 21s 1s/step - loss: 0.0781 - accuracy: 0.9851\n",
            "Epoch 47/200\n",
            "19/19 [==============================] - ETA: 0s - loss: 0.0667 - accuracy: 0.9876\n",
            "Epoch 00047: loss did not improve from 0.06231\n",
            "19/19 [==============================] - 21s 1s/step - loss: 0.0667 - accuracy: 0.9876\n",
            "Epoch 48/200\n",
            "19/19 [==============================] - ETA: 0s - loss: 0.0663 - accuracy: 0.9876\n",
            "Epoch 00048: loss did not improve from 0.06231\n",
            "19/19 [==============================] - 21s 1s/step - loss: 0.0663 - accuracy: 0.9876\n",
            "Epoch 49/200\n",
            "19/19 [==============================] - ETA: 0s - loss: 0.0684 - accuracy: 0.9874\n",
            "Epoch 00049: loss did not improve from 0.06231\n",
            "19/19 [==============================] - 21s 1s/step - loss: 0.0684 - accuracy: 0.9874\n",
            "Epoch 50/200\n",
            "19/19 [==============================] - ETA: 0s - loss: 0.0693 - accuracy: 0.9872\n",
            "Epoch 00050: loss did not improve from 0.06231\n",
            "19/19 [==============================] - 21s 1s/step - loss: 0.0693 - accuracy: 0.9872\n",
            "Epoch 51/200\n",
            "19/19 [==============================] - ETA: 0s - loss: 0.0741 - accuracy: 0.9854\n",
            "Epoch 00051: loss did not improve from 0.06231\n",
            "19/19 [==============================] - 21s 1s/step - loss: 0.0741 - accuracy: 0.9854\n",
            "Epoch 52/200\n",
            "19/19 [==============================] - ETA: 0s - loss: 0.0654 - accuracy: 0.9877\n",
            "Epoch 00052: loss did not improve from 0.06231\n",
            "19/19 [==============================] - 21s 1s/step - loss: 0.0654 - accuracy: 0.9877\n",
            "Epoch 53/200\n",
            "19/19 [==============================] - ETA: 0s - loss: 0.0802 - accuracy: 0.9841\n",
            "Epoch 00053: loss did not improve from 0.06231\n",
            "19/19 [==============================] - 21s 1s/step - loss: 0.0802 - accuracy: 0.9841\n",
            "Epoch 54/200\n",
            "19/19 [==============================] - ETA: 0s - loss: 0.0665 - accuracy: 0.9876\n",
            "Epoch 00054: loss did not improve from 0.06231\n",
            "19/19 [==============================] - 21s 1s/step - loss: 0.0665 - accuracy: 0.9876\n",
            "Epoch 55/200\n",
            "19/19 [==============================] - ETA: 0s - loss: 0.0645 - accuracy: 0.9878\n",
            "Epoch 00055: loss did not improve from 0.06231\n",
            "19/19 [==============================] - 21s 1s/step - loss: 0.0645 - accuracy: 0.9878\n",
            "Epoch 56/200\n",
            "19/19 [==============================] - ETA: 0s - loss: 0.0782 - accuracy: 0.9843\n",
            "Epoch 00056: loss did not improve from 0.06231\n",
            "19/19 [==============================] - 21s 1s/step - loss: 0.0782 - accuracy: 0.9843\n",
            "Epoch 57/200\n",
            "19/19 [==============================] - ETA: 0s - loss: 0.0654 - accuracy: 0.9877\n",
            "Epoch 00057: loss did not improve from 0.06231\n",
            "19/19 [==============================] - 21s 1s/step - loss: 0.0654 - accuracy: 0.9877\n",
            "Epoch 58/200\n",
            "19/19 [==============================] - ETA: 0s - loss: 0.0649 - accuracy: 0.9878\n",
            "Epoch 00058: loss did not improve from 0.06231\n",
            "19/19 [==============================] - 21s 1s/step - loss: 0.0649 - accuracy: 0.9878\n",
            "Epoch 59/200\n",
            "19/19 [==============================] - ETA: 0s - loss: 0.0704 - accuracy: 0.9871\n",
            "Epoch 00059: loss did not improve from 0.06231\n",
            "19/19 [==============================] - 21s 1s/step - loss: 0.0704 - accuracy: 0.9871\n",
            "Epoch 60/200\n",
            "19/19 [==============================] - ETA: 0s - loss: 0.0695 - accuracy: 0.9869\n",
            "Epoch 00060: loss did not improve from 0.06231\n",
            "19/19 [==============================] - 21s 1s/step - loss: 0.0695 - accuracy: 0.9869\n",
            "Epoch 61/200\n",
            "19/19 [==============================] - ETA: 0s - loss: 0.0678 - accuracy: 0.9873\n",
            "Epoch 00061: loss did not improve from 0.06231\n",
            "19/19 [==============================] - 21s 1s/step - loss: 0.0678 - accuracy: 0.9873\n",
            "Epoch 62/200\n",
            "19/19 [==============================] - ETA: 0s - loss: 0.0734 - accuracy: 0.9856\n",
            "Epoch 00062: loss did not improve from 0.06231\n",
            "19/19 [==============================] - 21s 1s/step - loss: 0.0734 - accuracy: 0.9856\n",
            "Epoch 63/200\n",
            "19/19 [==============================] - ETA: 0s - loss: 0.0659 - accuracy: 0.9877\n",
            "Epoch 00063: loss did not improve from 0.06231\n",
            "19/19 [==============================] - 21s 1s/step - loss: 0.0659 - accuracy: 0.9877\n",
            "Epoch 64/200\n",
            "19/19 [==============================] - ETA: 0s - loss: 0.0769 - accuracy: 0.9849\n",
            "Epoch 00064: loss did not improve from 0.06231\n",
            "19/19 [==============================] - 21s 1s/step - loss: 0.0769 - accuracy: 0.9849\n",
            "Epoch 65/200\n",
            "19/19 [==============================] - ETA: 0s - loss: 0.0660 - accuracy: 0.9877\n",
            "Epoch 00065: loss did not improve from 0.06231\n",
            "19/19 [==============================] - 21s 1s/step - loss: 0.0660 - accuracy: 0.9877\n",
            "Epoch 66/200\n",
            "19/19 [==============================] - ETA: 0s - loss: 0.0660 - accuracy: 0.9877\n",
            "Epoch 00066: loss did not improve from 0.06231\n",
            "19/19 [==============================] - 21s 1s/step - loss: 0.0660 - accuracy: 0.9877\n",
            "Epoch 67/200\n",
            "19/19 [==============================] - ETA: 0s - loss: 0.0684 - accuracy: 0.9874\n",
            "Epoch 00067: loss did not improve from 0.06231\n",
            "19/19 [==============================] - 21s 1s/step - loss: 0.0684 - accuracy: 0.9874\n",
            "Epoch 68/200\n",
            "19/19 [==============================] - ETA: 0s - loss: 0.0705 - accuracy: 0.9865\n",
            "Epoch 00068: loss did not improve from 0.06231\n",
            "19/19 [==============================] - 21s 1s/step - loss: 0.0705 - accuracy: 0.9865\n",
            "Epoch 69/200\n",
            "19/19 [==============================] - ETA: 0s - loss: 0.0669 - accuracy: 0.9877\n",
            "Epoch 00069: loss did not improve from 0.06231\n",
            "19/19 [==============================] - 21s 1s/step - loss: 0.0669 - accuracy: 0.9877\n",
            "Epoch 70/200\n",
            "19/19 [==============================] - ETA: 0s - loss: 0.0678 - accuracy: 0.9875\n",
            "Epoch 00070: loss did not improve from 0.06231\n",
            "19/19 [==============================] - 21s 1s/step - loss: 0.0678 - accuracy: 0.9875\n",
            "Epoch 71/200\n",
            "19/19 [==============================] - ETA: 0s - loss: 0.0692 - accuracy: 0.9873\n",
            "Epoch 00071: loss did not improve from 0.06231\n",
            "19/19 [==============================] - 21s 1s/step - loss: 0.0692 - accuracy: 0.9873\n",
            "Epoch 72/200\n",
            "19/19 [==============================] - ETA: 0s - loss: 0.0682 - accuracy: 0.9873\n",
            "Epoch 00072: loss did not improve from 0.06231\n",
            "19/19 [==============================] - 21s 1s/step - loss: 0.0682 - accuracy: 0.9873\n",
            "Epoch 73/200\n",
            "19/19 [==============================] - ETA: 0s - loss: 0.0680 - accuracy: 0.9873\n",
            "Epoch 00073: loss did not improve from 0.06231\n",
            "19/19 [==============================] - 21s 1s/step - loss: 0.0680 - accuracy: 0.9873\n",
            "Epoch 74/200\n",
            "19/19 [==============================] - ETA: 0s - loss: 0.0698 - accuracy: 0.9868\n",
            "Epoch 00074: loss did not improve from 0.06231\n",
            "19/19 [==============================] - 21s 1s/step - loss: 0.0698 - accuracy: 0.9868\n",
            "Epoch 75/200\n",
            "19/19 [==============================] - ETA: 0s - loss: 0.0657 - accuracy: 0.9877\n",
            "Epoch 00075: loss did not improve from 0.06231\n",
            "19/19 [==============================] - 21s 1s/step - loss: 0.0657 - accuracy: 0.9877\n",
            "Epoch 76/200\n",
            "19/19 [==============================] - ETA: 0s - loss: 0.0719 - accuracy: 0.9870\n",
            "Epoch 00076: loss did not improve from 0.06231\n",
            "19/19 [==============================] - 21s 1s/step - loss: 0.0719 - accuracy: 0.9870\n",
            "Epoch 77/200\n",
            "19/19 [==============================] - ETA: 0s - loss: 0.0651 - accuracy: 0.9878\n",
            "Epoch 00077: loss did not improve from 0.06231\n",
            "19/19 [==============================] - 21s 1s/step - loss: 0.0651 - accuracy: 0.9878\n",
            "Epoch 78/200\n",
            "19/19 [==============================] - ETA: 0s - loss: 0.0674 - accuracy: 0.9875\n",
            "Epoch 00078: loss did not improve from 0.06231\n",
            "19/19 [==============================] - 21s 1s/step - loss: 0.0674 - accuracy: 0.9875\n",
            "Epoch 79/200\n",
            "19/19 [==============================] - ETA: 0s - loss: 0.0661 - accuracy: 0.9876\n",
            "Epoch 00079: loss did not improve from 0.06231\n",
            "19/19 [==============================] - 21s 1s/step - loss: 0.0661 - accuracy: 0.9876\n",
            "Epoch 80/200\n",
            "19/19 [==============================] - ETA: 0s - loss: 0.0709 - accuracy: 0.9867\n",
            "Epoch 00080: loss did not improve from 0.06231\n",
            "19/19 [==============================] - 21s 1s/step - loss: 0.0709 - accuracy: 0.9867\n",
            "Epoch 81/200\n",
            "19/19 [==============================] - ETA: 0s - loss: 0.0698 - accuracy: 0.9868\n",
            "Epoch 00081: loss did not improve from 0.06231\n",
            "19/19 [==============================] - 21s 1s/step - loss: 0.0698 - accuracy: 0.9868\n",
            "Epoch 82/200\n",
            "19/19 [==============================] - ETA: 0s - loss: 0.0649 - accuracy: 0.9878\n",
            "Epoch 00082: loss did not improve from 0.06231\n",
            "19/19 [==============================] - 21s 1s/step - loss: 0.0649 - accuracy: 0.9878\n",
            "Epoch 83/200\n",
            "19/19 [==============================] - ETA: 0s - loss: 0.0728 - accuracy: 0.9862\n",
            "Epoch 00083: loss did not improve from 0.06231\n",
            "19/19 [==============================] - 21s 1s/step - loss: 0.0728 - accuracy: 0.9862\n",
            "Epoch 84/200\n",
            "19/19 [==============================] - ETA: 0s - loss: 0.0669 - accuracy: 0.9873\n",
            "Epoch 00084: loss did not improve from 0.06231\n",
            "19/19 [==============================] - 21s 1s/step - loss: 0.0669 - accuracy: 0.9873\n",
            "Epoch 85/200\n",
            "19/19 [==============================] - ETA: 0s - loss: 0.0644 - accuracy: 0.9879\n",
            "Epoch 00085: loss did not improve from 0.06231\n",
            "19/19 [==============================] - 21s 1s/step - loss: 0.0644 - accuracy: 0.9879\n",
            "Epoch 86/200\n",
            "19/19 [==============================] - ETA: 0s - loss: 0.0673 - accuracy: 0.9876\n",
            "Epoch 00086: loss did not improve from 0.06231\n",
            "19/19 [==============================] - 21s 1s/step - loss: 0.0673 - accuracy: 0.9876\n",
            "Epoch 87/200\n",
            "19/19 [==============================] - ETA: 0s - loss: 0.0659 - accuracy: 0.9877\n",
            "Epoch 00087: loss did not improve from 0.06231\n",
            "19/19 [==============================] - 21s 1s/step - loss: 0.0659 - accuracy: 0.9877\n",
            "Epoch 88/200\n",
            "19/19 [==============================] - ETA: 0s - loss: 0.0664 - accuracy: 0.9877\n",
            "Epoch 00088: loss did not improve from 0.06231\n",
            "19/19 [==============================] - 21s 1s/step - loss: 0.0664 - accuracy: 0.9877\n",
            "Epoch 89/200\n",
            "19/19 [==============================] - ETA: 0s - loss: 0.0648 - accuracy: 0.9878\n",
            "Epoch 00089: loss did not improve from 0.06231\n",
            "19/19 [==============================] - 21s 1s/step - loss: 0.0648 - accuracy: 0.9878\n",
            "Epoch 90/200\n",
            "19/19 [==============================] - ETA: 0s - loss: 0.0667 - accuracy: 0.9878\n",
            "Epoch 00090: loss did not improve from 0.06231\n",
            "19/19 [==============================] - 21s 1s/step - loss: 0.0667 - accuracy: 0.9878\n",
            "Epoch 91/200\n",
            "19/19 [==============================] - ETA: 0s - loss: 0.0660 - accuracy: 0.9878\n",
            "Epoch 00091: loss did not improve from 0.06231\n",
            "19/19 [==============================] - 21s 1s/step - loss: 0.0660 - accuracy: 0.9878\n",
            "Epoch 92/200\n",
            "19/19 [==============================] - ETA: 0s - loss: 0.0668 - accuracy: 0.9876\n",
            "Epoch 00092: loss did not improve from 0.06231\n",
            "19/19 [==============================] - 21s 1s/step - loss: 0.0668 - accuracy: 0.9876\n",
            "Epoch 93/200\n",
            "19/19 [==============================] - ETA: 0s - loss: 0.0730 - accuracy: 0.9857\n",
            "Epoch 00093: loss did not improve from 0.06231\n",
            "19/19 [==============================] - 21s 1s/step - loss: 0.0730 - accuracy: 0.9857\n",
            "Epoch 94/200\n",
            "19/19 [==============================] - ETA: 0s - loss: 0.0632 - accuracy: 0.9880\n",
            "Epoch 00094: loss did not improve from 0.06231\n",
            "19/19 [==============================] - 21s 1s/step - loss: 0.0632 - accuracy: 0.9880\n",
            "Epoch 95/200\n",
            "19/19 [==============================] - ETA: 0s - loss: 0.0733 - accuracy: 0.9855\n",
            "Epoch 00095: loss did not improve from 0.06231\n",
            "19/19 [==============================] - 21s 1s/step - loss: 0.0733 - accuracy: 0.9855\n",
            "Epoch 96/200\n",
            "19/19 [==============================] - ETA: 0s - loss: 0.0653 - accuracy: 0.9877\n",
            "Epoch 00096: loss did not improve from 0.06231\n",
            "19/19 [==============================] - 21s 1s/step - loss: 0.0653 - accuracy: 0.9877\n",
            "Epoch 97/200\n",
            "19/19 [==============================] - ETA: 0s - loss: 0.0629 - accuracy: 0.9881\n",
            "Epoch 00097: loss did not improve from 0.06231\n",
            "19/19 [==============================] - 21s 1s/step - loss: 0.0629 - accuracy: 0.9881\n",
            "Epoch 98/200\n",
            "19/19 [==============================] - ETA: 0s - loss: 0.0782 - accuracy: 0.9845\n",
            "Epoch 00098: loss did not improve from 0.06231\n",
            "19/19 [==============================] - 21s 1s/step - loss: 0.0782 - accuracy: 0.9845\n",
            "Epoch 99/200\n",
            "19/19 [==============================] - ETA: 0s - loss: 0.0633 - accuracy: 0.9880\n",
            "Epoch 00099: loss did not improve from 0.06231\n",
            "19/19 [==============================] - 21s 1s/step - loss: 0.0633 - accuracy: 0.9880\n",
            "Epoch 100/200\n",
            "19/19 [==============================] - ETA: 0s - loss: 0.0625 - accuracy: 0.9881\n",
            "Epoch 00100: loss did not improve from 0.06231\n",
            "19/19 [==============================] - 21s 1s/step - loss: 0.0625 - accuracy: 0.9881\n",
            "Epoch 101/200\n",
            "19/19 [==============================] - ETA: 0s - loss: 0.0740 - accuracy: 0.9857\n",
            "Epoch 00101: loss did not improve from 0.06231\n",
            "19/19 [==============================] - 21s 1s/step - loss: 0.0740 - accuracy: 0.9857\n",
            "Epoch 102/200\n",
            "19/19 [==============================] - ETA: 0s - loss: 0.0638 - accuracy: 0.9879\n",
            "Epoch 00102: loss did not improve from 0.06231\n",
            "19/19 [==============================] - 21s 1s/step - loss: 0.0638 - accuracy: 0.9879\n",
            "Epoch 103/200\n",
            "19/19 [==============================] - ETA: 0s - loss: 0.0630 - accuracy: 0.9881\n",
            "Epoch 00103: loss did not improve from 0.06231\n",
            "19/19 [==============================] - 21s 1s/step - loss: 0.0630 - accuracy: 0.9881\n",
            "Epoch 104/200\n",
            "19/19 [==============================] - ETA: 0s - loss: 0.0655 - accuracy: 0.9878\n",
            "Epoch 00104: loss did not improve from 0.06231\n",
            "19/19 [==============================] - 21s 1s/step - loss: 0.0655 - accuracy: 0.9878\n",
            "Epoch 105/200\n",
            "19/19 [==============================] - ETA: 0s - loss: 0.0720 - accuracy: 0.9861\n",
            "Epoch 00105: loss did not improve from 0.06231\n",
            "19/19 [==============================] - 21s 1s/step - loss: 0.0720 - accuracy: 0.9861\n",
            "Epoch 106/200\n",
            "19/19 [==============================] - ETA: 0s - loss: 0.0625 - accuracy: 0.9881\n",
            "Epoch 00106: loss did not improve from 0.06231\n",
            "19/19 [==============================] - 21s 1s/step - loss: 0.0625 - accuracy: 0.9881\n",
            "Epoch 107/200\n",
            "19/19 [==============================] - ETA: 0s - loss: 0.0676 - accuracy: 0.9873\n",
            "Epoch 00107: loss did not improve from 0.06231\n",
            "19/19 [==============================] - 21s 1s/step - loss: 0.0676 - accuracy: 0.9873\n",
            "Epoch 108/200\n",
            "19/19 [==============================] - ETA: 0s - loss: 0.0651 - accuracy: 0.9878\n",
            "Epoch 00108: loss did not improve from 0.06231\n",
            "19/19 [==============================] - 21s 1s/step - loss: 0.0651 - accuracy: 0.9878\n",
            "Epoch 109/200\n",
            "19/19 [==============================] - ETA: 0s - loss: 0.0664 - accuracy: 0.9874\n",
            "Epoch 00109: loss did not improve from 0.06231\n",
            "19/19 [==============================] - 21s 1s/step - loss: 0.0664 - accuracy: 0.9874\n",
            "Epoch 110/200\n",
            "19/19 [==============================] - ETA: 0s - loss: 0.0730 - accuracy: 0.9853\n",
            "Epoch 00110: loss did not improve from 0.06231\n",
            "19/19 [==============================] - 21s 1s/step - loss: 0.0730 - accuracy: 0.9853\n",
            "Epoch 111/200\n",
            "19/19 [==============================] - ETA: 0s - loss: 0.0619 - accuracy: 0.9882\n",
            "Epoch 00111: loss improved from 0.06231 to 0.06187, saving model to /content/gdrive/MyDrive/Colab Notebooks/checkpoints_proyecto_final/cp_0111.ckpt\n",
            "19/19 [==============================] - 21s 1s/step - loss: 0.0619 - accuracy: 0.9882\n",
            "Epoch 112/200\n",
            "19/19 [==============================] - ETA: 0s - loss: 0.0707 - accuracy: 0.9865\n",
            "Epoch 00112: loss did not improve from 0.06187\n",
            "19/19 [==============================] - 21s 1s/step - loss: 0.0707 - accuracy: 0.9865\n",
            "Epoch 113/200\n",
            "19/19 [==============================] - ETA: 0s - loss: 0.0636 - accuracy: 0.9880\n",
            "Epoch 00113: loss did not improve from 0.06187\n",
            "19/19 [==============================] - 21s 1s/step - loss: 0.0636 - accuracy: 0.9880\n",
            "Epoch 114/200\n",
            "19/19 [==============================] - ETA: 0s - loss: 0.0635 - accuracy: 0.9880\n",
            "Epoch 00114: loss did not improve from 0.06187\n",
            "19/19 [==============================] - 21s 1s/step - loss: 0.0635 - accuracy: 0.9880\n",
            "Epoch 115/200\n",
            "19/19 [==============================] - ETA: 0s - loss: 0.0647 - accuracy: 0.9880\n",
            "Epoch 00115: loss did not improve from 0.06187\n",
            "19/19 [==============================] - 21s 1s/step - loss: 0.0647 - accuracy: 0.9880\n",
            "Epoch 116/200\n",
            "19/19 [==============================] - ETA: 0s - loss: 0.0642 - accuracy: 0.9878\n",
            "Epoch 00116: loss did not improve from 0.06187\n",
            "19/19 [==============================] - 21s 1s/step - loss: 0.0642 - accuracy: 0.9878\n",
            "Epoch 117/200\n",
            "19/19 [==============================] - ETA: 0s - loss: 0.0656 - accuracy: 0.9878\n",
            "Epoch 00117: loss did not improve from 0.06187\n",
            "19/19 [==============================] - 21s 1s/step - loss: 0.0656 - accuracy: 0.9878\n",
            "Epoch 118/200\n",
            "19/19 [==============================] - ETA: 0s - loss: 0.0646 - accuracy: 0.9878\n",
            "Epoch 00118: loss did not improve from 0.06187\n",
            "19/19 [==============================] - 21s 1s/step - loss: 0.0646 - accuracy: 0.9878\n",
            "Epoch 119/200\n",
            "19/19 [==============================] - ETA: 0s - loss: 0.0646 - accuracy: 0.9880\n",
            "Epoch 00119: loss did not improve from 0.06187\n",
            "19/19 [==============================] - 21s 1s/step - loss: 0.0646 - accuracy: 0.9880\n",
            "Epoch 120/200\n",
            "19/19 [==============================] - ETA: 0s - loss: 0.0656 - accuracy: 0.9878\n",
            "Epoch 00120: loss did not improve from 0.06187\n",
            "19/19 [==============================] - 21s 1s/step - loss: 0.0656 - accuracy: 0.9878\n",
            "Epoch 121/200\n",
            "19/19 [==============================] - ETA: 0s - loss: 0.0658 - accuracy: 0.9876\n",
            "Epoch 00121: loss did not improve from 0.06187\n",
            "19/19 [==============================] - 21s 1s/step - loss: 0.0658 - accuracy: 0.9876\n",
            "Epoch 122/200\n",
            "19/19 [==============================] - ETA: 0s - loss: 0.0639 - accuracy: 0.9879\n",
            "Epoch 00122: loss did not improve from 0.06187\n",
            "19/19 [==============================] - 21s 1s/step - loss: 0.0639 - accuracy: 0.9879\n",
            "Epoch 123/200\n",
            "19/19 [==============================] - ETA: 0s - loss: 0.0637 - accuracy: 0.9879\n",
            "Epoch 00123: loss did not improve from 0.06187\n",
            "19/19 [==============================] - 21s 1s/step - loss: 0.0637 - accuracy: 0.9879\n",
            "Epoch 124/200\n",
            "19/19 [==============================] - ETA: 0s - loss: 0.0706 - accuracy: 0.9864\n",
            "Epoch 00124: loss did not improve from 0.06187\n",
            "19/19 [==============================] - 21s 1s/step - loss: 0.0706 - accuracy: 0.9864\n",
            "Epoch 125/200\n",
            "19/19 [==============================] - ETA: 0s - loss: 0.0617 - accuracy: 0.9882\n",
            "Epoch 00125: loss improved from 0.06187 to 0.06168, saving model to /content/gdrive/MyDrive/Colab Notebooks/checkpoints_proyecto_final/cp_0125.ckpt\n",
            "19/19 [==============================] - 21s 1s/step - loss: 0.0617 - accuracy: 0.9882\n",
            "Epoch 126/200\n",
            "19/19 [==============================] - ETA: 0s - loss: 0.0645 - accuracy: 0.9878\n",
            "Epoch 00126: loss did not improve from 0.06168\n",
            "19/19 [==============================] - 21s 1s/step - loss: 0.0645 - accuracy: 0.9878\n",
            "Epoch 127/200\n",
            "19/19 [==============================] - ETA: 0s - loss: 0.0637 - accuracy: 0.9879\n",
            "Epoch 00127: loss did not improve from 0.06168\n",
            "19/19 [==============================] - 21s 1s/step - loss: 0.0637 - accuracy: 0.9879\n",
            "Epoch 128/200\n",
            "19/19 [==============================] - ETA: 0s - loss: 0.0636 - accuracy: 0.9881\n",
            "Epoch 00128: loss did not improve from 0.06168\n",
            "19/19 [==============================] - 21s 1s/step - loss: 0.0636 - accuracy: 0.9881\n",
            "Epoch 129/200\n",
            "19/19 [==============================] - ETA: 0s - loss: 0.0661 - accuracy: 0.9874\n",
            "Epoch 00129: loss did not improve from 0.06168\n",
            "19/19 [==============================] - 21s 1s/step - loss: 0.0661 - accuracy: 0.9874\n",
            "Epoch 130/200\n",
            "19/19 [==============================] - ETA: 0s - loss: 0.0755 - accuracy: 0.9844\n",
            "Epoch 00130: loss did not improve from 0.06168\n",
            "19/19 [==============================] - 21s 1s/step - loss: 0.0755 - accuracy: 0.9844\n",
            "Epoch 131/200\n",
            "19/19 [==============================] - ETA: 0s - loss: 0.0610 - accuracy: 0.9882\n",
            "Epoch 00131: loss improved from 0.06168 to 0.06105, saving model to /content/gdrive/MyDrive/Colab Notebooks/checkpoints_proyecto_final/cp_0131.ckpt\n",
            "19/19 [==============================] - 21s 1s/step - loss: 0.0610 - accuracy: 0.9882\n",
            "Epoch 132/200\n",
            "19/19 [==============================] - ETA: 0s - loss: 0.0674 - accuracy: 0.9869\n",
            "Epoch 00132: loss did not improve from 0.06105\n",
            "19/19 [==============================] - 21s 1s/step - loss: 0.0674 - accuracy: 0.9869\n",
            "Epoch 133/200\n",
            "19/19 [==============================] - ETA: 0s - loss: 0.0688 - accuracy: 0.9866\n",
            "Epoch 00133: loss did not improve from 0.06105\n",
            "19/19 [==============================] - 21s 1s/step - loss: 0.0688 - accuracy: 0.9866\n",
            "Epoch 134/200\n",
            "19/19 [==============================] - ETA: 0s - loss: 0.0609 - accuracy: 0.9883\n",
            "Epoch 00134: loss improved from 0.06105 to 0.06091, saving model to /content/gdrive/MyDrive/Colab Notebooks/checkpoints_proyecto_final/cp_0134.ckpt\n",
            "19/19 [==============================] - 22s 1s/step - loss: 0.0609 - accuracy: 0.9883\n",
            "Epoch 135/200\n",
            "19/19 [==============================] - ETA: 0s - loss: 0.0745 - accuracy: 0.9849\n",
            "Epoch 00135: loss did not improve from 0.06091\n",
            "19/19 [==============================] - 21s 1s/step - loss: 0.0745 - accuracy: 0.9849\n",
            "Epoch 136/200\n",
            "19/19 [==============================] - ETA: 0s - loss: 0.0620 - accuracy: 0.9882\n",
            "Epoch 00136: loss did not improve from 0.06091\n",
            "19/19 [==============================] - 21s 1s/step - loss: 0.0620 - accuracy: 0.9882\n",
            "Epoch 137/200\n",
            "19/19 [==============================] - ETA: 0s - loss: 0.0615 - accuracy: 0.9883\n",
            "Epoch 00137: loss did not improve from 0.06091\n",
            "19/19 [==============================] - 21s 1s/step - loss: 0.0615 - accuracy: 0.9883\n",
            "Epoch 138/200\n",
            "19/19 [==============================] - ETA: 0s - loss: 0.0715 - accuracy: 0.9860\n",
            "Epoch 00138: loss did not improve from 0.06091\n",
            "19/19 [==============================] - 21s 1s/step - loss: 0.0715 - accuracy: 0.9860\n",
            "Epoch 139/200\n",
            "19/19 [==============================] - ETA: 0s - loss: 0.0640 - accuracy: 0.9879\n",
            "Epoch 00139: loss did not improve from 0.06091\n",
            "19/19 [==============================] - 21s 1s/step - loss: 0.0640 - accuracy: 0.9879\n",
            "Epoch 140/200\n",
            "19/19 [==============================] - ETA: 0s - loss: 0.0613 - accuracy: 0.9881\n",
            "Epoch 00140: loss did not improve from 0.06091\n",
            "19/19 [==============================] - 21s 1s/step - loss: 0.0613 - accuracy: 0.9881\n",
            "Epoch 141/200\n",
            "19/19 [==============================] - ETA: 0s - loss: 0.0704 - accuracy: 0.9865\n",
            "Epoch 00141: loss did not improve from 0.06091\n",
            "19/19 [==============================] - 21s 1s/step - loss: 0.0704 - accuracy: 0.9865\n",
            "Epoch 142/200\n",
            "19/19 [==============================] - ETA: 0s - loss: 0.0638 - accuracy: 0.9879\n",
            "Epoch 00142: loss did not improve from 0.06091\n",
            "19/19 [==============================] - 21s 1s/step - loss: 0.0638 - accuracy: 0.9879\n",
            "Epoch 143/200\n",
            "19/19 [==============================] - ETA: 0s - loss: 0.0618 - accuracy: 0.9883\n",
            "Epoch 00143: loss did not improve from 0.06091\n",
            "19/19 [==============================] - 21s 1s/step - loss: 0.0618 - accuracy: 0.9883\n",
            "Epoch 144/200\n",
            "19/19 [==============================] - ETA: 0s - loss: 0.0649 - accuracy: 0.9879\n",
            "Epoch 00144: loss did not improve from 0.06091\n",
            "19/19 [==============================] - 21s 1s/step - loss: 0.0649 - accuracy: 0.9879\n",
            "Epoch 145/200\n",
            "19/19 [==============================] - ETA: 0s - loss: 0.0648 - accuracy: 0.9878\n",
            "Epoch 00145: loss did not improve from 0.06091\n",
            "19/19 [==============================] - 21s 1s/step - loss: 0.0648 - accuracy: 0.9878\n",
            "Epoch 146/200\n",
            "19/19 [==============================] - ETA: 0s - loss: 0.0671 - accuracy: 0.9870\n",
            "Epoch 00146: loss did not improve from 0.06091\n",
            "19/19 [==============================] - 21s 1s/step - loss: 0.0671 - accuracy: 0.9870\n",
            "Epoch 147/200\n",
            "19/19 [==============================] - ETA: 0s - loss: 0.0618 - accuracy: 0.9883\n",
            "Epoch 00147: loss did not improve from 0.06091\n",
            "19/19 [==============================] - 21s 1s/step - loss: 0.0618 - accuracy: 0.9883\n",
            "Epoch 148/200\n",
            "19/19 [==============================] - ETA: 0s - loss: 0.0695 - accuracy: 0.9864\n",
            "Epoch 00148: loss did not improve from 0.06091\n",
            "19/19 [==============================] - 21s 1s/step - loss: 0.0695 - accuracy: 0.9864\n",
            "Epoch 149/200\n",
            "19/19 [==============================] - ETA: 0s - loss: 0.0671 - accuracy: 0.9869\n",
            "Epoch 00149: loss did not improve from 0.06091\n",
            "19/19 [==============================] - 21s 1s/step - loss: 0.0671 - accuracy: 0.9869\n",
            "Epoch 150/200\n",
            "19/19 [==============================] - ETA: 0s - loss: 0.0609 - accuracy: 0.9884\n",
            "Epoch 00150: loss improved from 0.06091 to 0.06088, saving model to /content/gdrive/MyDrive/Colab Notebooks/checkpoints_proyecto_final/cp_0150.ckpt\n",
            "19/19 [==============================] - 22s 1s/step - loss: 0.0609 - accuracy: 0.9884\n",
            "Epoch 151/200\n",
            "19/19 [==============================] - ETA: 0s - loss: 0.0731 - accuracy: 0.9855\n",
            "Epoch 00151: loss did not improve from 0.06088\n",
            "19/19 [==============================] - 21s 1s/step - loss: 0.0731 - accuracy: 0.9855\n",
            "Epoch 152/200\n",
            "19/19 [==============================] - ETA: 0s - loss: 0.0624 - accuracy: 0.9881\n",
            "Epoch 00152: loss did not improve from 0.06088\n",
            "19/19 [==============================] - 21s 1s/step - loss: 0.0624 - accuracy: 0.9881\n",
            "Epoch 153/200\n",
            "19/19 [==============================] - ETA: 0s - loss: 0.0611 - accuracy: 0.9883\n",
            "Epoch 00153: loss did not improve from 0.06088\n",
            "19/19 [==============================] - 21s 1s/step - loss: 0.0611 - accuracy: 0.9883\n",
            "Epoch 154/200\n",
            "19/19 [==============================] - ETA: 0s - loss: 0.0633 - accuracy: 0.9881\n",
            "Epoch 00154: loss did not improve from 0.06088\n",
            "19/19 [==============================] - 22s 1s/step - loss: 0.0633 - accuracy: 0.9881\n",
            "Epoch 155/200\n",
            "19/19 [==============================] - ETA: 0s - loss: 0.0628 - accuracy: 0.9881\n",
            "Epoch 00155: loss did not improve from 0.06088\n",
            "19/19 [==============================] - 21s 1s/step - loss: 0.0628 - accuracy: 0.9881\n",
            "Epoch 156/200\n",
            "19/19 [==============================] - ETA: 0s - loss: 0.0634 - accuracy: 0.9882\n",
            "Epoch 00156: loss did not improve from 0.06088\n",
            "19/19 [==============================] - 21s 1s/step - loss: 0.0634 - accuracy: 0.9882\n",
            "Epoch 157/200\n",
            "19/19 [==============================] - ETA: 0s - loss: 0.0620 - accuracy: 0.9882\n",
            "Epoch 00157: loss did not improve from 0.06088\n",
            "19/19 [==============================] - 21s 1s/step - loss: 0.0620 - accuracy: 0.9882\n",
            "Epoch 158/200\n",
            "19/19 [==============================] - ETA: 0s - loss: 0.0632 - accuracy: 0.9882\n",
            "Epoch 00158: loss did not improve from 0.06088\n",
            "19/19 [==============================] - 21s 1s/step - loss: 0.0632 - accuracy: 0.9882\n",
            "Epoch 159/200\n",
            "19/19 [==============================] - ETA: 0s - loss: 0.0634 - accuracy: 0.9881\n",
            "Epoch 00159: loss did not improve from 0.06088\n",
            "19/19 [==============================] - 21s 1s/step - loss: 0.0634 - accuracy: 0.9881\n",
            "Epoch 160/200\n",
            "19/19 [==============================] - ETA: 0s - loss: 0.0640 - accuracy: 0.9880\n",
            "Epoch 00160: loss did not improve from 0.06088\n",
            "19/19 [==============================] - 21s 1s/step - loss: 0.0640 - accuracy: 0.9880\n",
            "Epoch 161/200\n",
            "19/19 [==============================] - ETA: 0s - loss: 0.0639 - accuracy: 0.9881\n",
            "Epoch 00161: loss did not improve from 0.06088\n",
            "19/19 [==============================] - 21s 1s/step - loss: 0.0639 - accuracy: 0.9881\n",
            "Epoch 162/200\n",
            "19/19 [==============================] - ETA: 0s - loss: 0.0626 - accuracy: 0.9882\n",
            "Epoch 00162: loss did not improve from 0.06088\n",
            "19/19 [==============================] - 21s 1s/step - loss: 0.0626 - accuracy: 0.9882\n",
            "Epoch 163/200\n",
            "19/19 [==============================] - ETA: 0s - loss: 0.0712 - accuracy: 0.9854\n",
            "Epoch 00163: loss did not improve from 0.06088\n",
            "19/19 [==============================] - 21s 1s/step - loss: 0.0712 - accuracy: 0.9854\n",
            "Epoch 164/200\n",
            "19/19 [==============================] - ETA: 0s - loss: 0.0623 - accuracy: 0.9882\n",
            "Epoch 00164: loss did not improve from 0.06088\n",
            "19/19 [==============================] - 21s 1s/step - loss: 0.0623 - accuracy: 0.9882\n",
            "Epoch 165/200\n",
            "19/19 [==============================] - ETA: 0s - loss: 0.0600 - accuracy: 0.9884\n",
            "Epoch 00165: loss improved from 0.06088 to 0.06004, saving model to /content/gdrive/MyDrive/Colab Notebooks/checkpoints_proyecto_final/cp_0165.ckpt\n",
            "19/19 [==============================] - 22s 1s/step - loss: 0.0600 - accuracy: 0.9884\n",
            "Epoch 166/200\n",
            "19/19 [==============================] - ETA: 0s - loss: 0.0668 - accuracy: 0.9872\n",
            "Epoch 00166: loss did not improve from 0.06004\n",
            "19/19 [==============================] - 21s 1s/step - loss: 0.0668 - accuracy: 0.9872\n",
            "Epoch 167/200\n",
            "19/19 [==============================] - ETA: 0s - loss: 0.0641 - accuracy: 0.9877\n",
            "Epoch 00167: loss did not improve from 0.06004\n",
            "19/19 [==============================] - 21s 1s/step - loss: 0.0641 - accuracy: 0.9877\n",
            "Epoch 168/200\n",
            "19/19 [==============================] - ETA: 0s - loss: 0.0603 - accuracy: 0.9885\n",
            "Epoch 00168: loss did not improve from 0.06004\n",
            "19/19 [==============================] - 21s 1s/step - loss: 0.0603 - accuracy: 0.9885\n",
            "Epoch 169/200\n",
            "19/19 [==============================] - ETA: 0s - loss: 0.0727 - accuracy: 0.9857\n",
            "Epoch 00169: loss did not improve from 0.06004\n",
            "19/19 [==============================] - 21s 1s/step - loss: 0.0727 - accuracy: 0.9857\n",
            "Epoch 170/200\n",
            "19/19 [==============================] - ETA: 0s - loss: 0.0622 - accuracy: 0.9882\n",
            "Epoch 00170: loss did not improve from 0.06004\n",
            "19/19 [==============================] - 21s 1s/step - loss: 0.0622 - accuracy: 0.9882\n",
            "Epoch 171/200\n",
            "19/19 [==============================] - ETA: 0s - loss: 0.0601 - accuracy: 0.9885\n",
            "Epoch 00171: loss did not improve from 0.06004\n",
            "19/19 [==============================] - 21s 1s/step - loss: 0.0601 - accuracy: 0.9885\n",
            "Epoch 172/200\n",
            "19/19 [==============================] - ETA: 0s - loss: 0.0702 - accuracy: 0.9860\n",
            "Epoch 00172: loss did not improve from 0.06004\n",
            "19/19 [==============================] - 21s 1s/step - loss: 0.0702 - accuracy: 0.9860\n",
            "Epoch 173/200\n",
            "19/19 [==============================] - ETA: 0s - loss: 0.0628 - accuracy: 0.9881\n",
            "Epoch 00173: loss did not improve from 0.06004\n",
            "19/19 [==============================] - 21s 1s/step - loss: 0.0628 - accuracy: 0.9881\n",
            "Epoch 174/200\n",
            "19/19 [==============================] - ETA: 0s - loss: 0.0596 - accuracy: 0.9885\n",
            "Epoch 00174: loss improved from 0.06004 to 0.05958, saving model to /content/gdrive/MyDrive/Colab Notebooks/checkpoints_proyecto_final/cp_0174.ckpt\n",
            "19/19 [==============================] - 21s 1s/step - loss: 0.0596 - accuracy: 0.9885\n",
            "Epoch 175/200\n",
            "19/19 [==============================] - ETA: 0s - loss: 0.0688 - accuracy: 0.9868\n",
            "Epoch 00175: loss did not improve from 0.05958\n",
            "19/19 [==============================] - 21s 1s/step - loss: 0.0688 - accuracy: 0.9868\n",
            "Epoch 176/200\n",
            "19/19 [==============================] - ETA: 0s - loss: 0.0606 - accuracy: 0.9884\n",
            "Epoch 00176: loss did not improve from 0.05958\n",
            "19/19 [==============================] - 21s 1s/step - loss: 0.0606 - accuracy: 0.9884\n",
            "Epoch 177/200\n",
            "19/19 [==============================] - ETA: 0s - loss: 0.0611 - accuracy: 0.9883\n",
            "Epoch 00177: loss did not improve from 0.05958\n",
            "19/19 [==============================] - 21s 1s/step - loss: 0.0611 - accuracy: 0.9883\n",
            "Epoch 178/200\n",
            "19/19 [==============================] - ETA: 0s - loss: 0.0617 - accuracy: 0.9882\n",
            "Epoch 00178: loss did not improve from 0.05958\n",
            "19/19 [==============================] - 21s 1s/step - loss: 0.0617 - accuracy: 0.9882\n",
            "Epoch 179/200\n",
            "19/19 [==============================] - ETA: 0s - loss: 0.0618 - accuracy: 0.9883\n",
            "Epoch 00179: loss did not improve from 0.05958\n",
            "19/19 [==============================] - 21s 1s/step - loss: 0.0618 - accuracy: 0.9883\n",
            "Epoch 180/200\n",
            "19/19 [==============================] - ETA: 0s - loss: 0.0635 - accuracy: 0.9880\n",
            "Epoch 00180: loss did not improve from 0.05958\n",
            "19/19 [==============================] - 21s 1s/step - loss: 0.0635 - accuracy: 0.9880\n",
            "Epoch 181/200\n",
            "19/19 [==============================] - ETA: 0s - loss: 0.0612 - accuracy: 0.9883\n",
            "Epoch 00181: loss did not improve from 0.05958\n",
            "19/19 [==============================] - 21s 1s/step - loss: 0.0612 - accuracy: 0.9883\n",
            "Epoch 182/200\n",
            "19/19 [==============================] - ETA: 0s - loss: 0.0622 - accuracy: 0.9882\n",
            "Epoch 00182: loss did not improve from 0.05958\n",
            "19/19 [==============================] - 21s 1s/step - loss: 0.0622 - accuracy: 0.9882\n",
            "Epoch 183/200\n",
            "19/19 [==============================] - ETA: 0s - loss: 0.0615 - accuracy: 0.9883\n",
            "Epoch 00183: loss did not improve from 0.05958\n",
            "19/19 [==============================] - 21s 1s/step - loss: 0.0615 - accuracy: 0.9883\n",
            "Epoch 184/200\n",
            "19/19 [==============================] - ETA: 0s - loss: 0.0629 - accuracy: 0.9882\n",
            "Epoch 00184: loss did not improve from 0.05958\n",
            "19/19 [==============================] - 21s 1s/step - loss: 0.0629 - accuracy: 0.9882\n",
            "Epoch 185/200\n",
            "19/19 [==============================] - ETA: 0s - loss: 0.0646 - accuracy: 0.9877\n",
            "Epoch 00185: loss did not improve from 0.05958\n",
            "19/19 [==============================] - 21s 1s/step - loss: 0.0646 - accuracy: 0.9877\n",
            "Epoch 186/200\n",
            "19/19 [==============================] - ETA: 0s - loss: 0.0678 - accuracy: 0.9866\n",
            "Epoch 00186: loss did not improve from 0.05958\n",
            "19/19 [==============================] - 21s 1s/step - loss: 0.0678 - accuracy: 0.9866\n",
            "Epoch 187/200\n",
            "19/19 [==============================] - ETA: 0s - loss: 0.0587 - accuracy: 0.9886\n",
            "Epoch 00187: loss improved from 0.05958 to 0.05875, saving model to /content/gdrive/MyDrive/Colab Notebooks/checkpoints_proyecto_final/cp_0187.ckpt\n",
            "19/19 [==============================] - 22s 1s/step - loss: 0.0587 - accuracy: 0.9886\n",
            "Epoch 188/200\n",
            "19/19 [==============================] - ETA: 0s - loss: 0.0704 - accuracy: 0.9856\n",
            "Epoch 00188: loss did not improve from 0.05875\n",
            "19/19 [==============================] - 21s 1s/step - loss: 0.0704 - accuracy: 0.9856\n",
            "Epoch 189/200\n",
            "19/19 [==============================] - ETA: 0s - loss: 0.0607 - accuracy: 0.9885\n",
            "Epoch 00189: loss did not improve from 0.05875\n",
            "19/19 [==============================] - 21s 1s/step - loss: 0.0607 - accuracy: 0.9885\n",
            "Epoch 190/200\n",
            "19/19 [==============================] - ETA: 0s - loss: 0.0598 - accuracy: 0.9886\n",
            "Epoch 00190: loss did not improve from 0.05875\n",
            "19/19 [==============================] - 21s 1s/step - loss: 0.0598 - accuracy: 0.9886\n",
            "Epoch 191/200\n",
            "19/19 [==============================] - ETA: 0s - loss: 0.0713 - accuracy: 0.9857\n",
            "Epoch 00191: loss did not improve from 0.05875\n",
            "19/19 [==============================] - 21s 1s/step - loss: 0.0713 - accuracy: 0.9857\n",
            "Epoch 192/200\n",
            "19/19 [==============================] - ETA: 0s - loss: 0.0599 - accuracy: 0.9885\n",
            "Epoch 00192: loss did not improve from 0.05875\n",
            "19/19 [==============================] - 21s 1s/step - loss: 0.0599 - accuracy: 0.9885\n",
            "Epoch 193/200\n",
            "19/19 [==============================] - ETA: 0s - loss: 0.0593 - accuracy: 0.9886\n",
            "Epoch 00193: loss did not improve from 0.05875\n",
            "19/19 [==============================] - 21s 1s/step - loss: 0.0593 - accuracy: 0.9886\n",
            "Epoch 194/200\n",
            "19/19 [==============================] - ETA: 0s - loss: 0.0650 - accuracy: 0.9875\n",
            "Epoch 00194: loss did not improve from 0.05875\n",
            "19/19 [==============================] - 21s 1s/step - loss: 0.0650 - accuracy: 0.9875\n",
            "Epoch 195/200\n",
            "19/19 [==============================] - ETA: 0s - loss: 0.0638 - accuracy: 0.9878\n",
            "Epoch 00195: loss did not improve from 0.05875\n",
            "19/19 [==============================] - 21s 1s/step - loss: 0.0638 - accuracy: 0.9878\n",
            "Epoch 196/200\n",
            "19/19 [==============================] - ETA: 0s - loss: 0.0598 - accuracy: 0.9885\n",
            "Epoch 00196: loss did not improve from 0.05875\n",
            "19/19 [==============================] - 21s 1s/step - loss: 0.0598 - accuracy: 0.9885\n",
            "Epoch 197/200\n",
            "19/19 [==============================] - ETA: 0s - loss: 0.0614 - accuracy: 0.9884\n",
            "Epoch 00197: loss did not improve from 0.05875\n",
            "19/19 [==============================] - 21s 1s/step - loss: 0.0614 - accuracy: 0.9884\n",
            "Epoch 198/200\n",
            "19/19 [==============================] - ETA: 0s - loss: 0.0621 - accuracy: 0.9883\n",
            "Epoch 00198: loss did not improve from 0.05875\n",
            "19/19 [==============================] - 21s 1s/step - loss: 0.0621 - accuracy: 0.9883\n",
            "Epoch 199/200\n",
            "19/19 [==============================] - ETA: 0s - loss: 0.0611 - accuracy: 0.9885\n",
            "Epoch 00199: loss did not improve from 0.05875\n",
            "19/19 [==============================] - 21s 1s/step - loss: 0.0611 - accuracy: 0.9885\n",
            "Epoch 200/200\n",
            "19/19 [==============================] - ETA: 0s - loss: 0.0610 - accuracy: 0.9884\n",
            "Epoch 00200: loss did not improve from 0.05875\n",
            "19/19 [==============================] - 22s 1s/step - loss: 0.0610 - accuracy: 0.9884\n"
          ]
        }
      ]
    },
    {
      "cell_type": "markdown",
      "metadata": {
        "id": "FnIbqMyqzrWU"
      },
      "source": [
        "##P5. Generando texto nuevo usando la RNN"
      ]
    },
    {
      "cell_type": "code",
      "metadata": {
        "id": "1vGr7GvUzwxg"
      },
      "source": [
        "#creamos un modelo tomando como base el ultimo checkpoint\n",
        "model = create_model(vocab_size, embedding_dim, rnn_units, batch_size=1)\n",
        "model.load_weights(tf.train.latest_checkpoint(checkpoint_dir))##tomamos el ultimo checkpoint\n",
        "model.build(tf.TensorShape([1,None]))"
      ],
      "execution_count": 18,
      "outputs": []
    },
    {
      "cell_type": "code",
      "metadata": {
        "id": "CvoSiWWp2_H-"
      },
      "source": [
        "#funcion para generar texto\n",
        "def generate_text(model, start_string):\n",
        "  #definimos cuantos tensores/cantidad de texto generaremos\n",
        "  num_generate=500\n",
        "  #convertimos el texto en números\n",
        "  input_eval=[char2idx[s] for s in start_string]\n",
        "  input_eval= tf.expand_dims (input_eval,0)\n",
        "  text_generated = []\n",
        "\n",
        "  temperature = 0.2  #(0.0 a  1) entre más alta la temperatura más creatividad al modelo, pero tambien más errores ortograficos.\n",
        "  model.reset_states() #bucle para generar caracteres, mediante predicciones\n",
        "  for i in range(num_generate):\n",
        "    predictions = model(input_eval)\n",
        "    predictions = tf.squeeze(predictions, 0)\n",
        "    predictions = predictions / temperature\n",
        "    predicted_id = tf.random.categorical(predictions, num_samples=1)[-1,0].numpy()\n",
        "    input_eval= tf.expand_dims([predicted_id],0)\n",
        "    text_generated.append (idx2char[predicted_id])\n",
        "  \n",
        "  return (start_string+ ''.join(text_generated))"
      ],
      "execution_count": 19,
      "outputs": []
    },
    {
      "cell_type": "markdown",
      "metadata": {
        "id": "ZFfQ5EiP4ghF"
      },
      "source": [
        "###P5.1 generando texto "
      ]
    },
    {
      "cell_type": "code",
      "metadata": {
        "id": "BkLdbX724kBy",
        "colab": {
          "base_uri": "https://localhost:8080/"
        },
        "outputId": "67e576b7-65f1-45a6-cd3b-760223938f2e"
      },
      "source": [
        "print(generate_text(model, start_string=u\"los musulmanes\"))"
      ],
      "execution_count": 20,
      "outputs": [
        {
          "output_type": "stream",
          "name": "stdout",
          "text": [
            "los musulmanes shiitas de el salvador,atraves de la biblioteca islamica fatima hazzahra,hemos realizado con mucho amor y dedicacion para el engrandecimiento del islam,la presente edicion del coran,libro bendito,que constituye la culminacion de los mensajes que ala ha enviado a traves de todas las epostabais a sus tropas y las aguas del mar les cubrieron.faraon habia extraviado a su pueblo,no le habia dirigido bien.hijos de israel os hemos salvado de vuestros enemigos y nos hemos dado cita con vosotros en la l\n"
          ]
        }
      ]
    },
    {
      "cell_type": "markdown",
      "metadata": {
        "id": "T-3PF45LpJBS"
      },
      "source": [
        "##P6.exportando modelo\n",
        "\n",
        "---\n",
        "Guardamos y Serializamos el Modelo (con esto ya podemos vender nuestro modelo de predicción de texto según lo aprendido por nuestra RNN).\n"
      ]
    },
    {
      "cell_type": "code",
      "metadata": {
        "id": "5_BJSb-7pL7B",
        "colab": {
          "base_uri": "https://localhost:8080/"
        },
        "outputId": "133653e6-b2a3-45e4-8847-919f085a4af6"
      },
      "source": [
        "from keras.models import model_from_json\n",
        "import os\n",
        "dir_export= '/content/gdrive/MyDrive/Colab Notebooks//Proyecto_Final/'\n",
        "#dir_export= os.path.join(dir_drive)\n",
        "# Serializamos el modelo en forma JSON\n",
        "model_json = model.to_json()\n",
        "with open(os.path.join(dir_export,'RNN_Coran_json.json'), 'w') as json_file:\n",
        "    json_file.write(model_json)\n",
        "# serialize weights to HDF5\n",
        "model.save_weights(os.path.join(dir_export,'RNN_Coran_pesos.hdf5'))\n",
        "model.save(os.path.join(dir_export,'RNN_Coran_model.h5'))\n",
        "print(\"Modelo salvado en Drive de google\")"
      ],
      "execution_count": 21,
      "outputs": [
        {
          "output_type": "stream",
          "name": "stdout",
          "text": [
            "Modelo salvado en Drive de google\n"
          ]
        }
      ]
    }
  ]
}