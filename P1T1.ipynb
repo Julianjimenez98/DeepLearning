{
  "nbformat": 4,
  "nbformat_minor": 0,
  "metadata": {
    "colab": {
      "name": "P1T1.ipynb",
      "provenance": [],
      "collapsed_sections": [],
      "toc_visible": true
    },
    "kernelspec": {
      "name": "python3",
      "display_name": "Python 3"
    },
    "language_info": {
      "name": "python"
    }
  },
  "cells": [
    {
      "cell_type": "markdown",
      "metadata": {
        "id": "3vKcBwKIrAKk"
      },
      "source": [
        "#Ejercicio 1"
      ]
    },
    {
      "cell_type": "markdown",
      "metadata": {
        "id": "nkpQcx-26MqN"
      },
      "source": [
        "##P1T2"
      ]
    },
    {
      "cell_type": "code",
      "metadata": {
        "id": "LkHgXPf3rIJ3"
      },
      "source": [
        "precioP = 0 \n",
        "for i in range(0,int(input(\"Ingrese los productos \"))): \n",
        "  precioP += int(input(\"Ingrese el precio del producto \"+str(i)+\":\"))\n",
        "print(\"El precio de los productos es: \"+str(precioP))\n",
        "iva = precioP*0.19\n",
        "print(\"Total iva: \",iva)"
      ],
      "execution_count": null,
      "outputs": []
    },
    {
      "cell_type": "markdown",
      "metadata": {
        "id": "IHnANR1Stovn"
      },
      "source": [
        "#Ejercicio 2"
      ]
    },
    {
      "cell_type": "markdown",
      "metadata": {
        "id": "_8YiEF1olXuN"
      },
      "source": [
        "##P1T3"
      ]
    },
    {
      "cell_type": "code",
      "metadata": {
        "id": "ZqaEZip5lqCn"
      },
      "source": [
        "import random\n",
        "rep = 0\n",
        "notas = [random.randrange(0.0,5.0) for i in range(5)]\n",
        "for nota in notas:\n",
        "  if(nota<=2.9): rep = rep+1\n",
        "print(str(notas)+\"\\nPerdieron: \"+str(rep)+\"\\nAprobaron: \"+str(5-rep)+\"\\nPromedio: \"+str(sum(notas)/5))"
      ],
      "execution_count": null,
      "outputs": []
    },
    {
      "cell_type": "markdown",
      "metadata": {
        "id": "DwXaVnZz48az"
      },
      "source": [
        "#Buscando errores"
      ]
    },
    {
      "cell_type": "markdown",
      "metadata": {
        "id": "iCTF2GNn5mrw"
      },
      "source": [
        "##P1T3_A"
      ]
    },
    {
      "cell_type": "code",
      "metadata": {
        "id": "uNol_4OV5DcG"
      },
      "source": [
        "bruto = float(input(\"Cual es el valor bruto del producto: \"))\n",
        "def f_aplica_iva(bruto, iva = 0.19):\n",
        "    total_iva = bruto * iva   \n",
        "    return total_iva\n",
        "print(f_aplica_iva(bruto))"
      ],
      "execution_count": null,
      "outputs": []
    },
    {
      "cell_type": "markdown",
      "metadata": {
        "id": "kewcekzH59oy"
      },
      "source": [
        "##P1T3_B"
      ]
    },
    {
      "cell_type": "code",
      "metadata": {
        "id": "wi0gAC9b6AQt"
      },
      "source": [
        "u = list((1, 2, 3))\n",
        "v = list((4, 5, 6))\n",
        "for i in range(len(u)):\n",
        "  u[i] *= v[i]\n",
        "print(sum(u))"
      ],
      "execution_count": null,
      "outputs": []
    },
    {
      "cell_type": "markdown",
      "metadata": {
        "id": "QjG2v2xY6zlY"
      },
      "source": [
        "##P1T3_C"
      ]
    },
    {
      "cell_type": "code",
      "metadata": {
        "id": "9yoKlaYM63XB"
      },
      "source": [
        "total = 0\n",
        "for i in range(0, int(input(\"Total de números? \"))):\n",
        "  total+=int(input(\"Ingrese un valor: \"+str(i)+\": \"))\n",
        "print(\"El total de la suma es: \",total)"
      ],
      "execution_count": null,
      "outputs": []
    }
  ]
}