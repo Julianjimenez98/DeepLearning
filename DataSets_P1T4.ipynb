{
  "nbformat": 4,
  "nbformat_minor": 0,
  "metadata": {
    "colab": {
      "name": "DataSets_P1T4.ipynb",
      "provenance": [],
      "collapsed_sections": [],
      "toc_visible": true
    },
    "kernelspec": {
      "name": "python3",
      "display_name": "Python 3"
    },
    "language_info": {
      "name": "python"
    }
  },
  "cells": [
    {
      "cell_type": "markdown",
      "metadata": {
        "id": "yvpNuQp4vSpF"
      },
      "source": [
        ""
      ]
    },
    {
      "cell_type": "markdown",
      "metadata": {
        "id": "bkC3bTI3vtem"
      },
      "source": [
        "#Instalando Librerias"
      ]
    },
    {
      "cell_type": "code",
      "metadata": {
        "id": "CLVzbG1zvJSX"
      },
      "source": [
        "pip install pandas"
      ],
      "execution_count": null,
      "outputs": []
    },
    {
      "cell_type": "code",
      "metadata": {
        "id": "g8VNz0iGv0EP"
      },
      "source": [
        "pip freeze"
      ],
      "execution_count": null,
      "outputs": []
    },
    {
      "cell_type": "markdown",
      "metadata": {
        "id": "K7-YVImMwRfv"
      },
      "source": [
        "#Habilitar google drive"
      ]
    },
    {
      "cell_type": "code",
      "metadata": {
        "colab": {
          "base_uri": "https://localhost:8080/"
        },
        "id": "70_NQ_9swUDU",
        "outputId": "7c9d0275-43f9-426d-8328-15805aee7aac"
      },
      "source": [
        "\n",
        "from google.colab import drive\n",
        "drive.mount('/content/drive')"
      ],
      "execution_count": 2,
      "outputs": [
        {
          "output_type": "stream",
          "text": [
            "Drive already mounted at /content/drive; to attempt to forcibly remount, call drive.mount(\"/content/drive\", force_remount=True).\n"
          ],
          "name": "stdout"
        }
      ]
    },
    {
      "cell_type": "markdown",
      "metadata": {
        "id": "AwvoO6mNxjox"
      },
      "source": [
        "#Prestamos_records.csv"
      ]
    },
    {
      "cell_type": "code",
      "metadata": {
        "id": "ub0fo-qrxndK"
      },
      "source": [
        "import pandas as pd\n",
        "df = pd.read_csv(\"https://raw.githubusercontent.com/luisFernandoCastellanosG/Machine_learning/master/DataScience/DataSet's/prestamos_records.csv\")"
      ],
      "execution_count": 81,
      "outputs": []
    },
    {
      "cell_type": "markdown",
      "metadata": {
        "id": "TeXGR_bSD_Cf"
      },
      "source": [
        "##Descubriendo los datos"
      ]
    },
    {
      "cell_type": "code",
      "metadata": {
        "id": "wUkDi2ZvzERT",
        "colab": {
          "base_uri": "https://localhost:8080/",
          "height": 300
        },
        "outputId": "6091d925-3c05-452c-da28-2a59777221d6"
      },
      "source": [
        "#df.head(10) #Muestra las n primeras filas de los datos\n",
        "#df.tail(10) #Muestra las n ultimas filas de los datos\n",
        "#df.shape #Muestra la cantidad de filas y columnas\n",
        "df.describe() #Muestra datos estadísticos descriptivos de los datos"
      ],
      "execution_count": 29,
      "outputs": [
        {
          "output_type": "execute_result",
          "data": {
            "text/html": [
              "<div>\n",
              "<style scoped>\n",
              "    .dataframe tbody tr th:only-of-type {\n",
              "        vertical-align: middle;\n",
              "    }\n",
              "\n",
              "    .dataframe tbody tr th {\n",
              "        vertical-align: top;\n",
              "    }\n",
              "\n",
              "    .dataframe thead th {\n",
              "        text-align: right;\n",
              "    }\n",
              "</style>\n",
              "<table border=\"1\" class=\"dataframe\">\n",
              "  <thead>\n",
              "    <tr style=\"text-align: right;\">\n",
              "      <th></th>\n",
              "      <th>MONTO_DEL_PRESTAMO</th>\n",
              "    </tr>\n",
              "  </thead>\n",
              "  <tbody>\n",
              "    <tr>\n",
              "      <th>count</th>\n",
              "      <td>8000.000000</td>\n",
              "    </tr>\n",
              "    <tr>\n",
              "      <th>mean</th>\n",
              "      <td>6502.262500</td>\n",
              "    </tr>\n",
              "    <tr>\n",
              "      <th>std</th>\n",
              "      <td>6471.159913</td>\n",
              "    </tr>\n",
              "    <tr>\n",
              "      <th>min</th>\n",
              "      <td>2500.000000</td>\n",
              "    </tr>\n",
              "    <tr>\n",
              "      <th>25%</th>\n",
              "      <td>2500.000000</td>\n",
              "    </tr>\n",
              "    <tr>\n",
              "      <th>50%</th>\n",
              "      <td>3800.000000</td>\n",
              "    </tr>\n",
              "    <tr>\n",
              "      <th>75%</th>\n",
              "      <td>7600.000000</td>\n",
              "    </tr>\n",
              "    <tr>\n",
              "      <th>max</th>\n",
              "      <td>35000.000000</td>\n",
              "    </tr>\n",
              "  </tbody>\n",
              "</table>\n",
              "</div>"
            ],
            "text/plain": [
              "       MONTO_DEL_PRESTAMO\n",
              "count         8000.000000\n",
              "mean          6502.262500\n",
              "std           6471.159913\n",
              "min           2500.000000\n",
              "25%           2500.000000\n",
              "50%           3800.000000\n",
              "75%           7600.000000\n",
              "max          35000.000000"
            ]
          },
          "metadata": {},
          "execution_count": 29
        }
      ]
    },
    {
      "cell_type": "markdown",
      "metadata": {
        "id": "Aom6z07mEFa5"
      },
      "source": [
        "##Limpieza de datos"
      ]
    },
    {
      "cell_type": "code",
      "metadata": {
        "colab": {
          "base_uri": "https://localhost:8080/",
          "height": 905
        },
        "id": "HR0Os43MCdmN",
        "outputId": "31e8aef7-7884-4fa9-cad9-7e73164de198"
      },
      "source": [
        "#df_filtrado = df.dropna() #Filtra el df y elimina las filas con NaN\n",
        "#df_filtrado.head() #Muestra los datos filtrados\n",
        "#df_filtrado = df.fillna(0) #Llena los espacios NaN con un valor fijo\n",
        "#df_filtrado.head() #Muestra los datos llenados\n",
        "df_filtrado = df.fillna({\"DEUDA_EXISTENTE\": 0, \"NOTAS_DEL_AGENTE\": -1}) #Llenar datos dependiendo la columna\n",
        "df_filtrado.head(20) #Muestra los datos llenados"
      ],
      "execution_count": 43,
      "outputs": [
        {
          "output_type": "execute_result",
          "data": {
            "text/html": [
              "<div>\n",
              "<style scoped>\n",
              "    .dataframe tbody tr th:only-of-type {\n",
              "        vertical-align: middle;\n",
              "    }\n",
              "\n",
              "    .dataframe tbody tr th {\n",
              "        vertical-align: top;\n",
              "    }\n",
              "\n",
              "    .dataframe thead th {\n",
              "        text-align: right;\n",
              "    }\n",
              "</style>\n",
              "<table border=\"1\" class=\"dataframe\">\n",
              "  <thead>\n",
              "    <tr style=\"text-align: right;\">\n",
              "      <th></th>\n",
              "      <th>RECORD_CREATION_DATE</th>\n",
              "      <th>MONTO_DEL_PRESTAMO</th>\n",
              "      <th>RANGO_DEL_CREDITO</th>\n",
              "      <th>DEUDA_EXISTENTE</th>\n",
              "      <th>NOTAS_DEL_AGENTE</th>\n",
              "      <th>UBICACION_DE_LA_OFICINA</th>\n",
              "      <th>PRESTAMO_INCUMPLIDO</th>\n",
              "    </tr>\n",
              "  </thead>\n",
              "  <tbody>\n",
              "    <tr>\n",
              "      <th>0</th>\n",
              "      <td>01May2014:09:24:27.000000</td>\n",
              "      <td>2500</td>\n",
              "      <td>760-779</td>\n",
              "      <td>$10,001-$20,000</td>\n",
              "      <td>-1</td>\n",
              "      <td>NORTHERN CALIFORNIA</td>\n",
              "      <td>FALSO</td>\n",
              "    </tr>\n",
              "    <tr>\n",
              "      <th>1</th>\n",
              "      <td>01May2014:09:48:36.000000</td>\n",
              "      <td>2500</td>\n",
              "      <td>700-719</td>\n",
              "      <td>$1-$10,000</td>\n",
              "      <td>Ingreso anual neto: $25,400</td>\n",
              "      <td>SOUTHERN CALIFORNIA</td>\n",
              "      <td>FALSO</td>\n",
              "    </tr>\n",
              "    <tr>\n",
              "      <th>2</th>\n",
              "      <td>01May2014:10:10:36.000000</td>\n",
              "      <td>6300</td>\n",
              "      <td>740-759</td>\n",
              "      <td>$100,000+</td>\n",
              "      <td>-1</td>\n",
              "      <td>ARIZONA</td>\n",
              "      <td>VERDADERO</td>\n",
              "    </tr>\n",
              "    <tr>\n",
              "      <th>3</th>\n",
              "      <td>01May2014:10:31:25.000000</td>\n",
              "      <td>4300</td>\n",
              "      <td>780-799</td>\n",
              "      <td>$1-$10,000</td>\n",
              "      <td>Ingreso anual neto: $191,900</td>\n",
              "      <td>SOUTHERN CALIFORNIA</td>\n",
              "      <td>FALSO</td>\n",
              "    </tr>\n",
              "    <tr>\n",
              "      <th>4</th>\n",
              "      <td>01May2014:10:46:54.000000</td>\n",
              "      <td>20100</td>\n",
              "      <td>780-799</td>\n",
              "      <td>$90,001-$100,000</td>\n",
              "      <td>Pagos mensuales de deuda verificados: $1,700</td>\n",
              "      <td>SOUTHERN CALIFORNIA</td>\n",
              "      <td>VERDADERO</td>\n",
              "    </tr>\n",
              "    <tr>\n",
              "      <th>5</th>\n",
              "      <td>01May2014:11:14:12.000000</td>\n",
              "      <td>6600</td>\n",
              "      <td>760-779</td>\n",
              "      <td>$10,001-$20,000</td>\n",
              "      <td>-1</td>\n",
              "      <td>NORTHERN CALIFORNIA</td>\n",
              "      <td>FALSO</td>\n",
              "    </tr>\n",
              "    <tr>\n",
              "      <th>6</th>\n",
              "      <td>01May2014:11:23:11.000000</td>\n",
              "      <td>2500</td>\n",
              "      <td>700-719</td>\n",
              "      <td>$100,000+</td>\n",
              "      <td>Ingreso anual neto: $63,100</td>\n",
              "      <td>ARIZONA</td>\n",
              "      <td>VERDADERO</td>\n",
              "    </tr>\n",
              "    <tr>\n",
              "      <th>7</th>\n",
              "      <td>01May2014:11:53:24.000000</td>\n",
              "      <td>10000</td>\n",
              "      <td>760-779</td>\n",
              "      <td>$20,001-$30,000</td>\n",
              "      <td>-1</td>\n",
              "      <td>SOUTHERN CALIFORNIA</td>\n",
              "      <td>FALSO</td>\n",
              "    </tr>\n",
              "    <tr>\n",
              "      <th>8</th>\n",
              "      <td>01May2014:12:18:53.000000</td>\n",
              "      <td>8900</td>\n",
              "      <td>740-759</td>\n",
              "      <td>$80,001-$90,000</td>\n",
              "      <td>-1</td>\n",
              "      <td>NORTHERN CALIFORNIA</td>\n",
              "      <td>FALSO</td>\n",
              "    </tr>\n",
              "    <tr>\n",
              "      <th>9</th>\n",
              "      <td>01May2014:12:32:41.000000</td>\n",
              "      <td>2500</td>\n",
              "      <td>760-779</td>\n",
              "      <td>$30,001-$40,000</td>\n",
              "      <td>Pagos mensuales de deuda verificados: $590...I...</td>\n",
              "      <td>NORTHERN CALIFORNIA</td>\n",
              "      <td>FALSO</td>\n",
              "    </tr>\n",
              "    <tr>\n",
              "      <th>10</th>\n",
              "      <td>01May2014:12:52:26.000000</td>\n",
              "      <td>13000</td>\n",
              "      <td>720-739</td>\n",
              "      <td>$10,001-$20,000</td>\n",
              "      <td>-1</td>\n",
              "      <td>SOUTHERN CALIFORNIA</td>\n",
              "      <td>FALSO</td>\n",
              "    </tr>\n",
              "    <tr>\n",
              "      <th>11</th>\n",
              "      <td>01May2014:12:59:04.000000</td>\n",
              "      <td>2500</td>\n",
              "      <td>780-799</td>\n",
              "      <td>$10,001-$20,000</td>\n",
              "      <td>Ingreso mensual neto 16,670</td>\n",
              "      <td>NORTHERN CALIFORNIA</td>\n",
              "      <td>VERDADERO</td>\n",
              "    </tr>\n",
              "    <tr>\n",
              "      <th>12</th>\n",
              "      <td>01May2014:13:29:21.000000</td>\n",
              "      <td>11000</td>\n",
              "      <td>700-719</td>\n",
              "      <td>$70,001-$80,000</td>\n",
              "      <td>-1</td>\n",
              "      <td>NORTHERN CALIFORNIA</td>\n",
              "      <td>FALSO</td>\n",
              "    </tr>\n",
              "    <tr>\n",
              "      <th>13</th>\n",
              "      <td>01May2014:13:50:52.000000</td>\n",
              "      <td>35000</td>\n",
              "      <td>760-779</td>\n",
              "      <td>$1-$10,000</td>\n",
              "      <td>Ingreso anual neto: $15,000</td>\n",
              "      <td>OREGON</td>\n",
              "      <td>FALSO</td>\n",
              "    </tr>\n",
              "    <tr>\n",
              "      <th>14</th>\n",
              "      <td>01May2014:13:57:11.000000</td>\n",
              "      <td>5900</td>\n",
              "      <td>780-799</td>\n",
              "      <td>$20,001-$30,000</td>\n",
              "      <td>-1</td>\n",
              "      <td>SOUTHERN CALIFORNIA</td>\n",
              "      <td>FALSO</td>\n",
              "    </tr>\n",
              "    <tr>\n",
              "      <th>15</th>\n",
              "      <td>01May2014:14:29:59.000000</td>\n",
              "      <td>2500</td>\n",
              "      <td>760-779</td>\n",
              "      <td>$1-$10,000</td>\n",
              "      <td>-1</td>\n",
              "      <td>WASHINGTON STATE</td>\n",
              "      <td>FALSO</td>\n",
              "    </tr>\n",
              "    <tr>\n",
              "      <th>16</th>\n",
              "      <td>01May2014:14:53:53.000000</td>\n",
              "      <td>2500</td>\n",
              "      <td>780-799</td>\n",
              "      <td>$1-$10,000</td>\n",
              "      <td>Ingreso anual neto: $17,300</td>\n",
              "      <td>ARIZONA</td>\n",
              "      <td>FALSO</td>\n",
              "    </tr>\n",
              "    <tr>\n",
              "      <th>17</th>\n",
              "      <td>01May2014:15:07:34.000000</td>\n",
              "      <td>7600</td>\n",
              "      <td>700-719</td>\n",
              "      <td>$20,001-$30,000</td>\n",
              "      <td>Ingreso mensual neto 1,250</td>\n",
              "      <td>WASHINGTON STATE</td>\n",
              "      <td>FALSO</td>\n",
              "    </tr>\n",
              "    <tr>\n",
              "      <th>18</th>\n",
              "      <td>01May2014:15:17:40.000000</td>\n",
              "      <td>2900</td>\n",
              "      <td>760-779</td>\n",
              "      <td>$40,001-$50,000</td>\n",
              "      <td>-1</td>\n",
              "      <td>WASHINGTON STATE</td>\n",
              "      <td>VERDADERO</td>\n",
              "    </tr>\n",
              "    <tr>\n",
              "      <th>19</th>\n",
              "      <td>01May2014:15:23:38.000000</td>\n",
              "      <td>3000</td>\n",
              "      <td>740-759</td>\n",
              "      <td>0</td>\n",
              "      <td>-1</td>\n",
              "      <td>SOUTHERN CALIFORNIA</td>\n",
              "      <td>FALSO</td>\n",
              "    </tr>\n",
              "  </tbody>\n",
              "</table>\n",
              "</div>"
            ],
            "text/plain": [
              "         RECORD_CREATION_DATE  ...  PRESTAMO_INCUMPLIDO\n",
              "0   01May2014:09:24:27.000000  ...                FALSO\n",
              "1   01May2014:09:48:36.000000  ...                FALSO\n",
              "2   01May2014:10:10:36.000000  ...            VERDADERO\n",
              "3   01May2014:10:31:25.000000  ...                FALSO\n",
              "4   01May2014:10:46:54.000000  ...            VERDADERO\n",
              "5   01May2014:11:14:12.000000  ...                FALSO\n",
              "6   01May2014:11:23:11.000000  ...            VERDADERO\n",
              "7   01May2014:11:53:24.000000  ...                FALSO\n",
              "8   01May2014:12:18:53.000000  ...                FALSO\n",
              "9   01May2014:12:32:41.000000  ...                FALSO\n",
              "10  01May2014:12:52:26.000000  ...                FALSO\n",
              "11  01May2014:12:59:04.000000  ...            VERDADERO\n",
              "12  01May2014:13:29:21.000000  ...                FALSO\n",
              "13  01May2014:13:50:52.000000  ...                FALSO\n",
              "14  01May2014:13:57:11.000000  ...                FALSO\n",
              "15  01May2014:14:29:59.000000  ...                FALSO\n",
              "16  01May2014:14:53:53.000000  ...                FALSO\n",
              "17  01May2014:15:07:34.000000  ...                FALSO\n",
              "18  01May2014:15:17:40.000000  ...            VERDADERO\n",
              "19  01May2014:15:23:38.000000  ...                FALSO\n",
              "\n",
              "[20 rows x 7 columns]"
            ]
          },
          "metadata": {},
          "execution_count": 43
        }
      ]
    },
    {
      "cell_type": "markdown",
      "metadata": {
        "id": "lBXHb2jHGl-N"
      },
      "source": [
        "##Filtrado de Datos"
      ]
    },
    {
      "cell_type": "markdown",
      "metadata": {
        "id": "FbgjR-aRH6iM"
      },
      "source": [
        "###Filtrado por columnas"
      ]
    },
    {
      "cell_type": "code",
      "metadata": {
        "colab": {
          "base_uri": "https://localhost:8080/",
          "height": 424
        },
        "id": "8IVIrboeGuEw",
        "outputId": "9935a119-3b9e-4589-a83a-ecacfbc0881f"
      },
      "source": [
        "#df[\"UBICACION_DE_LA_OFICINA\"] #trae una columna\n",
        "df[[\"MONTO_DEL_PRESTAMO\",\"PRESTAMO_INCUMPLIDO\"]] #trae varias columnas"
      ],
      "execution_count": 30,
      "outputs": [
        {
          "output_type": "execute_result",
          "data": {
            "text/html": [
              "<div>\n",
              "<style scoped>\n",
              "    .dataframe tbody tr th:only-of-type {\n",
              "        vertical-align: middle;\n",
              "    }\n",
              "\n",
              "    .dataframe tbody tr th {\n",
              "        vertical-align: top;\n",
              "    }\n",
              "\n",
              "    .dataframe thead th {\n",
              "        text-align: right;\n",
              "    }\n",
              "</style>\n",
              "<table border=\"1\" class=\"dataframe\">\n",
              "  <thead>\n",
              "    <tr style=\"text-align: right;\">\n",
              "      <th></th>\n",
              "      <th>MONTO_DEL_PRESTAMO</th>\n",
              "      <th>PRESTAMO_INCUMPLIDO</th>\n",
              "    </tr>\n",
              "  </thead>\n",
              "  <tbody>\n",
              "    <tr>\n",
              "      <th>0</th>\n",
              "      <td>2500</td>\n",
              "      <td>FALSO</td>\n",
              "    </tr>\n",
              "    <tr>\n",
              "      <th>1</th>\n",
              "      <td>2500</td>\n",
              "      <td>FALSO</td>\n",
              "    </tr>\n",
              "    <tr>\n",
              "      <th>2</th>\n",
              "      <td>6300</td>\n",
              "      <td>VERDADERO</td>\n",
              "    </tr>\n",
              "    <tr>\n",
              "      <th>3</th>\n",
              "      <td>4300</td>\n",
              "      <td>FALSO</td>\n",
              "    </tr>\n",
              "    <tr>\n",
              "      <th>4</th>\n",
              "      <td>20100</td>\n",
              "      <td>VERDADERO</td>\n",
              "    </tr>\n",
              "    <tr>\n",
              "      <th>...</th>\n",
              "      <td>...</td>\n",
              "      <td>...</td>\n",
              "    </tr>\n",
              "    <tr>\n",
              "      <th>7995</th>\n",
              "      <td>3500</td>\n",
              "      <td>FALSO</td>\n",
              "    </tr>\n",
              "    <tr>\n",
              "      <th>7996</th>\n",
              "      <td>2500</td>\n",
              "      <td>VERDADERO</td>\n",
              "    </tr>\n",
              "    <tr>\n",
              "      <th>7997</th>\n",
              "      <td>2500</td>\n",
              "      <td>FALSO</td>\n",
              "    </tr>\n",
              "    <tr>\n",
              "      <th>7998</th>\n",
              "      <td>2500</td>\n",
              "      <td>VERDADERO</td>\n",
              "    </tr>\n",
              "    <tr>\n",
              "      <th>7999</th>\n",
              "      <td>2500</td>\n",
              "      <td>VERDADERO</td>\n",
              "    </tr>\n",
              "  </tbody>\n",
              "</table>\n",
              "<p>8000 rows × 2 columns</p>\n",
              "</div>"
            ],
            "text/plain": [
              "      MONTO_DEL_PRESTAMO PRESTAMO_INCUMPLIDO\n",
              "0                   2500               FALSO\n",
              "1                   2500               FALSO\n",
              "2                   6300           VERDADERO\n",
              "3                   4300               FALSO\n",
              "4                  20100           VERDADERO\n",
              "...                  ...                 ...\n",
              "7995                3500               FALSO\n",
              "7996                2500           VERDADERO\n",
              "7997                2500               FALSO\n",
              "7998                2500           VERDADERO\n",
              "7999                2500           VERDADERO\n",
              "\n",
              "[8000 rows x 2 columns]"
            ]
          },
          "metadata": {},
          "execution_count": 30
        }
      ]
    },
    {
      "cell_type": "markdown",
      "metadata": {
        "id": "yS2h6R3CICEk"
      },
      "source": [
        "###Filtrado por filas"
      ]
    },
    {
      "cell_type": "code",
      "metadata": {
        "colab": {
          "base_uri": "https://localhost:8080/",
          "height": 216
        },
        "id": "HWBCG_88IEBk",
        "outputId": "dc219aa6-459f-4245-ce6a-721450b81107"
      },
      "source": [
        "#df.iloc[0] #Trae el indice de la primera fila\n",
        "#df.iloc[0:3] #Trae un rango de filas\n",
        "df.iloc[[1,11,20]] #Trae filas especificas\n",
        "#df.loc[[20,22]] #filtra por identificador}"
      ],
      "execution_count": 55,
      "outputs": [
        {
          "output_type": "execute_result",
          "data": {
            "text/html": [
              "<div>\n",
              "<style scoped>\n",
              "    .dataframe tbody tr th:only-of-type {\n",
              "        vertical-align: middle;\n",
              "    }\n",
              "\n",
              "    .dataframe tbody tr th {\n",
              "        vertical-align: top;\n",
              "    }\n",
              "\n",
              "    .dataframe thead th {\n",
              "        text-align: right;\n",
              "    }\n",
              "</style>\n",
              "<table border=\"1\" class=\"dataframe\">\n",
              "  <thead>\n",
              "    <tr style=\"text-align: right;\">\n",
              "      <th></th>\n",
              "      <th>RECORD_CREATION_DATE</th>\n",
              "      <th>MONTO_DEL_PRESTAMO</th>\n",
              "      <th>RANGO_DEL_CREDITO</th>\n",
              "      <th>DEUDA_EXISTENTE</th>\n",
              "      <th>NOTAS_DEL_AGENTE</th>\n",
              "      <th>UBICACION_DE_LA_OFICINA</th>\n",
              "      <th>PRESTAMO_INCUMPLIDO</th>\n",
              "    </tr>\n",
              "  </thead>\n",
              "  <tbody>\n",
              "    <tr>\n",
              "      <th>1</th>\n",
              "      <td>01May2014:09:48:36.000000</td>\n",
              "      <td>2500</td>\n",
              "      <td>700-719</td>\n",
              "      <td>$1-$10,000</td>\n",
              "      <td>Ingreso anual neto: $25,400</td>\n",
              "      <td>SOUTHERN CALIFORNIA</td>\n",
              "      <td>FALSO</td>\n",
              "    </tr>\n",
              "    <tr>\n",
              "      <th>11</th>\n",
              "      <td>01May2014:12:59:04.000000</td>\n",
              "      <td>2500</td>\n",
              "      <td>780-799</td>\n",
              "      <td>$10,001-$20,000</td>\n",
              "      <td>Ingreso mensual neto 16,670</td>\n",
              "      <td>NORTHERN CALIFORNIA</td>\n",
              "      <td>VERDADERO</td>\n",
              "    </tr>\n",
              "    <tr>\n",
              "      <th>20</th>\n",
              "      <td>01May2014:15:38:11.000000</td>\n",
              "      <td>5100</td>\n",
              "      <td>700-719</td>\n",
              "      <td>$60,001-$70,000</td>\n",
              "      <td>Ingreso anual neto: $58,300</td>\n",
              "      <td>SOUTHERN CALIFORNIA</td>\n",
              "      <td>FALSO</td>\n",
              "    </tr>\n",
              "  </tbody>\n",
              "</table>\n",
              "</div>"
            ],
            "text/plain": [
              "         RECORD_CREATION_DATE  ...  PRESTAMO_INCUMPLIDO\n",
              "1   01May2014:09:48:36.000000  ...                FALSO\n",
              "11  01May2014:12:59:04.000000  ...            VERDADERO\n",
              "20  01May2014:15:38:11.000000  ...                FALSO\n",
              "\n",
              "[3 rows x 7 columns]"
            ]
          },
          "metadata": {},
          "execution_count": 55
        }
      ]
    },
    {
      "cell_type": "markdown",
      "metadata": {
        "id": "ujFyXb0mKR4w"
      },
      "source": [
        "###Filtrado de filas y columnas"
      ]
    },
    {
      "cell_type": "code",
      "metadata": {
        "colab": {
          "base_uri": "https://localhost:8080/",
          "height": 112
        },
        "id": "7MtQVVAxKWmy",
        "outputId": "3a30b537-f54d-4db2-ed80-1184b1ba1a66"
      },
      "source": [
        "df.loc[[40,50],[\"RECORD_CREATION_DATE\",\"MONTO_DEL_PRESTAMO\"]] #filtra por identificador y trae las columnas indicadas"
      ],
      "execution_count": 58,
      "outputs": [
        {
          "output_type": "execute_result",
          "data": {
            "text/html": [
              "<div>\n",
              "<style scoped>\n",
              "    .dataframe tbody tr th:only-of-type {\n",
              "        vertical-align: middle;\n",
              "    }\n",
              "\n",
              "    .dataframe tbody tr th {\n",
              "        vertical-align: top;\n",
              "    }\n",
              "\n",
              "    .dataframe thead th {\n",
              "        text-align: right;\n",
              "    }\n",
              "</style>\n",
              "<table border=\"1\" class=\"dataframe\">\n",
              "  <thead>\n",
              "    <tr style=\"text-align: right;\">\n",
              "      <th></th>\n",
              "      <th>RECORD_CREATION_DATE</th>\n",
              "      <th>MONTO_DEL_PRESTAMO</th>\n",
              "    </tr>\n",
              "  </thead>\n",
              "  <tbody>\n",
              "    <tr>\n",
              "      <th>40</th>\n",
              "      <td>02May2014:12:42:57.000000</td>\n",
              "      <td>2500</td>\n",
              "    </tr>\n",
              "    <tr>\n",
              "      <th>50</th>\n",
              "      <td>02May2014:15:50:53.000000</td>\n",
              "      <td>6900</td>\n",
              "    </tr>\n",
              "  </tbody>\n",
              "</table>\n",
              "</div>"
            ],
            "text/plain": [
              "         RECORD_CREATION_DATE  MONTO_DEL_PRESTAMO\n",
              "40  02May2014:12:42:57.000000                2500\n",
              "50  02May2014:15:50:53.000000                6900"
            ]
          },
          "metadata": {},
          "execution_count": 58
        }
      ]
    },
    {
      "cell_type": "markdown",
      "metadata": {
        "id": "gmLqw_R1SmTT"
      },
      "source": [
        "###Filtrado por condiciones"
      ]
    },
    {
      "cell_type": "code",
      "metadata": {
        "colab": {
          "base_uri": "https://localhost:8080/",
          "height": 617
        },
        "id": "uMKu_IL7SqN6",
        "outputId": "e851b547-19c5-4f2c-b68c-31d4b24f9084"
      },
      "source": [
        "#df[df[\"MONTO_DEL_PRESTAMO\"]>10000] #Trae la columna cuyo valor es mayor a 10000\n",
        "df[(df[\"MONTO_DEL_PRESTAMO\"]>20000) & (df[\"PRESTAMO_INCUMPLIDO\"]==\"VERDADERO\")] #Trae dos columnas por condiciones"
      ],
      "execution_count": 68,
      "outputs": [
        {
          "output_type": "execute_result",
          "data": {
            "text/html": [
              "<div>\n",
              "<style scoped>\n",
              "    .dataframe tbody tr th:only-of-type {\n",
              "        vertical-align: middle;\n",
              "    }\n",
              "\n",
              "    .dataframe tbody tr th {\n",
              "        vertical-align: top;\n",
              "    }\n",
              "\n",
              "    .dataframe thead th {\n",
              "        text-align: right;\n",
              "    }\n",
              "</style>\n",
              "<table border=\"1\" class=\"dataframe\">\n",
              "  <thead>\n",
              "    <tr style=\"text-align: right;\">\n",
              "      <th></th>\n",
              "      <th>RECORD_CREATION_DATE</th>\n",
              "      <th>MONTO_DEL_PRESTAMO</th>\n",
              "      <th>RANGO_DEL_CREDITO</th>\n",
              "      <th>DEUDA_EXISTENTE</th>\n",
              "      <th>NOTAS_DEL_AGENTE</th>\n",
              "      <th>UBICACION_DE_LA_OFICINA</th>\n",
              "      <th>PRESTAMO_INCUMPLIDO</th>\n",
              "    </tr>\n",
              "  </thead>\n",
              "  <tbody>\n",
              "    <tr>\n",
              "      <th>4</th>\n",
              "      <td>01May2014:10:46:54.000000</td>\n",
              "      <td>20100</td>\n",
              "      <td>780-799</td>\n",
              "      <td>$90,001-$100,000</td>\n",
              "      <td>Pagos mensuales de deuda verificados: $1,700</td>\n",
              "      <td>SOUTHERN CALIFORNIA</td>\n",
              "      <td>VERDADERO</td>\n",
              "    </tr>\n",
              "    <tr>\n",
              "      <th>202</th>\n",
              "      <td>09May2014:17:25:39.000000</td>\n",
              "      <td>23100</td>\n",
              "      <td>780-799</td>\n",
              "      <td>$50,001-$60,000</td>\n",
              "      <td>NaN</td>\n",
              "      <td>ARIZONA</td>\n",
              "      <td>VERDADERO</td>\n",
              "    </tr>\n",
              "    <tr>\n",
              "      <th>223</th>\n",
              "      <td>12May2014:14:22:04.000000</td>\n",
              "      <td>31500</td>\n",
              "      <td>740-759</td>\n",
              "      <td>$100,000+</td>\n",
              "      <td>Ingreso anual neto: $200,000</td>\n",
              "      <td>SOUTHERN CALIFORNIA</td>\n",
              "      <td>VERDADERO</td>\n",
              "    </tr>\n",
              "    <tr>\n",
              "      <th>237</th>\n",
              "      <td>13May2014:09:04:42.000000</td>\n",
              "      <td>35000</td>\n",
              "      <td>760-779</td>\n",
              "      <td>NaN</td>\n",
              "      <td>NaN</td>\n",
              "      <td>ARIZONA</td>\n",
              "      <td>VERDADERO</td>\n",
              "    </tr>\n",
              "    <tr>\n",
              "      <th>261</th>\n",
              "      <td>13May2014:17:38:45.000000</td>\n",
              "      <td>35000</td>\n",
              "      <td>720-739</td>\n",
              "      <td>NaN</td>\n",
              "      <td>El cliente no tiene deuda</td>\n",
              "      <td>WASHINGTON STATE</td>\n",
              "      <td>VERDADERO</td>\n",
              "    </tr>\n",
              "    <tr>\n",
              "      <th>...</th>\n",
              "      <td>...</td>\n",
              "      <td>...</td>\n",
              "      <td>...</td>\n",
              "      <td>...</td>\n",
              "      <td>...</td>\n",
              "      <td>...</td>\n",
              "      <td>...</td>\n",
              "    </tr>\n",
              "    <tr>\n",
              "      <th>7537</th>\n",
              "      <td>16Apr2015:15:43:02.000000</td>\n",
              "      <td>23100</td>\n",
              "      <td>780-799</td>\n",
              "      <td>NaN</td>\n",
              "      <td>Ingreso anual neto: $54,300</td>\n",
              "      <td>SOUTHERN CALIFORNIA</td>\n",
              "      <td>VERDADERO</td>\n",
              "    </tr>\n",
              "    <tr>\n",
              "      <th>7738</th>\n",
              "      <td>27Apr2015:12:38:53.000000</td>\n",
              "      <td>22000</td>\n",
              "      <td>800+</td>\n",
              "      <td>$100,000+</td>\n",
              "      <td>Ingreso mensual neto 13,030</td>\n",
              "      <td>SOUTHERN CALIFORNIA</td>\n",
              "      <td>VERDADERO</td>\n",
              "    </tr>\n",
              "    <tr>\n",
              "      <th>7772</th>\n",
              "      <td>28Apr2015:14:59:04.000000</td>\n",
              "      <td>29900</td>\n",
              "      <td>700-719</td>\n",
              "      <td>$100,000+</td>\n",
              "      <td>Ingreso mensual neto 12,480</td>\n",
              "      <td>NORTHERN CALIFORNIA</td>\n",
              "      <td>VERDADERO</td>\n",
              "    </tr>\n",
              "    <tr>\n",
              "      <th>7918</th>\n",
              "      <td>05May2015:12:13:29.000000</td>\n",
              "      <td>35000</td>\n",
              "      <td>780-799</td>\n",
              "      <td>NaN</td>\n",
              "      <td>El cliente no tiene deuda</td>\n",
              "      <td>ARIZONA</td>\n",
              "      <td>VERDADERO</td>\n",
              "    </tr>\n",
              "    <tr>\n",
              "      <th>7962</th>\n",
              "      <td>06May2015:15:50:39.000000</td>\n",
              "      <td>22400</td>\n",
              "      <td>740-759</td>\n",
              "      <td>$1-$10,000</td>\n",
              "      <td>Ingreso anual neto: $23,600...Pagos mensuales ...</td>\n",
              "      <td>NEVADA</td>\n",
              "      <td>VERDADERO</td>\n",
              "    </tr>\n",
              "  </tbody>\n",
              "</table>\n",
              "<p>68 rows × 7 columns</p>\n",
              "</div>"
            ],
            "text/plain": [
              "           RECORD_CREATION_DATE  ...  PRESTAMO_INCUMPLIDO\n",
              "4     01May2014:10:46:54.000000  ...            VERDADERO\n",
              "202   09May2014:17:25:39.000000  ...            VERDADERO\n",
              "223   12May2014:14:22:04.000000  ...            VERDADERO\n",
              "237   13May2014:09:04:42.000000  ...            VERDADERO\n",
              "261   13May2014:17:38:45.000000  ...            VERDADERO\n",
              "...                         ...  ...                  ...\n",
              "7537  16Apr2015:15:43:02.000000  ...            VERDADERO\n",
              "7738  27Apr2015:12:38:53.000000  ...            VERDADERO\n",
              "7772  28Apr2015:14:59:04.000000  ...            VERDADERO\n",
              "7918  05May2015:12:13:29.000000  ...            VERDADERO\n",
              "7962  06May2015:15:50:39.000000  ...            VERDADERO\n",
              "\n",
              "[68 rows x 7 columns]"
            ]
          },
          "metadata": {},
          "execution_count": 68
        }
      ]
    },
    {
      "cell_type": "markdown",
      "metadata": {
        "id": "W01sfq5UT9bu"
      },
      "source": [
        "####Filtrado por condiciones de texto"
      ]
    },
    {
      "cell_type": "code",
      "metadata": {
        "colab": {
          "base_uri": "https://localhost:8080/",
          "height": 548
        },
        "id": "cVbwq7A9UCzn",
        "outputId": "71c061e8-a080-43f9-c0c7-ea7c5421dd4f"
      },
      "source": [
        "df[df[\"UBICACION_DE_LA_OFICINA\"].str.contains(\"ARIZONA\")] #trae todas las filas del df donde la columna contenga lo que se requiera"
      ],
      "execution_count": 70,
      "outputs": [
        {
          "output_type": "execute_result",
          "data": {
            "text/html": [
              "<div>\n",
              "<style scoped>\n",
              "    .dataframe tbody tr th:only-of-type {\n",
              "        vertical-align: middle;\n",
              "    }\n",
              "\n",
              "    .dataframe tbody tr th {\n",
              "        vertical-align: top;\n",
              "    }\n",
              "\n",
              "    .dataframe thead th {\n",
              "        text-align: right;\n",
              "    }\n",
              "</style>\n",
              "<table border=\"1\" class=\"dataframe\">\n",
              "  <thead>\n",
              "    <tr style=\"text-align: right;\">\n",
              "      <th></th>\n",
              "      <th>RECORD_CREATION_DATE</th>\n",
              "      <th>MONTO_DEL_PRESTAMO</th>\n",
              "      <th>RANGO_DEL_CREDITO</th>\n",
              "      <th>DEUDA_EXISTENTE</th>\n",
              "      <th>NOTAS_DEL_AGENTE</th>\n",
              "      <th>UBICACION_DE_LA_OFICINA</th>\n",
              "      <th>PRESTAMO_INCUMPLIDO</th>\n",
              "    </tr>\n",
              "  </thead>\n",
              "  <tbody>\n",
              "    <tr>\n",
              "      <th>2</th>\n",
              "      <td>01May2014:10:10:36.000000</td>\n",
              "      <td>6300</td>\n",
              "      <td>740-759</td>\n",
              "      <td>$100,000+</td>\n",
              "      <td>NaN</td>\n",
              "      <td>ARIZONA</td>\n",
              "      <td>VERDADERO</td>\n",
              "    </tr>\n",
              "    <tr>\n",
              "      <th>6</th>\n",
              "      <td>01May2014:11:23:11.000000</td>\n",
              "      <td>2500</td>\n",
              "      <td>700-719</td>\n",
              "      <td>$100,000+</td>\n",
              "      <td>Ingreso anual neto: $63,100</td>\n",
              "      <td>ARIZONA</td>\n",
              "      <td>VERDADERO</td>\n",
              "    </tr>\n",
              "    <tr>\n",
              "      <th>16</th>\n",
              "      <td>01May2014:14:53:53.000000</td>\n",
              "      <td>2500</td>\n",
              "      <td>780-799</td>\n",
              "      <td>$1-$10,000</td>\n",
              "      <td>Ingreso anual neto: $17,300</td>\n",
              "      <td>ARIZONA</td>\n",
              "      <td>FALSO</td>\n",
              "    </tr>\n",
              "    <tr>\n",
              "      <th>21</th>\n",
              "      <td>01May2014:15:58:39.000000</td>\n",
              "      <td>2500</td>\n",
              "      <td>780-799</td>\n",
              "      <td>NaN</td>\n",
              "      <td>El cliente no tiene deuda...Ingreso anual neto...</td>\n",
              "      <td>ARIZONA</td>\n",
              "      <td>VERDADERO</td>\n",
              "    </tr>\n",
              "    <tr>\n",
              "      <th>22</th>\n",
              "      <td>01May2014:16:26:10.000000</td>\n",
              "      <td>2500</td>\n",
              "      <td>740-759</td>\n",
              "      <td>$20,001-$30,000</td>\n",
              "      <td>Ingreso mensual neto 4,150</td>\n",
              "      <td>ARIZONA</td>\n",
              "      <td>FALSO</td>\n",
              "    </tr>\n",
              "    <tr>\n",
              "      <th>...</th>\n",
              "      <td>...</td>\n",
              "      <td>...</td>\n",
              "      <td>...</td>\n",
              "      <td>...</td>\n",
              "      <td>...</td>\n",
              "      <td>...</td>\n",
              "      <td>...</td>\n",
              "    </tr>\n",
              "    <tr>\n",
              "      <th>7980</th>\n",
              "      <td>07May2015:11:33:06.000000</td>\n",
              "      <td>3300</td>\n",
              "      <td>780-799</td>\n",
              "      <td>$20,001-$30,000</td>\n",
              "      <td>NaN</td>\n",
              "      <td>ARIZONA</td>\n",
              "      <td>FALSO</td>\n",
              "    </tr>\n",
              "    <tr>\n",
              "      <th>7983</th>\n",
              "      <td>07May2015:12:01:37.000000</td>\n",
              "      <td>4100</td>\n",
              "      <td>800+</td>\n",
              "      <td>NaN</td>\n",
              "      <td>El cliente no tiene deuda</td>\n",
              "      <td>ARIZONA</td>\n",
              "      <td>FALSO</td>\n",
              "    </tr>\n",
              "    <tr>\n",
              "      <th>7988</th>\n",
              "      <td>07May2015:13:37:23.000000</td>\n",
              "      <td>4300</td>\n",
              "      <td>740-759</td>\n",
              "      <td>$1-$10,000</td>\n",
              "      <td>NaN</td>\n",
              "      <td>ARIZONA</td>\n",
              "      <td>VERDADERO</td>\n",
              "    </tr>\n",
              "    <tr>\n",
              "      <th>7989</th>\n",
              "      <td>07May2015:13:58:59.000000</td>\n",
              "      <td>3400</td>\n",
              "      <td>700-719</td>\n",
              "      <td>$20,001-$30,000</td>\n",
              "      <td>NaN</td>\n",
              "      <td>ARIZONA</td>\n",
              "      <td>FALSO</td>\n",
              "    </tr>\n",
              "    <tr>\n",
              "      <th>7994</th>\n",
              "      <td>07May2015:15:44:07.000000</td>\n",
              "      <td>7400</td>\n",
              "      <td>740-759</td>\n",
              "      <td>$20,001-$30,000</td>\n",
              "      <td>NaN</td>\n",
              "      <td>ARIZONA</td>\n",
              "      <td>FALSO</td>\n",
              "    </tr>\n",
              "  </tbody>\n",
              "</table>\n",
              "<p>1621 rows × 7 columns</p>\n",
              "</div>"
            ],
            "text/plain": [
              "           RECORD_CREATION_DATE  ...  PRESTAMO_INCUMPLIDO\n",
              "2     01May2014:10:10:36.000000  ...            VERDADERO\n",
              "6     01May2014:11:23:11.000000  ...            VERDADERO\n",
              "16    01May2014:14:53:53.000000  ...                FALSO\n",
              "21    01May2014:15:58:39.000000  ...            VERDADERO\n",
              "22    01May2014:16:26:10.000000  ...                FALSO\n",
              "...                         ...  ...                  ...\n",
              "7980  07May2015:11:33:06.000000  ...                FALSO\n",
              "7983  07May2015:12:01:37.000000  ...                FALSO\n",
              "7988  07May2015:13:37:23.000000  ...            VERDADERO\n",
              "7989  07May2015:13:58:59.000000  ...                FALSO\n",
              "7994  07May2015:15:44:07.000000  ...                FALSO\n",
              "\n",
              "[1621 rows x 7 columns]"
            ]
          },
          "metadata": {},
          "execution_count": 70
        }
      ]
    },
    {
      "cell_type": "markdown",
      "metadata": {
        "id": "IP6Mp1TOUZI3"
      },
      "source": [
        "##Transformacion de datos"
      ]
    },
    {
      "cell_type": "code",
      "metadata": {
        "colab": {
          "base_uri": "https://localhost:8080/",
          "height": 522
        },
        "id": "kGEgwIxHUd6C",
        "outputId": "73c890b0-63e0-442b-9a68-0381574ba30b"
      },
      "source": [
        "import random\n",
        "group = def interes(MONTO_DEL_PRESTAMO):\n",
        "  interes = MONTO_DEL_PRESTAMO * random.randint(1,4)\n",
        "  return interes\n",
        "df_filtrado[\"INTERES_DEL_PRESTAMO\"] = df_filtrado[\"MONTO_DEL_PRESTAMO\"].apply(interes)\n",
        "df_filtrado.head(10)"
      ],
      "execution_count": 100,
      "outputs": [
        {
          "output_type": "execute_result",
          "data": {
            "text/html": [
              "<div>\n",
              "<style scoped>\n",
              "    .dataframe tbody tr th:only-of-type {\n",
              "        vertical-align: middle;\n",
              "    }\n",
              "\n",
              "    .dataframe tbody tr th {\n",
              "        vertical-align: top;\n",
              "    }\n",
              "\n",
              "    .dataframe thead th {\n",
              "        text-align: right;\n",
              "    }\n",
              "</style>\n",
              "<table border=\"1\" class=\"dataframe\">\n",
              "  <thead>\n",
              "    <tr style=\"text-align: right;\">\n",
              "      <th></th>\n",
              "      <th>RECORD_CREATION_DATE</th>\n",
              "      <th>MONTO_DEL_PRESTAMO</th>\n",
              "      <th>RANGO_DEL_CREDITO</th>\n",
              "      <th>DEUDA_EXISTENTE</th>\n",
              "      <th>NOTAS_DEL_AGENTE</th>\n",
              "      <th>UBICACION_DE_LA_OFICINA</th>\n",
              "      <th>PRESTAMO_INCUMPLIDO</th>\n",
              "      <th>INTERES_DEL_PRESTAMO</th>\n",
              "    </tr>\n",
              "  </thead>\n",
              "  <tbody>\n",
              "    <tr>\n",
              "      <th>0</th>\n",
              "      <td>01May2014:09:24:27.000000</td>\n",
              "      <td>2500</td>\n",
              "      <td>760-779</td>\n",
              "      <td>$10,001-$20,000</td>\n",
              "      <td>-1</td>\n",
              "      <td>NORTHERN CALIFORNIA</td>\n",
              "      <td>FALSO</td>\n",
              "      <td>7500</td>\n",
              "    </tr>\n",
              "    <tr>\n",
              "      <th>1</th>\n",
              "      <td>01May2014:09:48:36.000000</td>\n",
              "      <td>2500</td>\n",
              "      <td>700-719</td>\n",
              "      <td>$1-$10,000</td>\n",
              "      <td>Ingreso anual neto: $25,400</td>\n",
              "      <td>SOUTHERN CALIFORNIA</td>\n",
              "      <td>FALSO</td>\n",
              "      <td>7500</td>\n",
              "    </tr>\n",
              "    <tr>\n",
              "      <th>2</th>\n",
              "      <td>01May2014:10:10:36.000000</td>\n",
              "      <td>6300</td>\n",
              "      <td>740-759</td>\n",
              "      <td>$100,000+</td>\n",
              "      <td>-1</td>\n",
              "      <td>ARIZONA</td>\n",
              "      <td>VERDADERO</td>\n",
              "      <td>12600</td>\n",
              "    </tr>\n",
              "    <tr>\n",
              "      <th>3</th>\n",
              "      <td>01May2014:10:31:25.000000</td>\n",
              "      <td>4300</td>\n",
              "      <td>780-799</td>\n",
              "      <td>$1-$10,000</td>\n",
              "      <td>Ingreso anual neto: $191,900</td>\n",
              "      <td>SOUTHERN CALIFORNIA</td>\n",
              "      <td>FALSO</td>\n",
              "      <td>8600</td>\n",
              "    </tr>\n",
              "    <tr>\n",
              "      <th>4</th>\n",
              "      <td>01May2014:10:46:54.000000</td>\n",
              "      <td>20100</td>\n",
              "      <td>780-799</td>\n",
              "      <td>$90,001-$100,000</td>\n",
              "      <td>Pagos mensuales de deuda verificados: $1,700</td>\n",
              "      <td>SOUTHERN CALIFORNIA</td>\n",
              "      <td>VERDADERO</td>\n",
              "      <td>80400</td>\n",
              "    </tr>\n",
              "    <tr>\n",
              "      <th>5</th>\n",
              "      <td>01May2014:11:14:12.000000</td>\n",
              "      <td>6600</td>\n",
              "      <td>760-779</td>\n",
              "      <td>$10,001-$20,000</td>\n",
              "      <td>-1</td>\n",
              "      <td>NORTHERN CALIFORNIA</td>\n",
              "      <td>FALSO</td>\n",
              "      <td>13200</td>\n",
              "    </tr>\n",
              "    <tr>\n",
              "      <th>6</th>\n",
              "      <td>01May2014:11:23:11.000000</td>\n",
              "      <td>2500</td>\n",
              "      <td>700-719</td>\n",
              "      <td>$100,000+</td>\n",
              "      <td>Ingreso anual neto: $63,100</td>\n",
              "      <td>ARIZONA</td>\n",
              "      <td>VERDADERO</td>\n",
              "      <td>5000</td>\n",
              "    </tr>\n",
              "    <tr>\n",
              "      <th>7</th>\n",
              "      <td>01May2014:11:53:24.000000</td>\n",
              "      <td>10000</td>\n",
              "      <td>760-779</td>\n",
              "      <td>$20,001-$30,000</td>\n",
              "      <td>-1</td>\n",
              "      <td>SOUTHERN CALIFORNIA</td>\n",
              "      <td>FALSO</td>\n",
              "      <td>20000</td>\n",
              "    </tr>\n",
              "    <tr>\n",
              "      <th>8</th>\n",
              "      <td>01May2014:12:18:53.000000</td>\n",
              "      <td>8900</td>\n",
              "      <td>740-759</td>\n",
              "      <td>$80,001-$90,000</td>\n",
              "      <td>-1</td>\n",
              "      <td>NORTHERN CALIFORNIA</td>\n",
              "      <td>FALSO</td>\n",
              "      <td>8900</td>\n",
              "    </tr>\n",
              "    <tr>\n",
              "      <th>9</th>\n",
              "      <td>01May2014:12:32:41.000000</td>\n",
              "      <td>2500</td>\n",
              "      <td>760-779</td>\n",
              "      <td>$30,001-$40,000</td>\n",
              "      <td>Pagos mensuales de deuda verificados: $590...I...</td>\n",
              "      <td>NORTHERN CALIFORNIA</td>\n",
              "      <td>FALSO</td>\n",
              "      <td>10000</td>\n",
              "    </tr>\n",
              "  </tbody>\n",
              "</table>\n",
              "</div>"
            ],
            "text/plain": [
              "        RECORD_CREATION_DATE  ...  INTERES_DEL_PRESTAMO\n",
              "0  01May2014:09:24:27.000000  ...                  7500\n",
              "1  01May2014:09:48:36.000000  ...                  7500\n",
              "2  01May2014:10:10:36.000000  ...                 12600\n",
              "3  01May2014:10:31:25.000000  ...                  8600\n",
              "4  01May2014:10:46:54.000000  ...                 80400\n",
              "5  01May2014:11:14:12.000000  ...                 13200\n",
              "6  01May2014:11:23:11.000000  ...                  5000\n",
              "7  01May2014:11:53:24.000000  ...                 20000\n",
              "8  01May2014:12:18:53.000000  ...                  8900\n",
              "9  01May2014:12:32:41.000000  ...                 10000\n",
              "\n",
              "[10 rows x 8 columns]"
            ]
          },
          "metadata": {},
          "execution_count": 100
        }
      ]
    },
    {
      "cell_type": "markdown",
      "metadata": {
        "id": "X_B8k2oyXObU"
      },
      "source": [
        "##Agrupación de datos"
      ]
    },
    {
      "cell_type": "code",
      "metadata": {
        "colab": {
          "base_uri": "https://localhost:8080/",
          "height": 269
        },
        "id": "q6rGn9AMXTAH",
        "outputId": "404d1e4a-1d8e-4d58-963b-378ff4d50b44"
      },
      "source": [
        "#df.groupby(\"UBICACION_DE_LA_OFICINA\").mean() #Agrupa la columna especificada por el promedio\n",
        "df.groupby(\"UBICACION_DE_LA_OFICINA\").agg({\n",
        "    \"MONTO_DEL_PRESTAMO\": 'sum'\n",
        "})"
      ],
      "execution_count": 93,
      "outputs": [
        {
          "output_type": "execute_result",
          "data": {
            "text/html": [
              "<div>\n",
              "<style scoped>\n",
              "    .dataframe tbody tr th:only-of-type {\n",
              "        vertical-align: middle;\n",
              "    }\n",
              "\n",
              "    .dataframe tbody tr th {\n",
              "        vertical-align: top;\n",
              "    }\n",
              "\n",
              "    .dataframe thead th {\n",
              "        text-align: right;\n",
              "    }\n",
              "</style>\n",
              "<table border=\"1\" class=\"dataframe\">\n",
              "  <thead>\n",
              "    <tr style=\"text-align: right;\">\n",
              "      <th></th>\n",
              "      <th>MONTO_DEL_PRESTAMO</th>\n",
              "    </tr>\n",
              "    <tr>\n",
              "      <th>UBICACION_DE_LA_OFICINA</th>\n",
              "      <th></th>\n",
              "    </tr>\n",
              "  </thead>\n",
              "  <tbody>\n",
              "    <tr>\n",
              "      <th>ARIZONA</th>\n",
              "      <td>10612900</td>\n",
              "    </tr>\n",
              "    <tr>\n",
              "      <th>NEVADA</th>\n",
              "      <td>6758500</td>\n",
              "    </tr>\n",
              "    <tr>\n",
              "      <th>NORTHERN CALIFORNIA</th>\n",
              "      <td>11324600</td>\n",
              "    </tr>\n",
              "    <tr>\n",
              "      <th>OREGON</th>\n",
              "      <td>4713900</td>\n",
              "    </tr>\n",
              "    <tr>\n",
              "      <th>SOUTHERN CALIFORNIA</th>\n",
              "      <td>13573600</td>\n",
              "    </tr>\n",
              "    <tr>\n",
              "      <th>WASHINGTON STATE</th>\n",
              "      <td>5034600</td>\n",
              "    </tr>\n",
              "  </tbody>\n",
              "</table>\n",
              "</div>"
            ],
            "text/plain": [
              "                         MONTO_DEL_PRESTAMO\n",
              "UBICACION_DE_LA_OFICINA                    \n",
              "ARIZONA                            10612900\n",
              "NEVADA                              6758500\n",
              "NORTHERN CALIFORNIA                11324600\n",
              "OREGON                              4713900\n",
              "SOUTHERN CALIFORNIA                13573600\n",
              "WASHINGTON STATE                    5034600"
            ]
          },
          "metadata": {},
          "execution_count": 93
        }
      ]
    },
    {
      "cell_type": "markdown",
      "metadata": {
        "id": "SBrQcE6xZrqF"
      },
      "source": [
        "###Filtrado de agrupación de datos"
      ]
    },
    {
      "cell_type": "code",
      "metadata": {
        "colab": {
          "base_uri": "https://localhost:8080/",
          "height": 238
        },
        "id": "o_oxhs6KZvEE",
        "outputId": "957b366d-caf9-4662-a850-d5188e345168"
      },
      "source": [
        "grouped = df.groupby(\"UBICACION_DE_LA_OFICINA\").agg({\n",
        "    \"MONTO_DEL_PRESTAMO\": 'sum'\n",
        "})\n",
        "grouped[grouped[\"MONTO_DEL_PRESTAMO\"]>4713900]"
      ],
      "execution_count": 94,
      "outputs": [
        {
          "output_type": "execute_result",
          "data": {
            "text/html": [
              "<div>\n",
              "<style scoped>\n",
              "    .dataframe tbody tr th:only-of-type {\n",
              "        vertical-align: middle;\n",
              "    }\n",
              "\n",
              "    .dataframe tbody tr th {\n",
              "        vertical-align: top;\n",
              "    }\n",
              "\n",
              "    .dataframe thead th {\n",
              "        text-align: right;\n",
              "    }\n",
              "</style>\n",
              "<table border=\"1\" class=\"dataframe\">\n",
              "  <thead>\n",
              "    <tr style=\"text-align: right;\">\n",
              "      <th></th>\n",
              "      <th>MONTO_DEL_PRESTAMO</th>\n",
              "    </tr>\n",
              "    <tr>\n",
              "      <th>UBICACION_DE_LA_OFICINA</th>\n",
              "      <th></th>\n",
              "    </tr>\n",
              "  </thead>\n",
              "  <tbody>\n",
              "    <tr>\n",
              "      <th>ARIZONA</th>\n",
              "      <td>10612900</td>\n",
              "    </tr>\n",
              "    <tr>\n",
              "      <th>NEVADA</th>\n",
              "      <td>6758500</td>\n",
              "    </tr>\n",
              "    <tr>\n",
              "      <th>NORTHERN CALIFORNIA</th>\n",
              "      <td>11324600</td>\n",
              "    </tr>\n",
              "    <tr>\n",
              "      <th>SOUTHERN CALIFORNIA</th>\n",
              "      <td>13573600</td>\n",
              "    </tr>\n",
              "    <tr>\n",
              "      <th>WASHINGTON STATE</th>\n",
              "      <td>5034600</td>\n",
              "    </tr>\n",
              "  </tbody>\n",
              "</table>\n",
              "</div>"
            ],
            "text/plain": [
              "                         MONTO_DEL_PRESTAMO\n",
              "UBICACION_DE_LA_OFICINA                    \n",
              "ARIZONA                            10612900\n",
              "NEVADA                              6758500\n",
              "NORTHERN CALIFORNIA                11324600\n",
              "SOUTHERN CALIFORNIA                13573600\n",
              "WASHINGTON STATE                    5034600"
            ]
          },
          "metadata": {},
          "execution_count": 94
        }
      ]
    },
    {
      "cell_type": "markdown",
      "metadata": {
        "id": "v-TY99A7aIss"
      },
      "source": [
        "##Graficación de datos"
      ]
    },
    {
      "cell_type": "markdown",
      "metadata": {
        "id": "_YPNU8gybngK"
      },
      "source": [
        "###Gráfico de Lineas"
      ]
    },
    {
      "cell_type": "code",
      "metadata": {
        "colab": {
          "base_uri": "https://localhost:8080/",
          "height": 288
        },
        "id": "f-3gdWRSavDY",
        "outputId": "f2d74985-7739-416b-f60b-65dfe1a36c54"
      },
      "source": [
        "import matplotlib.pyplot as plt\n",
        "plt.figure(figsize=(15,6))\n",
        "grouped[\"MONTO_DEL_PRESTAMO\"].plot()\n",
        "plt.show()"
      ],
      "execution_count": 98,
      "outputs": [
        {
          "output_type": "display_data",
          "data": {
            "image/png": "[encoded data removed]",
            "text/plain": [
              "<Figure size 1080x432 with 1 Axes>"
            ]
          },
          "metadata": {
            "needs_background": "light"
          }
        }
      ]
    },
    {
      "cell_type": "markdown",
      "metadata": {
        "id": "_jc0qIikbtTD"
      },
      "source": [
        "Gráfico de Barras"
      ]
    },
    {
      "cell_type": "code",
      "metadata": {
        "colab": {
          "base_uri": "https://localhost:8080/",
          "height": 400
        },
        "id": "WHjX0PD9bv2o",
        "outputId": "5e0e4e3e-8c7b-4b29-9893-06bf2de1d07e"
      },
      "source": [
        "grouped[\"MONTO_DEL_PRESTAMO\"].plot(kind='bar')\n",
        "plt.ylabel('MONTO_DEL_PRESTAMO')\n",
        "plt.show()"
      ],
      "execution_count": 103,
      "outputs": [
        {
          "output_type": "display_data",
          "data": {
            "image/png": "[encoded data removed]",
            "text/plain": [
              "<Figure size 432x288 with 1 Axes>"
            ]
          },
          "metadata": {
            "needs_background": "light"
          }
        }
      ]
    },
    {
      "cell_type": "markdown",
      "metadata": {
        "id": "ZLplPvuA0kXg"
      },
      "source": [
        "#User_timestamp.csv"
      ]
    },
    {
      "cell_type": "code",
      "metadata": {
        "id": "jICFnX-20oI6"
      },
      "source": [
        "import pandas as pd\n",
        "df = pd.read_csv(\"https://raw.githubusercontent.com/luisFernandoCastellanosG/Machine_learning/master/DataScience/DataSet's/user_timestamp.csv\")\n",
        "#index_col=\"user_id\""
      ],
      "execution_count": 104,
      "outputs": []
    },
    {
      "cell_type": "markdown",
      "metadata": {
        "id": "NmMR2IPIbzW0"
      },
      "source": [
        "##Limpieza de datos"
      ]
    },
    {
      "cell_type": "code",
      "metadata": {
        "id": "coEJljj0Znpz",
        "colab": {
          "base_uri": "https://localhost:8080/",
          "height": 300
        },
        "outputId": "fc49907c-68ec-45e4-d749-febfdb76bc72"
      },
      "source": [
        "#df.head() #trae los primeros datos\n",
        "#df.tail()\n",
        "df.describe()\n",
        "#df.dropna()\n",
        "#df_filtrado = df.dropna() #Eliminar datos que son nulos\n",
        "#df_filtrado.head() #Muestra los datos eliminados que son nulos\n",
        "#df.fillna(0) #Agrega un 0 en las casillas que tengan datos nulos \n",
        "#df_filtrado = df.fillna({\"col1\":0,\"col2\":-1})"
      ],
      "execution_count": 105,
      "outputs": [
        {
          "output_type": "execute_result",
          "data": {
            "text/html": [
              "<div>\n",
              "<style scoped>\n",
              "    .dataframe tbody tr th:only-of-type {\n",
              "        vertical-align: middle;\n",
              "    }\n",
              "\n",
              "    .dataframe tbody tr th {\n",
              "        vertical-align: top;\n",
              "    }\n",
              "\n",
              "    .dataframe thead th {\n",
              "        text-align: right;\n",
              "    }\n",
              "</style>\n",
              "<table border=\"1\" class=\"dataframe\">\n",
              "  <thead>\n",
              "    <tr style=\"text-align: right;\">\n",
              "      <th></th>\n",
              "      <th>user_id</th>\n",
              "    </tr>\n",
              "  </thead>\n",
              "  <tbody>\n",
              "    <tr>\n",
              "      <th>count</th>\n",
              "      <td>61582.000000</td>\n",
              "    </tr>\n",
              "    <tr>\n",
              "      <th>mean</th>\n",
              "      <td>473.695025</td>\n",
              "    </tr>\n",
              "    <tr>\n",
              "      <th>std</th>\n",
              "      <td>298.947097</td>\n",
              "    </tr>\n",
              "    <tr>\n",
              "      <th>min</th>\n",
              "      <td>0.000000</td>\n",
              "    </tr>\n",
              "    <tr>\n",
              "      <th>25%</th>\n",
              "      <td>205.000000</td>\n",
              "    </tr>\n",
              "    <tr>\n",
              "      <th>50%</th>\n",
              "      <td>456.000000</td>\n",
              "    </tr>\n",
              "    <tr>\n",
              "      <th>75%</th>\n",
              "      <td>728.000000</td>\n",
              "    </tr>\n",
              "    <tr>\n",
              "      <th>max</th>\n",
              "      <td>1014.000000</td>\n",
              "    </tr>\n",
              "  </tbody>\n",
              "</table>\n",
              "</div>"
            ],
            "text/plain": [
              "            user_id\n",
              "count  61582.000000\n",
              "mean     473.695025\n",
              "std      298.947097\n",
              "min        0.000000\n",
              "25%      205.000000\n",
              "50%      456.000000\n",
              "75%      728.000000\n",
              "max     1014.000000"
            ]
          },
          "metadata": {},
          "execution_count": 105
        }
      ]
    },
    {
      "cell_type": "markdown",
      "metadata": {
        "id": "szKblDhobxTd"
      },
      "source": [
        "##Filtrado de datos"
      ]
    },
    {
      "cell_type": "code",
      "metadata": {
        "id": "ZUOwqW05b7Po",
        "colab": {
          "base_uri": "https://localhost:8080/",
          "height": 424
        },
        "outputId": "49b26299-fe7b-4f8c-8490-21c2140bdf7c"
      },
      "source": [
        "#df[\"timestamp\"] #trae una columna\n",
        "df[[\"user_id\",\"timestamp\"]] #trae varias columnas"
      ],
      "execution_count": 106,
      "outputs": [
        {
          "output_type": "execute_result",
          "data": {
            "text/html": [
              "<div>\n",
              "<style scoped>\n",
              "    .dataframe tbody tr th:only-of-type {\n",
              "        vertical-align: middle;\n",
              "    }\n",
              "\n",
              "    .dataframe tbody tr th {\n",
              "        vertical-align: top;\n",
              "    }\n",
              "\n",
              "    .dataframe thead th {\n",
              "        text-align: right;\n",
              "    }\n",
              "</style>\n",
              "<table border=\"1\" class=\"dataframe\">\n",
              "  <thead>\n",
              "    <tr style=\"text-align: right;\">\n",
              "      <th></th>\n",
              "      <th>user_id</th>\n",
              "      <th>timestamp</th>\n",
              "    </tr>\n",
              "  </thead>\n",
              "  <tbody>\n",
              "    <tr>\n",
              "      <th>0</th>\n",
              "      <td>621.0</td>\n",
              "      <td>0:00:02</td>\n",
              "    </tr>\n",
              "    <tr>\n",
              "      <th>1</th>\n",
              "      <td>818.0</td>\n",
              "      <td>0:00:10</td>\n",
              "    </tr>\n",
              "    <tr>\n",
              "      <th>2</th>\n",
              "      <td>4.0</td>\n",
              "      <td>0:00:21</td>\n",
              "    </tr>\n",
              "    <tr>\n",
              "      <th>3</th>\n",
              "      <td>563.0</td>\n",
              "      <td>0:00:21</td>\n",
              "    </tr>\n",
              "    <tr>\n",
              "      <th>4</th>\n",
              "      <td>671.0</td>\n",
              "      <td>0:00:26</td>\n",
              "    </tr>\n",
              "    <tr>\n",
              "      <th>...</th>\n",
              "      <td>...</td>\n",
              "      <td>...</td>\n",
              "    </tr>\n",
              "    <tr>\n",
              "      <th>71991</th>\n",
              "      <td>NaN</td>\n",
              "      <td>NaN</td>\n",
              "    </tr>\n",
              "    <tr>\n",
              "      <th>71992</th>\n",
              "      <td>NaN</td>\n",
              "      <td>NaN</td>\n",
              "    </tr>\n",
              "    <tr>\n",
              "      <th>71993</th>\n",
              "      <td>NaN</td>\n",
              "      <td>NaN</td>\n",
              "    </tr>\n",
              "    <tr>\n",
              "      <th>71994</th>\n",
              "      <td>NaN</td>\n",
              "      <td>NaN</td>\n",
              "    </tr>\n",
              "    <tr>\n",
              "      <th>71995</th>\n",
              "      <td>NaN</td>\n",
              "      <td>NaN</td>\n",
              "    </tr>\n",
              "  </tbody>\n",
              "</table>\n",
              "<p>71996 rows × 2 columns</p>\n",
              "</div>"
            ],
            "text/plain": [
              "       user_id timestamp\n",
              "0        621.0   0:00:02\n",
              "1        818.0   0:00:10\n",
              "2          4.0   0:00:21\n",
              "3        563.0   0:00:21\n",
              "4        671.0   0:00:26\n",
              "...        ...       ...\n",
              "71991      NaN       NaN\n",
              "71992      NaN       NaN\n",
              "71993      NaN       NaN\n",
              "71994      NaN       NaN\n",
              "71995      NaN       NaN\n",
              "\n",
              "[71996 rows x 2 columns]"
            ]
          },
          "metadata": {},
          "execution_count": 106
        }
      ]
    },
    {
      "cell_type": "markdown",
      "metadata": {
        "id": "Fjdr6JW4c6Ow"
      },
      "source": [
        "##Filtrado de Filas"
      ]
    },
    {
      "cell_type": "code",
      "metadata": {
        "colab": {
          "base_uri": "https://localhost:8080/",
          "height": 112
        },
        "id": "NQ6mhKwkc8ku",
        "outputId": "1677fffd-79bb-4568-c663-77e71ad0a69e"
      },
      "source": [
        "#df.iloc[0] #trae los datos de la fila 0\n",
        "#df.iloc[0:3] #trae los datos de la fila 0 hasta la 3\n",
        "#df.iloc[[0,1,2]] #trae filas especificas\n",
        "df.loc[[20,22]] #filtra por identificador}"
      ],
      "execution_count": 107,
      "outputs": [
        {
          "output_type": "execute_result",
          "data": {
            "text/html": [
              "<div>\n",
              "<style scoped>\n",
              "    .dataframe tbody tr th:only-of-type {\n",
              "        vertical-align: middle;\n",
              "    }\n",
              "\n",
              "    .dataframe tbody tr th {\n",
              "        vertical-align: top;\n",
              "    }\n",
              "\n",
              "    .dataframe thead th {\n",
              "        text-align: right;\n",
              "    }\n",
              "</style>\n",
              "<table border=\"1\" class=\"dataframe\">\n",
              "  <thead>\n",
              "    <tr style=\"text-align: right;\">\n",
              "      <th></th>\n",
              "      <th>user_id</th>\n",
              "      <th>timestamp</th>\n",
              "    </tr>\n",
              "  </thead>\n",
              "  <tbody>\n",
              "    <tr>\n",
              "      <th>20</th>\n",
              "      <td>531.0</td>\n",
              "      <td>0:01:53</td>\n",
              "    </tr>\n",
              "    <tr>\n",
              "      <th>22</th>\n",
              "      <td>612.0</td>\n",
              "      <td>0:02:47</td>\n",
              "    </tr>\n",
              "  </tbody>\n",
              "</table>\n",
              "</div>"
            ],
            "text/plain": [
              "    user_id timestamp\n",
              "20    531.0   0:01:53\n",
              "22    612.0   0:02:47"
            ]
          },
          "metadata": {},
          "execution_count": 107
        }
      ]
    },
    {
      "cell_type": "markdown",
      "metadata": {
        "id": "c0ztuQm6d40y"
      },
      "source": [
        "##Filtrado de filas y columnas"
      ]
    },
    {
      "cell_type": "code",
      "metadata": {
        "id": "mFfjdJIVd68J",
        "colab": {
          "base_uri": "https://localhost:8080/",
          "height": 112
        },
        "outputId": "5bcecd68-85d4-4597-d7ae-f8bf62c5776f"
      },
      "source": [
        "df.loc[[40,50],[\"user_id\",\"timestamp\"]] #filtra por identificador y trae las columnas indicadas"
      ],
      "execution_count": 108,
      "outputs": [
        {
          "output_type": "execute_result",
          "data": {
            "text/html": [
              "<div>\n",
              "<style scoped>\n",
              "    .dataframe tbody tr th:only-of-type {\n",
              "        vertical-align: middle;\n",
              "    }\n",
              "\n",
              "    .dataframe tbody tr th {\n",
              "        vertical-align: top;\n",
              "    }\n",
              "\n",
              "    .dataframe thead th {\n",
              "        text-align: right;\n",
              "    }\n",
              "</style>\n",
              "<table border=\"1\" class=\"dataframe\">\n",
              "  <thead>\n",
              "    <tr style=\"text-align: right;\">\n",
              "      <th></th>\n",
              "      <th>user_id</th>\n",
              "      <th>timestamp</th>\n",
              "    </tr>\n",
              "  </thead>\n",
              "  <tbody>\n",
              "    <tr>\n",
              "      <th>40</th>\n",
              "      <td>341.0</td>\n",
              "      <td>0:05:54</td>\n",
              "    </tr>\n",
              "    <tr>\n",
              "      <th>50</th>\n",
              "      <td>218.0</td>\n",
              "      <td>0:07:36</td>\n",
              "    </tr>\n",
              "  </tbody>\n",
              "</table>\n",
              "</div>"
            ],
            "text/plain": [
              "    user_id timestamp\n",
              "40    341.0   0:05:54\n",
              "50    218.0   0:07:36"
            ]
          },
          "metadata": {},
          "execution_count": 108
        }
      ]
    },
    {
      "cell_type": "markdown",
      "metadata": {
        "id": "xs66P9g8ebAs"
      },
      "source": [
        "##Filtrado por condiciones"
      ]
    },
    {
      "cell_type": "code",
      "metadata": {
        "id": "ON0bIwBjeicZ",
        "colab": {
          "base_uri": "https://localhost:8080/",
          "height": 424
        },
        "outputId": "595c17dd-12b4-4242-a1bc-efc803ae4eea"
      },
      "source": [
        "#df[df[\"user_id\"]>800] #trae la columna cuyo valor es mayor a 800\n",
        "df[(df[\"user_id\"]>800) & (df[\"timestamp\"])] #Trae dos columnas por condiciones\n",
        "#df[df[\"timestamp\"].str.contains(\"programa\")] #trae todas las filas del df donde la columna contenga lo que se requiera"
      ],
      "execution_count": 109,
      "outputs": [
        {
          "output_type": "execute_result",
          "data": {
            "text/html": [
              "<div>\n",
              "<style scoped>\n",
              "    .dataframe tbody tr th:only-of-type {\n",
              "        vertical-align: middle;\n",
              "    }\n",
              "\n",
              "    .dataframe tbody tr th {\n",
              "        vertical-align: top;\n",
              "    }\n",
              "\n",
              "    .dataframe thead th {\n",
              "        text-align: right;\n",
              "    }\n",
              "</style>\n",
              "<table border=\"1\" class=\"dataframe\">\n",
              "  <thead>\n",
              "    <tr style=\"text-align: right;\">\n",
              "      <th></th>\n",
              "      <th>user_id</th>\n",
              "      <th>timestamp</th>\n",
              "    </tr>\n",
              "  </thead>\n",
              "  <tbody>\n",
              "    <tr>\n",
              "      <th>1</th>\n",
              "      <td>818.0</td>\n",
              "      <td>0:00:10</td>\n",
              "    </tr>\n",
              "    <tr>\n",
              "      <th>9</th>\n",
              "      <td>831.0</td>\n",
              "      <td>0:01:04</td>\n",
              "    </tr>\n",
              "    <tr>\n",
              "      <th>12</th>\n",
              "      <td>818.0</td>\n",
              "      <td>0:01:32</td>\n",
              "    </tr>\n",
              "    <tr>\n",
              "      <th>15</th>\n",
              "      <td>971.0</td>\n",
              "      <td>0:01:43</td>\n",
              "    </tr>\n",
              "    <tr>\n",
              "      <th>19</th>\n",
              "      <td>941.0</td>\n",
              "      <td>0:01:50</td>\n",
              "    </tr>\n",
              "    <tr>\n",
              "      <th>...</th>\n",
              "      <td>...</td>\n",
              "      <td>...</td>\n",
              "    </tr>\n",
              "    <tr>\n",
              "      <th>61567</th>\n",
              "      <td>948.0</td>\n",
              "      <td>23:58:15</td>\n",
              "    </tr>\n",
              "    <tr>\n",
              "      <th>61568</th>\n",
              "      <td>995.0</td>\n",
              "      <td>23:58:23</td>\n",
              "    </tr>\n",
              "    <tr>\n",
              "      <th>61575</th>\n",
              "      <td>873.0</td>\n",
              "      <td>23:59:08</td>\n",
              "    </tr>\n",
              "    <tr>\n",
              "      <th>61576</th>\n",
              "      <td>808.0</td>\n",
              "      <td>23:59:13</td>\n",
              "    </tr>\n",
              "    <tr>\n",
              "      <th>61580</th>\n",
              "      <td>968.0</td>\n",
              "      <td>23:59:53</td>\n",
              "    </tr>\n",
              "  </tbody>\n",
              "</table>\n",
              "<p>11757 rows × 2 columns</p>\n",
              "</div>"
            ],
            "text/plain": [
              "       user_id timestamp\n",
              "1        818.0   0:00:10\n",
              "9        831.0   0:01:04\n",
              "12       818.0   0:01:32\n",
              "15       971.0   0:01:43\n",
              "19       941.0   0:01:50\n",
              "...        ...       ...\n",
              "61567    948.0  23:58:15\n",
              "61568    995.0  23:58:23\n",
              "61575    873.0  23:59:08\n",
              "61576    808.0  23:59:13\n",
              "61580    968.0  23:59:53\n",
              "\n",
              "[11757 rows x 2 columns]"
            ]
          },
          "metadata": {},
          "execution_count": 109
        }
      ]
    },
    {
      "cell_type": "markdown",
      "metadata": {
        "id": "4NVq1RMuNvOG"
      },
      "source": [
        "#LIBRERIA MATPLOTLIB"
      ]
    },
    {
      "cell_type": "markdown",
      "metadata": {
        "id": "-bRZ7HBjSJmr"
      },
      "source": [
        "##Line Plots"
      ]
    },
    {
      "cell_type": "code",
      "metadata": {
        "colab": {
          "base_uri": "https://localhost:8080/",
          "height": 404
        },
        "id": "qvpRBTorNvBo",
        "outputId": "43c2b747-5559-4b30-f38d-94a51e215e96"
      },
      "source": [
        "import matplotlib.pyplot as plt\n",
        "\n",
        "plt.figure(figsize=(10,6))\n",
        "\n",
        "# Pais 1\n",
        "x = [2016,2017,2018,2019,2020,2021]\n",
        "y = [42,43,45,47,48,50]\n",
        "\n",
        "# Pais 2\n",
        "x2 = [2016,2017,2018,2019,2020,2021]\n",
        "y2 = [43,43,44,44,45,45]\n",
        "\n",
        "plt.plot(x,y, marker='o', linestyle='--',color='g',label='Colombia')\n",
        "plt.plot(x2,y2,marker='d', linestyle='-',color='r',label='Argentina')\n",
        "\n",
        "plt.xlabel('Años')\n",
        "plt.ylabel('Poblacion (M)')\n",
        "plt.title('Años vs Poblacion')\n",
        "plt.legend(loc='lower right')\n",
        "\n",
        "plt.yticks([41,45,48,51])\n",
        "\n",
        "#plt.savefig('matlib.png')\n",
        "\n",
        "plt.show()"
      ],
      "execution_count": null,
      "outputs": [
        {
          "output_type": "display_data",
          "data": {
            "image/png": "[encoded data removed]",
            "text/plain": [
              "<Figure size 720x432 with 1 Axes>"
            ]
          },
          "metadata": {
            "needs_background": "light"
          }
        }
      ]
    },
    {
      "cell_type": "markdown",
      "metadata": {
        "id": "K5JMwtE7SPzT"
      },
      "source": [
        "##Bar Plots"
      ]
    },
    {
      "cell_type": "code",
      "metadata": {
        "colab": {
          "base_uri": "https://localhost:8080/",
          "height": 265
        },
        "id": "xXNpvo1XSVjB",
        "outputId": "85ad7f5b-170f-4d2b-fcb7-0f7abf121d8f"
      },
      "source": [
        "x = ['Argentina','Colombia','Peru']\n",
        "y = [40,50,33]\n",
        "\n",
        "plt.bar(x,y)\n",
        "plt.show()"
      ],
      "execution_count": null,
      "outputs": [
        {
          "output_type": "display_data",
          "data": {
            "image/png": "[encoded data removed]",
            "text/plain": [
              "<Figure size 432x288 with 1 Axes>"
            ]
          },
          "metadata": {
            "needs_background": "light"
          }
        }
      ]
    },
    {
      "cell_type": "markdown",
      "metadata": {
        "id": "bRDU1u3pS2SK"
      },
      "source": [
        "##Piecharts"
      ]
    },
    {
      "cell_type": "code",
      "metadata": {
        "colab": {
          "base_uri": "https://localhost:8080/",
          "height": 248
        },
        "id": "pFWQK8qmS6Tu",
        "outputId": "6401c728-9c12-4bdc-9a52-17a6b55a7131"
      },
      "source": [
        "plt.pie(y,labels=x)\n",
        "plt.show()"
      ],
      "execution_count": null,
      "outputs": [
        {
          "output_type": "display_data",
          "data": {
            "image/png": "[encoded data removed]",
            "text/plain": [
              "<Figure size 432x288 with 1 Axes>"
            ]
          },
          "metadata": {}
        }
      ]
    },
    {
      "cell_type": "markdown",
      "metadata": {
        "id": "2fY4wZZ7TM4H"
      },
      "source": [
        "##Histograms"
      ]
    },
    {
      "cell_type": "code",
      "metadata": {
        "colab": {
          "base_uri": "https://localhost:8080/",
          "height": 265
        },
        "id": "6y4ewV7rTQIh",
        "outputId": "153da9b4-a019-4481-9b32-5a1f09414480"
      },
      "source": [
        "edades = [15,16,17,20,21,21,22,23,24,25,26,30,31,32,35]\n",
        "bins = [15,20,25,30,35]\n",
        "\n",
        "plt.hist(edades,bins,edgecolor='black')\n",
        "plt.show()"
      ],
      "execution_count": null,
      "outputs": [
        {
          "output_type": "display_data",
          "data": {
            "image/png": "[encoded data removed]",
            "text/plain": [
              "<Figure size 432x288 with 1 Axes>"
            ]
          },
          "metadata": {
            "needs_background": "light"
          }
        }
      ]
    },
    {
      "cell_type": "markdown",
      "metadata": {
        "id": "h_sDXdmyTrz7"
      },
      "source": [
        "##Boxplots"
      ]
    },
    {
      "cell_type": "code",
      "metadata": {
        "colab": {
          "base_uri": "https://localhost:8080/",
          "height": 265
        },
        "id": "B8fpCgloTx9-",
        "outputId": "aa7d835b-131c-4be7-9bb1-839f289a9032"
      },
      "source": [
        "edades = [15,16,17,20,21,21,22,23,24,25,26,30,31,32,35,70]\n",
        "plt.boxplot(edades)\n",
        "plt.show()"
      ],
      "execution_count": null,
      "outputs": [
        {
          "output_type": "display_data",
          "data": {
            "image/png": "[encoded data removed]",
            "text/plain": [
              "<Figure size 432x288 with 1 Axes>"
            ]
          },
          "metadata": {
            "needs_background": "light"
          }
        }
      ]
    },
    {
      "cell_type": "markdown",
      "metadata": {
        "id": "vddSzbaPUDRg"
      },
      "source": [
        "##Scatterplot"
      ]
    },
    {
      "cell_type": "code",
      "metadata": {
        "colab": {
          "base_uri": "https://localhost:8080/",
          "height": 265
        },
        "id": "TrxGeqWbUMRE",
        "outputId": "5373afcf-a380-4322-afe1-ee0bcb94f91a"
      },
      "source": [
        "a = [1,2,3,4,5,4,3,2,2,4,5,6,7]\n",
        "b = [7,2,3,5,5,7,3,2,1,4,6,3,2]\n",
        "\n",
        "plt.scatter(a,b)\n",
        "plt.show()"
      ],
      "execution_count": null,
      "outputs": [
        {
          "output_type": "display_data",
          "data": {
            "image/png": "[encoded data removed]",
            "text/plain": [
              "<Figure size 432x288 with 1 Axes>"
            ]
          },
          "metadata": {
            "needs_background": "light"
          }
        }
      ]
    },
    {
      "cell_type": "markdown",
      "metadata": {
        "id": "dWZuGJVUUhLb"
      },
      "source": [
        "##Subplots"
      ]
    },
    {
      "cell_type": "code",
      "metadata": {
        "colab": {
          "base_uri": "https://localhost:8080/",
          "height": 265
        },
        "id": "pi0xE12RUm9n",
        "outputId": "60768516-b4e9-4ed4-8156-455d0142f84a"
      },
      "source": [
        "fig,ax = plt.subplots(1,2,sharey=True)\n",
        "\n",
        "ax[0].plot(x,y,color='g',label='Colombia')\n",
        "ax[0].legend()\n",
        "ax[1].plot(x2,y2,color='r',label='Argentina')\n",
        "ax[1].legend()\n",
        "\n",
        "plt.show()"
      ],
      "execution_count": null,
      "outputs": [
        {
          "output_type": "display_data",
          "data": {
            "image/png": "[encoded data removed]",
            "text/plain": [
              "<Figure size 432x288 with 2 Axes>"
            ]
          },
          "metadata": {
            "needs_background": "light"
          }
        }
      ]
    }
  ]
}